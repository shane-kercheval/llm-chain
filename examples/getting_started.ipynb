{
 "cells": [
  {
   "attachments": {},
   "cell_type": "markdown",
   "metadata": {},
   "source": [
    "This notebook is ran in a docker container where the project directory (i.e. same directory as README.md) is located in `/code`, which is set below. If you run locally you'll need to set the path of your project directory accordingly.\n",
    "\n",
    "The `load_dotenv` function below loads all the variables found in the `.env` file as environment variables. You must have a `.env` file located in the project directory containing your OpenAI API key, in the following format.\n",
    "\n",
    "```\n",
    "OPENAI_API_KEY=sk-...\n",
    "```"
   ]
  },
  {
   "attachments": {},
   "cell_type": "markdown",
   "metadata": {},
   "source": [
    "---"
   ]
  },
  {
   "cell_type": "code",
   "execution_count": 1,
   "metadata": {},
   "outputs": [
    {
     "name": "stdout",
     "output_type": "stream",
     "text": [
      "/code\n"
     ]
    }
   ],
   "source": [
    "%cd /code"
   ]
  },
  {
   "cell_type": "code",
   "execution_count": 2,
   "metadata": {},
   "outputs": [
    {
     "data": {
      "text/plain": [
       "True"
      ]
     },
     "execution_count": 2,
     "metadata": {},
     "output_type": "execute_result"
    }
   ],
   "source": [
    "from dotenv import load_dotenv\n",
    "load_dotenv()"
   ]
  },
  {
   "attachments": {},
   "cell_type": "markdown",
   "metadata": {},
   "source": [
    "---"
   ]
  },
  {
   "attachments": {},
   "cell_type": "markdown",
   "metadata": {},
   "source": [
    "# Examples"
   ]
  },
  {
   "attachments": {},
   "cell_type": "markdown",
   "metadata": {},
   "source": [
    "## OpenAI Chat"
   ]
  },
  {
   "attachments": {},
   "cell_type": "markdown",
   "metadata": {},
   "source": [
    "### Simple example showing history and usages/costs"
   ]
  },
  {
   "cell_type": "code",
   "execution_count": 4,
   "metadata": {},
   "outputs": [
    {
     "name": "stdout",
     "output_type": "stream",
     "text": [
      "The| meaning| of| life| is| a| philosophical| question| that| has| been| debated| by| scholars|,| theolog|ians|,| and| philosophers| for| centuries|.| There| is| no| one| definitive| answer| to| this| question|,| as| it| can| vary| depending| on| one|'s| beliefs|,| values|,| and| experiences|.| Some| people| believe| that| the| meaning| of| life| is| to| seek| happiness|,| while| others| believe| it| is| to| fulfill| a| specific| purpose| or| destiny|.| Ultimately|,| the| meaning| of| life| is| a| personal| and| subjective| concept| that| each| individual| must| determine| for| themselves|.|"
     ]
    }
   ],
   "source": [
    "from llm_chain.models import OpenAIChat\n",
    "\n",
    "chat = OpenAIChat(\n",
    "    model_name='gpt-3.5-turbo',\n",
    "    temperature=0,\n",
    "    streaming_callback=lambda x: print(x.response, end='|')\n",
    ")\n",
    "response = chat(\"What is the meaning of life?\")"
   ]
  },
  {
   "cell_type": "code",
   "execution_count": 5,
   "metadata": {},
   "outputs": [
    {
     "name": "stdout",
     "output_type": "stream",
     "text": [
      "('The meaning of life is a philosophical question that has been debated by '\n",
      " 'scholars, theologians, and philosophers for centuries. There is no one '\n",
      " \"definitive answer to this question, as it can vary depending on one's \"\n",
      " 'beliefs, values, and experiences. Some people believe that the meaning of '\n",
      " 'life is to seek happiness, while others believe it is to fulfill a specific '\n",
      " 'purpose or destiny. Ultimately, the meaning of life is a personal and '\n",
      " 'subjective concept that each individual must determine for themselves.')\n"
     ]
    }
   ],
   "source": [
    "# response is streamed above but also returned at the end of the call\n",
    "from pprint import pprint\n",
    "pprint(response)"
   ]
  },
  {
   "cell_type": "code",
   "execution_count": 6,
   "metadata": {},
   "outputs": [],
   "source": [
    "# the model object tracks usage/cost data across all messages  \n",
    "def print_usage(model: OpenAIChat):\n",
    "    usage = f\"\"\"\n",
    "    Total Cost: ${model.total_cost:.6f}\n",
    "    Total Tokens: {model.total_tokens:,}\n",
    "    Total Prompt Tokens: {model.total_prompt_tokens:,}\n",
    "    Total Response Tokens: {model.total_response_tokens:,}\n",
    "    \"\"\"\n",
    "    print(usage)"
   ]
  },
  {
   "cell_type": "code",
   "execution_count": 7,
   "metadata": {},
   "outputs": [
    {
     "name": "stdout",
     "output_type": "stream",
     "text": [
      "\n",
      "    Total Cost: $0.000227\n",
      "    Total Tokens: 120\n",
      "    Total Prompt Tokens: 26\n",
      "    Total Response Tokens: 94\n",
      "    \n"
     ]
    }
   ],
   "source": [
    "print_usage(model=chat)"
   ]
  },
  {
   "cell_type": "code",
   "execution_count": 8,
   "metadata": {},
   "outputs": [
    {
     "name": "stdout",
     "output_type": "stream",
     "text": [
      "previous prompt: What is the meaning of life?\n",
      "previous response: The meaning of life is a philosophical question that has been debated by scholars, theologians, and philosophers for centuries. There is no one definitive answer to this question, as it can vary depending on one's beliefs, values, and experiences. Some people believe that the meaning of life is to seek happiness, while others believe it is to fulfill a specific purpose or destiny. Ultimately, the meaning of life is a personal and subjective concept that each individual must determine for themselves.\n"
     ]
    }
   ],
   "source": [
    "# Or you can get the last prompt/response\n",
    "print(f\"previous prompt: {chat.previous_prompt}\")\n",
    "print(f\"previous response: {chat.previous_response}\")"
   ]
  },
  {
   "cell_type": "code",
   "execution_count": 9,
   "metadata": {},
   "outputs": [
    {
     "name": "stdout",
     "output_type": "stream",
     "text": [
      "timestamp: 2023-06-22 05:32:23.246; prompt: \"What is the meaning ...\"; response: \"The meaning of life ...\";  cost: $0.000227; total_tokens: 120; metadata: {'model_name': 'gpt-3.5-turbo'}\n"
     ]
    }
   ],
   "source": [
    "# the `history` property contains a list of `MessageMetaData` objects for each message (i.e.\n",
    "# prompt & response) which contains usage/cost data for that message.\n",
    "for record in chat.history:\n",
    "    print(record)"
   ]
  },
  {
   "cell_type": "code",
   "execution_count": 10,
   "metadata": {},
   "outputs": [
    {
     "data": {
      "text/plain": [
       "[{'role': 'system', 'content': 'You are a helpful assistant.'},\n",
       " {'role': 'user', 'content': 'What is the meaning of life?'}]"
      ]
     },
     "execution_count": 10,
     "metadata": {},
     "output_type": "execute_result"
    }
   ],
   "source": [
    "# you can also see the exact messages sent to ChatGPT\n",
    "chat._previous_memory"
   ]
  },
  {
   "attachments": {},
   "cell_type": "markdown",
   "metadata": {},
   "source": [
    "---"
   ]
  },
  {
   "attachments": {},
   "cell_type": "markdown",
   "metadata": {},
   "source": [
    "## Using Web Search (via DuckDuckGo) to ask questions."
   ]
  },
  {
   "attachments": {},
   "cell_type": "markdown",
   "metadata": {},
   "source": [
    "---"
   ]
  },
  {
   "cell_type": "code",
   "execution_count": 11,
   "metadata": {},
   "outputs": [
    {
     "name": "stdout",
     "output_type": "stream",
     "text": [
      "The| meaning| of| life| is| complex| and| subjective|,| with| no| definitive| answer|,| and| may| distract| from| actually| living| it|.|"
     ]
    }
   ],
   "source": [
    "from llm_chain.base import Document, Chain, Value\n",
    "from llm_chain.models import OpenAIEmbeddings, OpenAIChat\n",
    "from llm_chain.tools import DuckDuckGoSearch, html_page_loader, split_documents\n",
    "from llm_chain.indexes import ChromaDocumentIndex\n",
    "from llm_chain.prompt_templates import DocSearchTemplate\n",
    "\n",
    "duckduckgo_search = DuckDuckGoSearch(top_n=3)\n",
    "\n",
    "document_index = ChromaDocumentIndex(embeddings_model=OpenAIEmbeddings(model_name='text-embedding-ada-002'))\n",
    "prompt_template = DocSearchTemplate(doc_index=document_index, n_docs=2)\n",
    "# OpenAI Chat model\n",
    "non_streaming_chat = OpenAIChat(model_name='gpt-3.5-turbo')\n",
    "\n",
    "streaming_callback = lambda x: print(x.response, end='|')\n",
    "streaming_chat = OpenAIChat(model_name='gpt-3.5-turbo', streaming_callback=streaming_callback)\n",
    "\n",
    "# for each url, extracts text, cleans, returns doc\n",
    "def search_results_to_docs(results: list[dict]) -> list[Document]:\n",
    "    return [Document(content=html_page_loader(x['href']).replace('\\n', ' ')) for x in results]\n",
    "\n",
    "initial_question = Value()\n",
    "question_2 = lambda x: f'Summarize the following in less than 20 words: \"{x}\"'\n",
    "# each link is a callable where the output of one link is the input to the next\n",
    "chain = Chain(links=[\n",
    "    initial_question,\n",
    "    duckduckgo_search,\n",
    "    search_results_to_docs,\n",
    "    split_documents,  # defaults to chunk-size of 500\n",
    "    document_index,  # __call__ function calls add() or search() based on input\n",
    "    initial_question,\n",
    "    prompt_template,\n",
    "    non_streaming_chat,\n",
    "    question_2,\n",
    "    streaming_chat,\n",
    "])\n",
    "\n",
    "response = chain(\"What is the meaning of life?\")"
   ]
  },
  {
   "cell_type": "code",
   "execution_count": 12,
   "metadata": {},
   "outputs": [
    {
     "data": {
      "text/plain": [
       "'The meaning of life is complex and subjective, with no definitive answer, and may distract from actually living it.'"
      ]
     },
     "execution_count": 12,
     "metadata": {},
     "output_type": "execute_result"
    }
   ],
   "source": [
    "response"
   ]
  },
  {
   "cell_type": "code",
   "execution_count": 13,
   "metadata": {},
   "outputs": [
    {
     "name": "stdout",
     "output_type": "stream",
     "text": [
      "Cost: $0.0054\n",
      "Tokens: 45,642\n"
     ]
    }
   ],
   "source": [
    "print(f\"Cost: ${chain.total_cost:.4f}\")\n",
    "print(f\"Tokens: {chain.total_tokens:,}\")"
   ]
  },
  {
   "cell_type": "code",
   "execution_count": 14,
   "metadata": {},
   "outputs": [
    {
     "data": {
      "text/markdown": [
       "## MESSAGE:  0"
      ],
      "text/plain": [
       "<IPython.core.display.Markdown object>"
      ]
     },
     "metadata": {},
     "output_type": "display_data"
    },
    {
     "data": {
      "text/markdown": [
       "### PROMPT:\n",
       "Answer the question at the end of the text as truthfully and accurately as possible, based on the following information provided.\n",
       "\n",
       "Here is the information:\n",
       "\n",
       "```\n",
       "the meaning of life at all? To what purpose is it played, this farce in which everything that is essential is irrevocably fixed and determined?[5]Questions about the meaning of life have been expressed in a broad variety of other ways, including: What is the meaning of life? What's it all about? Who are we?[6][7][8] Why are we here? What are we here for?[9][10][11] What is the origin of life?[12] What is the nature of life? What is the nature of reality?[12][13][14] What is the purpose of life? \n",
       "\n",
       "to the meaning of life is too profound to be known and understood.[189] You will never live if you are looking for the meaning of life.[161] The meaning of life is to forget about the search for the meaning of life.[161] Ultimately, a person should not ask what the meaning of their life is, but rather must recognize that it is they themselves who are asked. In a word, each person is questioned by life; and they can only answer to life by answering for their own life; to life they can only respon\n",
       "```\n",
       "\n",
       "Here is the question:\n",
       "\n",
       "What is the meaning of life?"
      ],
      "text/plain": [
       "<IPython.core.display.Markdown object>"
      ]
     },
     "metadata": {},
     "output_type": "display_data"
    },
    {
     "data": {
      "text/markdown": [
       "### RESPONSE:\n",
       " > The meaning of life is a profound question that has been expressed in various ways, but the text suggests that it may be too profound to be fully understood or known. Some perspectives suggest that the search for the meaning of life may be a distraction from actually living it, and that individuals must answer for their own lives in order to find purpose. Therefore, there is no one definitive answer to the question of the meaning of life."
      ],
      "text/plain": [
       "<IPython.core.display.Markdown object>"
      ]
     },
     "metadata": {},
     "output_type": "display_data"
    },
    {
     "data": {
      "text/markdown": [
       "---"
      ],
      "text/plain": [
       "<IPython.core.display.Markdown object>"
      ]
     },
     "metadata": {},
     "output_type": "display_data"
    },
    {
     "data": {
      "text/markdown": [
       "## MESSAGE:  1"
      ],
      "text/plain": [
       "<IPython.core.display.Markdown object>"
      ]
     },
     "metadata": {},
     "output_type": "display_data"
    },
    {
     "data": {
      "text/markdown": [
       "### PROMPT:\n",
       "Summarize the following in less than 20 words: \"The meaning of life is a profound question that has been expressed in various ways, but the text suggests that it may be too profound to be fully understood or known. Some perspectives suggest that the search for the meaning of life may be a distraction from actually living it, and that individuals must answer for their own lives in order to find purpose. Therefore, there is no one definitive answer to the question of the meaning of life.\""
      ],
      "text/plain": [
       "<IPython.core.display.Markdown object>"
      ]
     },
     "metadata": {},
     "output_type": "display_data"
    },
    {
     "data": {
      "text/markdown": [
       "### RESPONSE:\n",
       " > The meaning of life is complex and subjective, with no definitive answer, and may distract from actually living it."
      ],
      "text/plain": [
       "<IPython.core.display.Markdown object>"
      ]
     },
     "metadata": {},
     "output_type": "display_data"
    },
    {
     "data": {
      "text/markdown": [
       "---"
      ],
      "text/plain": [
       "<IPython.core.display.Markdown object>"
      ]
     },
     "metadata": {},
     "output_type": "display_data"
    }
   ],
   "source": [
    "from IPython.display import display, Markdown\n",
    "for index, record in enumerate(chain.message_history):\n",
    "    display(Markdown(f\"## MESSAGE:  {index}\"))\n",
    "    display(Markdown(f\"### PROMPT:\\n{record.prompt.strip()}\"))\n",
    "    display(Markdown(f\"### RESPONSE:\\n > {record.response.strip()}\"))\n",
    "    display(Markdown(\"---\"))"
   ]
  },
  {
   "cell_type": "code",
   "execution_count": 15,
   "metadata": {},
   "outputs": [
    {
     "data": {
      "text/plain": [
       "[{'title': 'Life Definition & Meaning - Merriam-Webster',\n",
       "  'href': 'https://www.merriam-webster.com/dictionary/life',\n",
       "  'body': 'life: [noun] the quality that distinguishes a vital and functional being from a dead body. a principle or force that is considered to underlie the distinctive quality of animate beings. an organismic state characterized by capacity for metabolism (see metabolism 1), growth, reaction to stimuli, and reproduction.'},\n",
       " {'title': 'Meaning of life - Wikipedia',\n",
       "  'href': 'https://en.wikipedia.org/wiki/Meaning_of_life',\n",
       "  'body': 'The meaning of life, or the answer to the question: \"What is the meaning of life?\", pertains to the significance of living or existence in general. Many other related questions include: \"Why are we here?\", \"What is life all about?\", or \"What is the purpose of existence?\"'},\n",
       " {'title': 'What Is the Meaning of Life According to Positive Psychology',\n",
       "  'href': 'https://positivepsychology.com/meaning-of-life-positive-psychology/',\n",
       "  'body': '\"The sole meaning of life is to serve humanity.\" Leo Tolstoy \"For the meaning of life differs from man to man, from day to day, and from hour to hour. What matters, therefore, is not the meaning of life in general but rather the specific meaning of a person\\'s life at a given moment.\" Viktor Frankl'}]"
      ]
     },
     "execution_count": 15,
     "metadata": {},
     "output_type": "execute_result"
    }
   ],
   "source": [
    "duckduckgo_search.history[0].results"
   ]
  },
  {
   "attachments": {},
   "cell_type": "markdown",
   "metadata": {},
   "source": [
    "---"
   ]
  },
  {
   "cell_type": "code",
   "execution_count": 16,
   "metadata": {},
   "outputs": [
    {
     "name": "stdout",
     "output_type": "stream",
     "text": [
      "Lang|Chain| Document| Loader| transforms| various| data| formats| into| a| standard| structure| for| language| models| to| process|.|"
     ]
    },
    {
     "data": {
      "text/plain": [
       "'LangChain Document Loader transforms various data formats into a standard structure for language models to process.'"
      ]
     },
     "execution_count": 16,
     "metadata": {},
     "output_type": "execute_result"
    }
   ],
   "source": [
    "response = chain(\"What is a langchain document loader?\")\n",
    "response"
   ]
  },
  {
   "attachments": {},
   "cell_type": "markdown",
   "metadata": {},
   "source": [
    "---"
   ]
  },
  {
   "cell_type": "code",
   "execution_count": 20,
   "metadata": {},
   "outputs": [
    {
     "data": {
      "text/plain": [
       "[SearchRecord(uuid='77f5c02e-a70d-4b42-bb14-d0200f76b0e1', timestamp='2023-06-22 05:32:57.424', metadata={}, query='What is the meaning of life?', results=[{'title': 'Life Definition & Meaning - Merriam-Webster', 'href': 'https://www.merriam-webster.com/dictionary/life', 'body': 'life: [noun] the quality that distinguishes a vital and functional being from a dead body. a principle or force that is considered to underlie the distinctive quality of animate beings. an organismic state characterized by capacity for metabolism (see metabolism 1), growth, reaction to stimuli, and reproduction.'}, {'title': 'Meaning of life - Wikipedia', 'href': 'https://en.wikipedia.org/wiki/Meaning_of_life', 'body': 'The meaning of life, or the answer to the question: \"What is the meaning of life?\", pertains to the significance of living or existence in general. Many other related questions include: \"Why are we here?\", \"What is life all about?\", or \"What is the purpose of existence?\"'}, {'title': 'What Is the Meaning of Life According to Positive Psychology', 'href': 'https://positivepsychology.com/meaning-of-life-positive-psychology/', 'body': '\"The sole meaning of life is to serve humanity.\" Leo Tolstoy \"For the meaning of life differs from man to man, from day to day, and from hour to hour. What matters, therefore, is not the meaning of life in general but rather the specific meaning of a person\\'s life at a given moment.\" Viktor Frankl'}]),\n",
       " EmbeddingsRecord(uuid='f0aa4ba5-a7e7-48b0-b544-84013690c70a', timestamp='2023-06-22 05:33:00.924', metadata={'model_name': 'text-embedding-ada-002'}, total_tokens=45105, cost=0.004510500000000001),\n",
       " EmbeddingsRecord(uuid='81d55844-8a29-4091-b574-dd00516fbcf2', timestamp='2023-06-22 05:33:01.676', metadata={'model_name': 'text-embedding-ada-002'}, total_tokens=7, cost=7.000000000000001e-07),\n",
       " MessageRecord(uuid='2e25b26e-860e-4fe6-80f9-52dcfe6bb838', timestamp='2023-06-22 05:33:05.289', metadata={'model_name': 'gpt-3.5-turbo'}, total_tokens=391, cost=0.000629, prompt=\"\\nAnswer the question at the end of the text as truthfully and accurately as possible, based on the following information provided.\\n\\nHere is the information:\\n\\n```\\nthe meaning of life at all? To what purpose is it played, this farce in which everything that is essential is irrevocably fixed and determined?[5]Questions about the meaning of life have been expressed in a broad variety of other ways, including: What is the meaning of life? What's it all about? Who are we?[6][7][8] Why are we here? What are we here for?[9][10][11] What is the origin of life?[12] What is the nature of life? What is the nature of reality?[12][13][14] What is the purpose of life? \\n\\nto the meaning of life is too profound to be known and understood.[189] You will never live if you are looking for the meaning of life.[161] The meaning of life is to forget about the search for the meaning of life.[161] Ultimately, a person should not ask what the meaning of their life is, but rather must recognize that it is they themselves who are asked. In a word, each person is questioned by life; and they can only answer to life by answering for their own life; to life they can only respon\\n```\\n\\nHere is the question:\\n\\nWhat is the meaning of life?\\n\", response='The meaning of life is a profound question that has been expressed in various ways, but the text suggests that it may be too profound to be fully understood or known. Some perspectives suggest that the search for the meaning of life may be a distraction from actually living it, and that individuals must answer for their own lives in order to find purpose. Therefore, there is no one definitive answer to the question of the meaning of life.', prompt_tokens=306, response_tokens=85),\n",
       " MessageRecord(uuid='2a7c7184-7061-4f2f-a7bc-f050ebc54380', timestamp='2023-06-22 05:33:06.806', metadata={'model_name': 'gpt-3.5-turbo'}, total_tokens=139, cost=0.00021950000000000002, prompt='Summarize the following in less than 20 words: \"The meaning of life is a profound question that has been expressed in various ways, but the text suggests that it may be too profound to be fully understood or known. Some perspectives suggest that the search for the meaning of life may be a distraction from actually living it, and that individuals must answer for their own lives in order to find purpose. Therefore, there is no one definitive answer to the question of the meaning of life.\"', response='The meaning of life is complex and subjective, with no definitive answer, and may distract from actually living it.', prompt_tokens=117, response_tokens=22),\n",
       " SearchRecord(uuid='9ffbe6a8-623f-4205-ac35-68a51a10a880', timestamp='2023-06-22 05:34:03.658', metadata={}, query='What is a langchain document loader?', results=[{'title': 'Build a chatbot to query your documentation using Langchain and Azure ...', 'href': 'https://techcommunity.microsoft.com/t5/startups-at-microsoft/build-a-chatbot-to-query-your-documentation-using-langchain-and/ba-p/3833134', 'body': \"Examples include summarization of long pieces of text and question/answering over specific data sources. LangChain's Document Loaders and Utils modules facilitate connecting to sources of data and computation. If you have a mix of text files, PDF documents, HTML web pages, etc, you can use the document loaders in Langchain. Agents\"}, {'title': 'LangChain Indexes: Document Loaders - David Gentile', 'href': 'https://www.davidgentile.net/langchain-indexes-document-loaders/', 'body': 'LangChain offers four tools for creating indexes - Document Loaders, Text Splitters, Vector Stores, and Retrievers. The focus of this article will be Document Loaders. As the name implies, Document Loaders are responsible for loading documents from different sources.'}, {'title': \"langchain: No module named 'langchain.document_loaders'\", 'href': 'https://stackoverflow.com/questions/75907516/langchain-no-module-named-langchain-document-loaders', 'body': '5 The ModuleNotFoundError typically occurs when Python cannot find the module you are trying to import. Assuming that you have already installed langchain using pip or another package manager, the issue might be related to the way you are importing the module. Here are a few things you can try:'}]),\n",
       " EmbeddingsRecord(uuid='5a56a38e-82ed-4cfb-adf8-a76c241cc277', timestamp='2023-06-22 05:34:08.319', metadata={'model_name': 'text-embedding-ada-002'}, total_tokens=9018, cost=0.0009018000000000001),\n",
       " EmbeddingsRecord(uuid='8bc66244-6c6b-4f40-a31c-754d642a9f1a', timestamp='2023-06-22 05:34:09.429', metadata={'model_name': 'text-embedding-ada-002'}, total_tokens=8, cost=8.000000000000001e-07),\n",
       " MessageRecord(uuid='83704c21-de16-4ea4-b4cb-b7f53af035e0', timestamp='2023-06-22 05:34:14.123', metadata={'model_name': 'gpt-3.5-turbo'}, total_tokens=739, cost=0.0011595000000000002, prompt='\\nAnswer the question at the end of the text as truthfully and accurately as possible, based on the following information provided.\\n\\nHere is the information:\\n\\n```\\nLangChain Indexes: Document Loaders                                                                Home About Contact      Sign in Subscribe           LangChain     Featured  LangChain Indexes: Document Loaders Dive into the world of LangChain Document Loaders, understand how they work to transform and load text from various sources and learn how to use them in your language modeling tasks.           David Gentile  May 25, 2023 • 7 min read          Welcome to the LangChain introduction series. \\n\\nes. They are versatile tools that can handle various data formats and transform them into a standard structure that language models can easily process.This guide aims to explain LangChain Document Loaders in-depth, enabling you to make the most of them in your LLM applications.Understanding LangChain Document LoadersThe first concept to understand is what Langchain calls a Document. It really does not get more straightforward as a Document has two fields:page_content (string): the raw text of th\\n```\\n\\nHere is the question:\\n\\nWhat is a langchain document loader?\\n', response='A LangChain Document Loader is a tool that can handle various data formats and transform them into a standard structure that language models can easily process. It is a concept introduced in the LangChain introduction series, and this guide aims to explain it in-depth to enable users to make the most of it in their language modeling tasks. A Document in LangChain has two fields: page_content (string) and page_metadata (dict), and the Document Loader can load text from various sources and transform it into this standard structure.', prompt_tokens=637, response_tokens=102),\n",
       " MessageRecord(uuid='a410a8f8-49fd-4b2f-a80a-da188d2cd910', timestamp='2023-06-22 05:34:15.523', metadata={'model_name': 'gpt-3.5-turbo'}, total_tokens=282, cost=0.00043200000000000004, prompt='Summarize the following in less than 20 words: \"A LangChain Document Loader is a tool that can handle various data formats and transform them into a standard structure that language models can easily process. It is a concept introduced in the LangChain introduction series, and this guide aims to explain it in-depth to enable users to make the most of it in their language modeling tasks. A Document in LangChain has two fields: page_content (string) and page_metadata (dict), and the Document Loader can load text from various sources and transform it into this standard structure.\"', response='LangChain Document Loader transforms various data formats into a standard structure for language models to process.', prompt_tokens=264, response_tokens=18)]"
      ]
     },
     "execution_count": 20,
     "metadata": {},
     "output_type": "execute_result"
    }
   ],
   "source": [
    "chain.history"
   ]
  },
  {
   "cell_type": "code",
   "execution_count": 21,
   "metadata": {},
   "outputs": [
    {
     "data": {
      "text/plain": [
       "[EmbeddingsRecord(uuid='f0aa4ba5-a7e7-48b0-b544-84013690c70a', timestamp='2023-06-22 05:33:00.924', metadata={'model_name': 'text-embedding-ada-002'}, total_tokens=45105, cost=0.004510500000000001),\n",
       " EmbeddingsRecord(uuid='81d55844-8a29-4091-b574-dd00516fbcf2', timestamp='2023-06-22 05:33:01.676', metadata={'model_name': 'text-embedding-ada-002'}, total_tokens=7, cost=7.000000000000001e-07),\n",
       " MessageRecord(uuid='2e25b26e-860e-4fe6-80f9-52dcfe6bb838', timestamp='2023-06-22 05:33:05.289', metadata={'model_name': 'gpt-3.5-turbo'}, total_tokens=391, cost=0.000629, prompt=\"\\nAnswer the question at the end of the text as truthfully and accurately as possible, based on the following information provided.\\n\\nHere is the information:\\n\\n```\\nthe meaning of life at all? To what purpose is it played, this farce in which everything that is essential is irrevocably fixed and determined?[5]Questions about the meaning of life have been expressed in a broad variety of other ways, including: What is the meaning of life? What's it all about? Who are we?[6][7][8] Why are we here? What are we here for?[9][10][11] What is the origin of life?[12] What is the nature of life? What is the nature of reality?[12][13][14] What is the purpose of life? \\n\\nto the meaning of life is too profound to be known and understood.[189] You will never live if you are looking for the meaning of life.[161] The meaning of life is to forget about the search for the meaning of life.[161] Ultimately, a person should not ask what the meaning of their life is, but rather must recognize that it is they themselves who are asked. In a word, each person is questioned by life; and they can only answer to life by answering for their own life; to life they can only respon\\n```\\n\\nHere is the question:\\n\\nWhat is the meaning of life?\\n\", response='The meaning of life is a profound question that has been expressed in various ways, but the text suggests that it may be too profound to be fully understood or known. Some perspectives suggest that the search for the meaning of life may be a distraction from actually living it, and that individuals must answer for their own lives in order to find purpose. Therefore, there is no one definitive answer to the question of the meaning of life.', prompt_tokens=306, response_tokens=85),\n",
       " MessageRecord(uuid='2a7c7184-7061-4f2f-a7bc-f050ebc54380', timestamp='2023-06-22 05:33:06.806', metadata={'model_name': 'gpt-3.5-turbo'}, total_tokens=139, cost=0.00021950000000000002, prompt='Summarize the following in less than 20 words: \"The meaning of life is a profound question that has been expressed in various ways, but the text suggests that it may be too profound to be fully understood or known. Some perspectives suggest that the search for the meaning of life may be a distraction from actually living it, and that individuals must answer for their own lives in order to find purpose. Therefore, there is no one definitive answer to the question of the meaning of life.\"', response='The meaning of life is complex and subjective, with no definitive answer, and may distract from actually living it.', prompt_tokens=117, response_tokens=22),\n",
       " EmbeddingsRecord(uuid='5a56a38e-82ed-4cfb-adf8-a76c241cc277', timestamp='2023-06-22 05:34:08.319', metadata={'model_name': 'text-embedding-ada-002'}, total_tokens=9018, cost=0.0009018000000000001),\n",
       " EmbeddingsRecord(uuid='8bc66244-6c6b-4f40-a31c-754d642a9f1a', timestamp='2023-06-22 05:34:09.429', metadata={'model_name': 'text-embedding-ada-002'}, total_tokens=8, cost=8.000000000000001e-07),\n",
       " MessageRecord(uuid='83704c21-de16-4ea4-b4cb-b7f53af035e0', timestamp='2023-06-22 05:34:14.123', metadata={'model_name': 'gpt-3.5-turbo'}, total_tokens=739, cost=0.0011595000000000002, prompt='\\nAnswer the question at the end of the text as truthfully and accurately as possible, based on the following information provided.\\n\\nHere is the information:\\n\\n```\\nLangChain Indexes: Document Loaders                                                                Home About Contact      Sign in Subscribe           LangChain     Featured  LangChain Indexes: Document Loaders Dive into the world of LangChain Document Loaders, understand how they work to transform and load text from various sources and learn how to use them in your language modeling tasks.           David Gentile  May 25, 2023 • 7 min read          Welcome to the LangChain introduction series. \\n\\nes. They are versatile tools that can handle various data formats and transform them into a standard structure that language models can easily process.This guide aims to explain LangChain Document Loaders in-depth, enabling you to make the most of them in your LLM applications.Understanding LangChain Document LoadersThe first concept to understand is what Langchain calls a Document. It really does not get more straightforward as a Document has two fields:page_content (string): the raw text of th\\n```\\n\\nHere is the question:\\n\\nWhat is a langchain document loader?\\n', response='A LangChain Document Loader is a tool that can handle various data formats and transform them into a standard structure that language models can easily process. It is a concept introduced in the LangChain introduction series, and this guide aims to explain it in-depth to enable users to make the most of it in their language modeling tasks. A Document in LangChain has two fields: page_content (string) and page_metadata (dict), and the Document Loader can load text from various sources and transform it into this standard structure.', prompt_tokens=637, response_tokens=102),\n",
       " MessageRecord(uuid='a410a8f8-49fd-4b2f-a80a-da188d2cd910', timestamp='2023-06-22 05:34:15.523', metadata={'model_name': 'gpt-3.5-turbo'}, total_tokens=282, cost=0.00043200000000000004, prompt='Summarize the following in less than 20 words: \"A LangChain Document Loader is a tool that can handle various data formats and transform them into a standard structure that language models can easily process. It is a concept introduced in the LangChain introduction series, and this guide aims to explain it in-depth to enable users to make the most of it in their language modeling tasks. A Document in LangChain has two fields: page_content (string) and page_metadata (dict), and the Document Loader can load text from various sources and transform it into this standard structure.\"', response='LangChain Document Loader transforms various data formats into a standard structure for language models to process.', prompt_tokens=264, response_tokens=18)]"
      ]
     },
     "execution_count": 21,
     "metadata": {},
     "output_type": "execute_result"
    }
   ],
   "source": [
    "chain.usage_history"
   ]
  },
  {
   "cell_type": "code",
   "execution_count": 22,
   "metadata": {},
   "outputs": [
    {
     "data": {
      "text/plain": [
       "[MessageRecord(uuid='2e25b26e-860e-4fe6-80f9-52dcfe6bb838', timestamp='2023-06-22 05:33:05.289', metadata={'model_name': 'gpt-3.5-turbo'}, total_tokens=391, cost=0.000629, prompt=\"\\nAnswer the question at the end of the text as truthfully and accurately as possible, based on the following information provided.\\n\\nHere is the information:\\n\\n```\\nthe meaning of life at all? To what purpose is it played, this farce in which everything that is essential is irrevocably fixed and determined?[5]Questions about the meaning of life have been expressed in a broad variety of other ways, including: What is the meaning of life? What's it all about? Who are we?[6][7][8] Why are we here? What are we here for?[9][10][11] What is the origin of life?[12] What is the nature of life? What is the nature of reality?[12][13][14] What is the purpose of life? \\n\\nto the meaning of life is too profound to be known and understood.[189] You will never live if you are looking for the meaning of life.[161] The meaning of life is to forget about the search for the meaning of life.[161] Ultimately, a person should not ask what the meaning of their life is, but rather must recognize that it is they themselves who are asked. In a word, each person is questioned by life; and they can only answer to life by answering for their own life; to life they can only respon\\n```\\n\\nHere is the question:\\n\\nWhat is the meaning of life?\\n\", response='The meaning of life is a profound question that has been expressed in various ways, but the text suggests that it may be too profound to be fully understood or known. Some perspectives suggest that the search for the meaning of life may be a distraction from actually living it, and that individuals must answer for their own lives in order to find purpose. Therefore, there is no one definitive answer to the question of the meaning of life.', prompt_tokens=306, response_tokens=85),\n",
       " MessageRecord(uuid='2a7c7184-7061-4f2f-a7bc-f050ebc54380', timestamp='2023-06-22 05:33:06.806', metadata={'model_name': 'gpt-3.5-turbo'}, total_tokens=139, cost=0.00021950000000000002, prompt='Summarize the following in less than 20 words: \"The meaning of life is a profound question that has been expressed in various ways, but the text suggests that it may be too profound to be fully understood or known. Some perspectives suggest that the search for the meaning of life may be a distraction from actually living it, and that individuals must answer for their own lives in order to find purpose. Therefore, there is no one definitive answer to the question of the meaning of life.\"', response='The meaning of life is complex and subjective, with no definitive answer, and may distract from actually living it.', prompt_tokens=117, response_tokens=22),\n",
       " MessageRecord(uuid='83704c21-de16-4ea4-b4cb-b7f53af035e0', timestamp='2023-06-22 05:34:14.123', metadata={'model_name': 'gpt-3.5-turbo'}, total_tokens=739, cost=0.0011595000000000002, prompt='\\nAnswer the question at the end of the text as truthfully and accurately as possible, based on the following information provided.\\n\\nHere is the information:\\n\\n```\\nLangChain Indexes: Document Loaders                                                                Home About Contact      Sign in Subscribe           LangChain     Featured  LangChain Indexes: Document Loaders Dive into the world of LangChain Document Loaders, understand how they work to transform and load text from various sources and learn how to use them in your language modeling tasks.           David Gentile  May 25, 2023 • 7 min read          Welcome to the LangChain introduction series. \\n\\nes. They are versatile tools that can handle various data formats and transform them into a standard structure that language models can easily process.This guide aims to explain LangChain Document Loaders in-depth, enabling you to make the most of them in your LLM applications.Understanding LangChain Document LoadersThe first concept to understand is what Langchain calls a Document. It really does not get more straightforward as a Document has two fields:page_content (string): the raw text of th\\n```\\n\\nHere is the question:\\n\\nWhat is a langchain document loader?\\n', response='A LangChain Document Loader is a tool that can handle various data formats and transform them into a standard structure that language models can easily process. It is a concept introduced in the LangChain introduction series, and this guide aims to explain it in-depth to enable users to make the most of it in their language modeling tasks. A Document in LangChain has two fields: page_content (string) and page_metadata (dict), and the Document Loader can load text from various sources and transform it into this standard structure.', prompt_tokens=637, response_tokens=102),\n",
       " MessageRecord(uuid='a410a8f8-49fd-4b2f-a80a-da188d2cd910', timestamp='2023-06-22 05:34:15.523', metadata={'model_name': 'gpt-3.5-turbo'}, total_tokens=282, cost=0.00043200000000000004, prompt='Summarize the following in less than 20 words: \"A LangChain Document Loader is a tool that can handle various data formats and transform them into a standard structure that language models can easily process. It is a concept introduced in the LangChain introduction series, and this guide aims to explain it in-depth to enable users to make the most of it in their language modeling tasks. A Document in LangChain has two fields: page_content (string) and page_metadata (dict), and the Document Loader can load text from various sources and transform it into this standard structure.\"', response='LangChain Document Loader transforms various data formats into a standard structure for language models to process.', prompt_tokens=264, response_tokens=18)]"
      ]
     },
     "execution_count": 22,
     "metadata": {},
     "output_type": "execute_result"
    }
   ],
   "source": [
    "chain.message_history"
   ]
  },
  {
   "cell_type": "code",
   "execution_count": 17,
   "metadata": {},
   "outputs": [
    {
     "name": "stdout",
     "output_type": "stream",
     "text": [
      "Cost: $0.0079\n",
      "Tokens: 55,689\n"
     ]
    }
   ],
   "source": [
    "print(f\"Cost: ${chain.total_cost:.4f}\")\n",
    "print(f\"Tokens: {chain.total_tokens:,}\")"
   ]
  },
  {
   "cell_type": "code",
   "execution_count": 18,
   "metadata": {},
   "outputs": [
    {
     "data": {
      "text/markdown": [
       "## MESSAGE:  0"
      ],
      "text/plain": [
       "<IPython.core.display.Markdown object>"
      ]
     },
     "metadata": {},
     "output_type": "display_data"
    },
    {
     "data": {
      "text/markdown": [
       "### PROMPT:\n",
       "Answer the question at the end of the text as truthfully and accurately as possible, based on the following information provided.\n",
       "\n",
       "Here is the information:\n",
       "\n",
       "```\n",
       "the meaning of life at all? To what purpose is it played, this farce in which everything that is essential is irrevocably fixed and determined?[5]Questions about the meaning of life have been expressed in a broad variety of other ways, including: What is the meaning of life? What's it all about? Who are we?[6][7][8] Why are we here? What are we here for?[9][10][11] What is the origin of life?[12] What is the nature of life? What is the nature of reality?[12][13][14] What is the purpose of life? \n",
       "\n",
       "to the meaning of life is too profound to be known and understood.[189] You will never live if you are looking for the meaning of life.[161] The meaning of life is to forget about the search for the meaning of life.[161] Ultimately, a person should not ask what the meaning of their life is, but rather must recognize that it is they themselves who are asked. In a word, each person is questioned by life; and they can only answer to life by answering for their own life; to life they can only respon\n",
       "```\n",
       "\n",
       "Here is the question:\n",
       "\n",
       "What is the meaning of life?"
      ],
      "text/plain": [
       "<IPython.core.display.Markdown object>"
      ]
     },
     "metadata": {},
     "output_type": "display_data"
    },
    {
     "data": {
      "text/markdown": [
       "### RESPONSE:\n",
       " > The meaning of life is a profound question that has been expressed in various ways, but the text suggests that it may be too profound to be fully understood or known. Some perspectives suggest that the search for the meaning of life may be a distraction from actually living it, and that individuals must answer for their own lives in order to find purpose. Therefore, there is no one definitive answer to the question of the meaning of life."
      ],
      "text/plain": [
       "<IPython.core.display.Markdown object>"
      ]
     },
     "metadata": {},
     "output_type": "display_data"
    },
    {
     "data": {
      "text/markdown": [
       "---"
      ],
      "text/plain": [
       "<IPython.core.display.Markdown object>"
      ]
     },
     "metadata": {},
     "output_type": "display_data"
    },
    {
     "data": {
      "text/markdown": [
       "## MESSAGE:  1"
      ],
      "text/plain": [
       "<IPython.core.display.Markdown object>"
      ]
     },
     "metadata": {},
     "output_type": "display_data"
    },
    {
     "data": {
      "text/markdown": [
       "### PROMPT:\n",
       "Summarize the following in less than 20 words: \"The meaning of life is a profound question that has been expressed in various ways, but the text suggests that it may be too profound to be fully understood or known. Some perspectives suggest that the search for the meaning of life may be a distraction from actually living it, and that individuals must answer for their own lives in order to find purpose. Therefore, there is no one definitive answer to the question of the meaning of life.\""
      ],
      "text/plain": [
       "<IPython.core.display.Markdown object>"
      ]
     },
     "metadata": {},
     "output_type": "display_data"
    },
    {
     "data": {
      "text/markdown": [
       "### RESPONSE:\n",
       " > The meaning of life is complex and subjective, with no definitive answer, and may distract from actually living it."
      ],
      "text/plain": [
       "<IPython.core.display.Markdown object>"
      ]
     },
     "metadata": {},
     "output_type": "display_data"
    },
    {
     "data": {
      "text/markdown": [
       "---"
      ],
      "text/plain": [
       "<IPython.core.display.Markdown object>"
      ]
     },
     "metadata": {},
     "output_type": "display_data"
    },
    {
     "data": {
      "text/markdown": [
       "## MESSAGE:  2"
      ],
      "text/plain": [
       "<IPython.core.display.Markdown object>"
      ]
     },
     "metadata": {},
     "output_type": "display_data"
    },
    {
     "data": {
      "text/markdown": [
       "### PROMPT:\n",
       "Answer the question at the end of the text as truthfully and accurately as possible, based on the following information provided.\n",
       "\n",
       "Here is the information:\n",
       "\n",
       "```\n",
       "LangChain Indexes: Document Loaders                                                                Home About Contact      Sign in Subscribe           LangChain     Featured  LangChain Indexes: Document Loaders Dive into the world of LangChain Document Loaders, understand how they work to transform and load text from various sources and learn how to use them in your language modeling tasks.           David Gentile  May 25, 2023 • 7 min read          Welcome to the LangChain introduction series. \n",
       "\n",
       "es. They are versatile tools that can handle various data formats and transform them into a standard structure that language models can easily process.This guide aims to explain LangChain Document Loaders in-depth, enabling you to make the most of them in your LLM applications.Understanding LangChain Document LoadersThe first concept to understand is what Langchain calls a Document. It really does not get more straightforward as a Document has two fields:page_content (string): the raw text of th\n",
       "```\n",
       "\n",
       "Here is the question:\n",
       "\n",
       "What is a langchain document loader?"
      ],
      "text/plain": [
       "<IPython.core.display.Markdown object>"
      ]
     },
     "metadata": {},
     "output_type": "display_data"
    },
    {
     "data": {
      "text/markdown": [
       "### RESPONSE:\n",
       " > A LangChain Document Loader is a tool that can handle various data formats and transform them into a standard structure that language models can easily process. It is a concept introduced in the LangChain introduction series, and this guide aims to explain it in-depth to enable users to make the most of it in their language modeling tasks. A Document in LangChain has two fields: page_content (string) and page_metadata (dict), and the Document Loader can load text from various sources and transform it into this standard structure."
      ],
      "text/plain": [
       "<IPython.core.display.Markdown object>"
      ]
     },
     "metadata": {},
     "output_type": "display_data"
    },
    {
     "data": {
      "text/markdown": [
       "---"
      ],
      "text/plain": [
       "<IPython.core.display.Markdown object>"
      ]
     },
     "metadata": {},
     "output_type": "display_data"
    },
    {
     "data": {
      "text/markdown": [
       "## MESSAGE:  3"
      ],
      "text/plain": [
       "<IPython.core.display.Markdown object>"
      ]
     },
     "metadata": {},
     "output_type": "display_data"
    },
    {
     "data": {
      "text/markdown": [
       "### PROMPT:\n",
       "Summarize the following in less than 20 words: \"A LangChain Document Loader is a tool that can handle various data formats and transform them into a standard structure that language models can easily process. It is a concept introduced in the LangChain introduction series, and this guide aims to explain it in-depth to enable users to make the most of it in their language modeling tasks. A Document in LangChain has two fields: page_content (string) and page_metadata (dict), and the Document Loader can load text from various sources and transform it into this standard structure.\""
      ],
      "text/plain": [
       "<IPython.core.display.Markdown object>"
      ]
     },
     "metadata": {},
     "output_type": "display_data"
    },
    {
     "data": {
      "text/markdown": [
       "### RESPONSE:\n",
       " > LangChain Document Loader transforms various data formats into a standard structure for language models to process."
      ],
      "text/plain": [
       "<IPython.core.display.Markdown object>"
      ]
     },
     "metadata": {},
     "output_type": "display_data"
    },
    {
     "data": {
      "text/markdown": [
       "---"
      ],
      "text/plain": [
       "<IPython.core.display.Markdown object>"
      ]
     },
     "metadata": {},
     "output_type": "display_data"
    }
   ],
   "source": [
    "from IPython.display import display, Markdown\n",
    "for index, record in enumerate(chain.message_history):\n",
    "    display(Markdown(f\"## MESSAGE:  {index}\"))\n",
    "    display(Markdown(f\"### PROMPT:\\n{record.prompt.strip()}\"))\n",
    "    display(Markdown(f\"### RESPONSE:\\n > {record.response.strip()}\"))\n",
    "    display(Markdown(\"---\"))"
   ]
  },
  {
   "cell_type": "code",
   "execution_count": 19,
   "metadata": {},
   "outputs": [
    {
     "name": "stdout",
     "output_type": "stream",
     "text": [
      "[{'title': 'Life Definition & Meaning - Merriam-Webster', 'href': 'https://www.merriam-webster.com/dictionary/life', 'body': 'life: [noun] the quality that distinguishes a vital and functional being from a dead body. a principle or force that is considered to underlie the distinctive quality of animate beings. an organismic state characterized by capacity for metabolism (see metabolism 1), growth, reaction to stimuli, and reproduction.'}, {'title': 'Meaning of life - Wikipedia', 'href': 'https://en.wikipedia.org/wiki/Meaning_of_life', 'body': 'The meaning of life, or the answer to the question: \"What is the meaning of life?\", pertains to the significance of living or existence in general. Many other related questions include: \"Why are we here?\", \"What is life all about?\", or \"What is the purpose of existence?\"'}, {'title': 'What Is the Meaning of Life According to Positive Psychology', 'href': 'https://positivepsychology.com/meaning-of-life-positive-psychology/', 'body': '\"The sole meaning of life is to serve humanity.\" Leo Tolstoy \"For the meaning of life differs from man to man, from day to day, and from hour to hour. What matters, therefore, is not the meaning of life in general but rather the specific meaning of a person\\'s life at a given moment.\" Viktor Frankl'}]\n",
      "[{'title': 'Build a chatbot to query your documentation using Langchain and Azure ...', 'href': 'https://techcommunity.microsoft.com/t5/startups-at-microsoft/build-a-chatbot-to-query-your-documentation-using-langchain-and/ba-p/3833134', 'body': \"Examples include summarization of long pieces of text and question/answering over specific data sources. LangChain's Document Loaders and Utils modules facilitate connecting to sources of data and computation. If you have a mix of text files, PDF documents, HTML web pages, etc, you can use the document loaders in Langchain. Agents\"}, {'title': 'LangChain Indexes: Document Loaders - David Gentile', 'href': 'https://www.davidgentile.net/langchain-indexes-document-loaders/', 'body': 'LangChain offers four tools for creating indexes - Document Loaders, Text Splitters, Vector Stores, and Retrievers. The focus of this article will be Document Loaders. As the name implies, Document Loaders are responsible for loading documents from different sources.'}, {'title': \"langchain: No module named 'langchain.document_loaders'\", 'href': 'https://stackoverflow.com/questions/75907516/langchain-no-module-named-langchain-document-loaders', 'body': '5 The ModuleNotFoundError typically occurs when Python cannot find the module you are trying to import. Assuming that you have already installed langchain using pip or another package manager, the issue might be related to the way you are importing the module. Here are a few things you can try:'}]\n"
     ]
    }
   ],
   "source": [
    "print(duckduckgo_search.history[0].results)\n",
    "print(duckduckgo_search.history[1].results)"
   ]
  },
  {
   "attachments": {},
   "cell_type": "markdown",
   "metadata": {},
   "source": [
    "---\n"
   ]
  },
  {
   "attachments": {},
   "cell_type": "markdown",
   "metadata": {},
   "source": [
    "# OpenAI Chat"
   ]
  },
  {
   "attachments": {},
   "cell_type": "markdown",
   "metadata": {},
   "source": [
    "## Simple example showing history and usages/costs"
   ]
  },
  {
   "cell_type": "code",
   "execution_count": 23,
   "metadata": {},
   "outputs": [
    {
     "data": {
      "text/plain": [
       "'Hello Shane! How can I assist you today?'"
      ]
     },
     "execution_count": 23,
     "metadata": {},
     "output_type": "execute_result"
    }
   ],
   "source": [
    "from llm_chain.models import OpenAIChat\n",
    "\n",
    "chat = OpenAIChat(model_name='gpt-3.5-turbo', temperature=0)\n",
    "response = chat(\"Hi, my name is Shane.\")\n",
    "response"
   ]
  },
  {
   "cell_type": "code",
   "execution_count": 24,
   "metadata": {},
   "outputs": [],
   "source": [
    "# the model object tracks usage/cost data across all messages  \n",
    "def print_usage(model: OpenAIChat):\n",
    "    usage = f\"\"\"\n",
    "    Total Cost: ${model.total_cost:.6f}\n",
    "    Total Tokens: {model.total_tokens:,}\n",
    "    Total Prompt Tokens: {model.total_prompt_tokens:,}\n",
    "    Total Response Tokens: {model.total_response_tokens:,}\n",
    "    \"\"\"\n",
    "    print(usage)"
   ]
  },
  {
   "cell_type": "code",
   "execution_count": 25,
   "metadata": {},
   "outputs": [
    {
     "name": "stdout",
     "output_type": "stream",
     "text": [
      "\n",
      "    Total Cost: $0.000059\n",
      "    Total Tokens: 36\n",
      "    Total Prompt Tokens: 26\n",
      "    Total Response Tokens: 10\n",
      "    \n"
     ]
    }
   ],
   "source": [
    "print_usage(model=chat)"
   ]
  },
  {
   "cell_type": "code",
   "execution_count": 26,
   "metadata": {},
   "outputs": [
    {
     "name": "stdout",
     "output_type": "stream",
     "text": [
      "previous prompt: Hi, my name is Shane.\n",
      "previous response: Hello Shane! How can I assist you today?\n"
     ]
    }
   ],
   "source": [
    "# Or you can get the last prompt/response\n",
    "print(f\"previous prompt: {chat.previous_prompt}\")\n",
    "print(f\"previous response: {chat.previous_response}\")"
   ]
  },
  {
   "cell_type": "code",
   "execution_count": 27,
   "metadata": {},
   "outputs": [
    {
     "name": "stdout",
     "output_type": "stream",
     "text": [
      "timestamp: 2023-06-22 05:36:25.293; prompt: \"Hi, my name is Shane...\"; response: \"Hello Shane! How can...\";  cost: $0.000059; total_tokens: 36; metadata: {'model_name': 'gpt-3.5-turbo'}\n"
     ]
    }
   ],
   "source": [
    "# the `history` property contains a list of `MessageMetaData` objects for each message (i.e.\n",
    "# prompt & response) which contains usage/cost data for that message.\n",
    "for record in chat.history:\n",
    "    print(record)"
   ]
  },
  {
   "cell_type": "code",
   "execution_count": 28,
   "metadata": {},
   "outputs": [
    {
     "data": {
      "text/plain": [
       "[{'role': 'system', 'content': 'You are a helpful assistant.'},\n",
       " {'role': 'user', 'content': 'Hi, my name is Shane.'}]"
      ]
     },
     "execution_count": 28,
     "metadata": {},
     "output_type": "execute_result"
    }
   ],
   "source": [
    "# you can also see the exact messages sent to ChatGPT\n",
    "chat._previous_memory"
   ]
  },
  {
   "cell_type": "code",
   "execution_count": 29,
   "metadata": {},
   "outputs": [
    {
     "data": {
      "text/plain": [
       "'Yes, your name is Shane.'"
      ]
     },
     "execution_count": 29,
     "metadata": {},
     "output_type": "execute_result"
    }
   ],
   "source": [
    "response = chat(\"Do you remember my name?\")\n",
    "response"
   ]
  },
  {
   "cell_type": "code",
   "execution_count": 30,
   "metadata": {},
   "outputs": [
    {
     "name": "stdout",
     "output_type": "stream",
     "text": [
      "timestamp: 2023-06-22 05:36:25.293; prompt: \"Hi, my name is Shane...\"; response: \"Hello Shane! How can...\";  cost: $0.000059; total_tokens: 36; metadata: {'model_name': 'gpt-3.5-turbo'}\n",
      "timestamp: 2023-06-22 05:36:45.347; prompt: \"Do you remember my n...\"; response: \"Yes, your name is Sh...\";  cost: $0.000092; total_tokens: 59; metadata: {'model_name': 'gpt-3.5-turbo'}\n"
     ]
    }
   ],
   "source": [
    "for record in chat.history:\n",
    "    print(record)"
   ]
  },
  {
   "cell_type": "code",
   "execution_count": 31,
   "metadata": {},
   "outputs": [
    {
     "data": {
      "text/plain": [
       "[{'role': 'system', 'content': 'You are a helpful assistant.'},\n",
       " {'role': 'user', 'content': 'Hi, my name is Shane.'},\n",
       " {'role': 'assistant', 'content': 'Hello Shane! How can I assist you today?'},\n",
       " {'role': 'user', 'content': 'Do you remember my name?'}]"
      ]
     },
     "execution_count": 31,
     "metadata": {},
     "output_type": "execute_result"
    }
   ],
   "source": [
    "# you can also see the exact messages sent to ChatGPT\n",
    "chat._previous_memory"
   ]
  },
  {
   "cell_type": "code",
   "execution_count": 32,
   "metadata": {},
   "outputs": [
    {
     "name": "stdout",
     "output_type": "stream",
     "text": [
      "MessageMetaData: timestamp: 2023-06-22 05:36:45.347; prompt: \"Do you remember my n...\"; response: \"Yes, your name is Sh...\";  cost: $0.000092; total_tokens: 59; metadata: {'model_name': 'gpt-3.5-turbo'}\n",
      "previous prompt: Do you remember my name?\n",
      "previous response: Yes, your name is Shane.\n"
     ]
    }
   ],
   "source": [
    "# You can get the last MessageMetaData via: \n",
    "print(f\"MessageMetaData: {chat.previous_message}\")\n",
    "# Or you can get the last prompt/response\n",
    "print(f\"previous prompt: {chat.previous_prompt}\")\n",
    "print(f\"previous response: {chat.previous_response}\")"
   ]
  },
  {
   "cell_type": "code",
   "execution_count": 33,
   "metadata": {},
   "outputs": [
    {
     "name": "stdout",
     "output_type": "stream",
     "text": [
      "\n",
      "    Total Cost: $0.000151\n",
      "    Total Tokens: 95\n",
      "    Total Prompt Tokens: 78\n",
      "    Total Response Tokens: 17\n",
      "    \n"
     ]
    }
   ],
   "source": [
    "print_usage(model=chat)"
   ]
  },
  {
   "attachments": {},
   "cell_type": "markdown",
   "metadata": {},
   "source": [
    "---"
   ]
  },
  {
   "attachments": {},
   "cell_type": "markdown",
   "metadata": {},
   "source": [
    "## Memory\n",
    "\n",
    "The `OpenAIChat` model has a `memory_strategy` parameter and takes a `MemoryBuffer` class. A `MemoryBuffer` class is a callable that takes a `list[MessageMetaData]` (i.e. from the `model.history` property) and also returns a `list[MessageMetaData]` serving as the model's memory (i.e. a list containing the messages that will be sent to the model along with the new prompt). This allows the end user to easily define a memory strategy of their own (e.g. keep the first message and the last `n` messages).\n",
    "\n",
    "One Example of a `MemoryBuffer` is a `MemoryBufferMessageWindow` class where you can specify the last `n` messages that you want to keep."
   ]
  },
  {
   "cell_type": "code",
   "execution_count": 6,
   "metadata": {},
   "outputs": [
    {
     "data": {
      "text/plain": [
       "'Hello Shane! How can I assist you today?'"
      ]
     },
     "execution_count": 6,
     "metadata": {},
     "output_type": "execute_result"
    }
   ],
   "source": [
    "from llm_chain.models import OpenAIChat\n",
    "from llm_chain.memory import MemoryBufferMessageWindow\n",
    "\n",
    "chat = OpenAIChat(\n",
    "    model_name='gpt-3.5-turbo',\n",
    "    temperature=0,\n",
    "    memory_strategy=MemoryBufferMessageWindow(last_n_messages=0),  # no memory\n",
    ")\n",
    "response = chat(\"Hi, my name is Shane.\")\n",
    "response"
   ]
  },
  {
   "cell_type": "code",
   "execution_count": 7,
   "metadata": {},
   "outputs": [
    {
     "ename": "NameError",
     "evalue": "name 'print_usage' is not defined",
     "output_type": "error",
     "traceback": [
      "\u001b[0;31m---------------------------------------------------------------------------\u001b[0m",
      "\u001b[0;31mNameError\u001b[0m                                 Traceback (most recent call last)",
      "Cell \u001b[0;32mIn[7], line 2\u001b[0m\n\u001b[1;32m      1\u001b[0m \u001b[39m# NOTE: since we created a new OpenAIChat object, the costs/usage are reset\u001b[39;00m\n\u001b[0;32m----> 2\u001b[0m print_usage(model\u001b[39m=\u001b[39mchat)\n",
      "\u001b[0;31mNameError\u001b[0m: name 'print_usage' is not defined"
     ]
    }
   ],
   "source": [
    "# NOTE: since we created a new OpenAIChat object, the costs/usage are reset\n",
    "print_usage(model=chat)"
   ]
  },
  {
   "cell_type": "code",
   "execution_count": null,
   "metadata": {},
   "outputs": [],
   "source": [
    "# you can also see the exact messages sent to ChatGPT\n",
    "chat._previous_memory"
   ]
  },
  {
   "cell_type": "code",
   "execution_count": null,
   "metadata": {},
   "outputs": [],
   "source": [
    "response = chat(\"Do you remember my name?\")\n",
    "response"
   ]
  },
  {
   "cell_type": "code",
   "execution_count": null,
   "metadata": {},
   "outputs": [],
   "source": [
    "# we still have access to the full history, but the ChatGPT didn't use any of it.\n",
    "chat._history"
   ]
  },
  {
   "cell_type": "code",
   "execution_count": null,
   "metadata": {},
   "outputs": [],
   "source": [
    "# you can also see the exact messages sent to ChatGPT\n",
    "chat._previous_memory"
   ]
  },
  {
   "cell_type": "code",
   "execution_count": null,
   "metadata": {},
   "outputs": [],
   "source": [
    "# NOTE: since we created a new OpenAIChat object, the costs/usage are reset\n",
    "print_usage(model=chat)"
   ]
  },
  {
   "attachments": {},
   "cell_type": "markdown",
   "metadata": {},
   "source": [
    "---"
   ]
  },
  {
   "cell_type": "code",
   "execution_count": null,
   "metadata": {},
   "outputs": [],
   "source": []
  },
  {
   "cell_type": "code",
   "execution_count": 4,
   "metadata": {},
   "outputs": [],
   "source": [
    "def get_delta(chunk):\n",
    "    delta = chunk['choices'][0]['delta']\n",
    "    if 'content' in delta:\n",
    "        return delta['content']\n",
    "    return None"
   ]
  },
  {
   "cell_type": "code",
   "execution_count": 5,
   "metadata": {},
   "outputs": [
    {
     "name": "stdout",
     "output_type": "stream",
     "text": [
      "<generator object EngineAPIResource.create.<locals>.<genexpr> at 0xffff8044bcd0>\n",
      "None\n",
      "As\n",
      " an\n",
      " AI\n",
      " language model, I do not have personal beliefs or opinions, but the meaning of life is subjective and varies from person to person."
     ]
    }
   ],
   "source": [
    "import openai\n",
    "# Example of an OpenAI ChatCompletion request with stream=True\n",
    "# https://platform.openai.com/docs/guides/chat\n",
    "\n",
    "# a ChatCompletion request\n",
    "response = openai.ChatCompletion.create(\n",
    "    model='gpt-3.5-turbo',\n",
    "    messages=[\n",
    "        {'role': 'user', 'content': \"What is the meaning of life? Answer in one sentence.\"}\n",
    "    ],\n",
    "    temperature=0,\n",
    "    stream=True,  # this time, we set stream=True\n",
    ")\n",
    "print(response)\n",
    "print(get_delta(next(response)))\n",
    "message = next(response)\n",
    "print(get_delta(message))\n",
    "print(get_delta(next(response)))\n",
    "print(get_delta(next(response)))\n",
    "\n",
    "for chunk in response:\n",
    "    delta = chunk['choices'][0]['delta']\n",
    "    if 'content' in delta:\n",
    "        print(delta['content'], end='')\n",
    "    # print(chunk)\n"
   ]
  },
  {
   "cell_type": "code",
   "execution_count": 6,
   "metadata": {},
   "outputs": [
    {
     "data": {
      "text/plain": [
       "<OpenAIObject chat.completion.chunk id=chatcmpl-7SFy2ytujikSVaaIuW4JSOeKWWAT2 at 0xffff8042b950> JSON: {\n",
       "  \"id\": \"chatcmpl-7SFy2ytujikSVaaIuW4JSOeKWWAT2\",\n",
       "  \"object\": \"chat.completion.chunk\",\n",
       "  \"created\": 1686968918,\n",
       "  \"model\": \"gpt-3.5-turbo-0301\",\n",
       "  \"choices\": [\n",
       "    {\n",
       "      \"delta\": {\n",
       "        \"content\": \"As\"\n",
       "      },\n",
       "      \"index\": 0,\n",
       "      \"finish_reason\": null\n",
       "    }\n",
       "  ]\n",
       "}"
      ]
     },
     "execution_count": 6,
     "metadata": {},
     "output_type": "execute_result"
    }
   ],
   "source": [
    "message"
   ]
  },
  {
   "cell_type": "code",
   "execution_count": null,
   "metadata": {},
   "outputs": [],
   "source": []
  },
  {
   "cell_type": "code",
   "execution_count": null,
   "metadata": {},
   "outputs": [],
   "source": []
  },
  {
   "cell_type": "code",
   "execution_count": 3,
   "metadata": {},
   "outputs": [
    {
     "name": "stdout",
     "output_type": "stream",
     "text": [
      "A\n",
      " large\n",
      " language\n",
      " model\n",
      " is\n",
      " a\n",
      " type\n",
      " of\n",
      " artificial\n",
      " intelligence\n",
      " that\n",
      " uses\n",
      " deep\n",
      " learning\n",
      " to\n",
      " generate\n",
      " human\n",
      "-like\n",
      " language\n",
      " and\n",
      " understand\n",
      " natural\n",
      " language\n",
      " processing\n",
      " tasks\n",
      ".\n"
     ]
    }
   ],
   "source": [
    "from llm_chain.models import OpenAIChat\n",
    "\n",
    "chat = OpenAIChat(\n",
    "    model_name='gpt-3.5-turbo',\n",
    "    temperature=0,\n",
    "    streaming_callback=lambda x: print(x.response),\n",
    "    )\n",
    "response = chat(\"Explain what a large language model is in a single sentence.\")\n",
    "# response"
   ]
  },
  {
   "cell_type": "code",
   "execution_count": 4,
   "metadata": {},
   "outputs": [
    {
     "name": "stdout",
     "output_type": "stream",
     "text": [
      "\n",
      "    Total Cost: $0.000083\n",
      "    Total Tokens: 47\n",
      "    Total Prompt Tokens: 21\n",
      "    Total Response Tokens: 26\n",
      "    \n"
     ]
    }
   ],
   "source": [
    "# the model object tracks usage/cost data across all messages  \n",
    "def print_usage(model: OpenAIChat):\n",
    "    usage = f\"\"\"\n",
    "    Total Cost: ${model.total_cost:.6f}\n",
    "    Total Tokens: {model.total_tokens:,}\n",
    "    Total Prompt Tokens: {model.total_prompt_tokens:,}\n",
    "    Total Response Tokens: {model.total_response_tokens:,}\n",
    "    \"\"\"\n",
    "    print(usage)\n",
    "\n",
    "print_usage(model=chat)"
   ]
  },
  {
   "cell_type": "code",
   "execution_count": 5,
   "metadata": {},
   "outputs": [
    {
     "name": "stdout",
     "output_type": "stream",
     "text": [
      "A large language model is a type of artificial intelligence that uses deep learning to generate human-like language and understand natural language processing tasks.\n"
     ]
    }
   ],
   "source": [
    "print(response)"
   ]
  },
  {
   "cell_type": "code",
   "execution_count": 6,
   "metadata": {},
   "outputs": [
    {
     "data": {
      "text/plain": [
       "'A large language model is a type of artificial intelligence that uses deep learning to generate human-like language and understand natural language processing tasks.'"
      ]
     },
     "execution_count": 6,
     "metadata": {},
     "output_type": "execute_result"
    }
   ],
   "source": [
    "from llm_chain.models import OpenAIChat\n",
    "\n",
    "chat = OpenAIChat(\n",
    "    model_name='gpt-3.5-turbo',\n",
    "    temperature=0,\n",
    "    # streaming_callback=lambda x: print(x.response, end=''),\n",
    "    )\n",
    "response = chat(\"Explain what a large language model is in a single sentence.\")\n",
    "response"
   ]
  },
  {
   "cell_type": "code",
   "execution_count": 7,
   "metadata": {},
   "outputs": [
    {
     "name": "stdout",
     "output_type": "stream",
     "text": [
      "\n",
      "    Total Cost: $0.000100\n",
      "    Total Tokens: 58\n",
      "    Total Prompt Tokens: 32\n",
      "    Total Response Tokens: 26\n",
      "    \n"
     ]
    }
   ],
   "source": [
    "print_usage(model=chat)"
   ]
  },
  {
   "cell_type": "code",
   "execution_count": 8,
   "metadata": {},
   "outputs": [
    {
     "name": "stdout",
     "output_type": "stream",
     "text": [
      "Hello\n",
      "Hello World\n"
     ]
    }
   ],
   "source": [
    "my_string = \"Hello\"\n",
    "\n",
    "def update_string():\n",
    "    global my_string  # Declare the variable as global\n",
    "    my_string += \" World\"  # Update the string by appending \" World\"\n",
    "\n",
    "# Before calling the function\n",
    "print(my_string)  # Output: Hello\n",
    "\n",
    "# Call the function to update the string\n",
    "update_string()\n",
    "\n",
    "# After calling the function\n",
    "print(my_string)  # Output: Hello World\n"
   ]
  },
  {
   "cell_type": "code",
   "execution_count": 26,
   "metadata": {},
   "outputs": [
    {
     "data": {
      "text/plain": [
       "0.9624322322349568"
      ]
     },
     "execution_count": 26,
     "metadata": {},
     "output_type": "execute_result"
    }
   ],
   "source": [
    "import numpy as np\n",
    "\n",
    "# Create a random number generator\n",
    "rng = np.random.default_rng()\n",
    "\n",
    "# Generate a random list of floats between 0.5 and 13.3\n",
    "random_floats = rng.uniform(low=-2, high=2, size=50)\n",
    "random_floats.tolist()"
   ]
  },
  {
   "cell_type": "code",
   "execution_count": 31,
   "metadata": {},
   "outputs": [
    {
     "data": {
      "text/plain": [
       "<OpenAIObject text_completion id=cmpl-7SunYoE7pHohuSwMNp5ZzwUkpx288 at 0xffff3c2a29f0> JSON: {\n",
       "  \"id\": \"cmpl-7SunYoE7pHohuSwMNp5ZzwUkpx288\",\n",
       "  \"object\": \"text_completion\",\n",
       "  \"created\": 1687125872,\n",
       "  \"model\": \"text-davinci-003\",\n",
       "  \"choices\": [\n",
       "    {\n",
       "      \"text\": \"there lived a gorgeous princess named Aurora. She had long, glowing golden hair and\",\n",
       "      \"index\": 0,\n",
       "      \"logprobs\": null,\n",
       "      \"finish_reason\": \"length\"\n",
       "    }\n",
       "  ],\n",
       "  \"usage\": {\n",
       "    \"prompt_tokens\": 5,\n",
       "    \"completion_tokens\": 16,\n",
       "    \"total_tokens\": 21\n",
       "  }\n",
       "}"
      ]
     },
     "execution_count": 31,
     "metadata": {},
     "output_type": "execute_result"
    }
   ],
   "source": [
    "import tenacity\n",
    "from typing import Callable\n",
    "\n",
    "def retry_handler(num_retries: int = 3, wait_fixed: int = 1) -> Callable:\n",
    "    return tenacity.Retrying(\n",
    "        stop=tenacity.stop_after_attempt(num_retries),\n",
    "        wait=tenacity.wait_fixed(wait_fixed),\n",
    "        reraise=True\n",
    "    )\n",
    "\n",
    "r = retry_handler()\n",
    "r(\n",
    "    openai.Completion.create,\n",
    "    model=\"text-davinci-003\",\n",
    "    prompt=\"Once upon a time,\"\n",
    ")"
   ]
  },
  {
   "cell_type": "code",
   "execution_count": 28,
   "metadata": {},
   "outputs": [
    {
     "data": {
      "text/plain": [
       "<OpenAIObject text_completion id=cmpl-7StDBWFEuPyzS3fBPB1JzuO6HHI6O at 0xffff4689a2d0> JSON: {\n",
       "  \"id\": \"cmpl-7StDBWFEuPyzS3fBPB1JzuO6HHI6O\",\n",
       "  \"object\": \"text_completion\",\n",
       "  \"created\": 1687119773,\n",
       "  \"model\": \"text-davinci-003\",\n",
       "  \"choices\": [\n",
       "    {\n",
       "      \"text\": \" there was a young man named Jacob who lived alone in a small town in the\",\n",
       "      \"index\": 0,\n",
       "      \"logprobs\": null,\n",
       "      \"finish_reason\": \"length\"\n",
       "    }\n",
       "  ],\n",
       "  \"usage\": {\n",
       "    \"prompt_tokens\": 5,\n",
       "    \"completion_tokens\": 16,\n",
       "    \"total_tokens\": 21\n",
       "  }\n",
       "}"
      ]
     },
     "execution_count": 28,
     "metadata": {},
     "output_type": "execute_result"
    }
   ],
   "source": [
    "import openai\n",
    "from tenacity import retry, stop_after_attempt, wait_random_exponential\n",
    "\n",
    "@retry(wait=wait_random_exponential(min=1, max=60), stop=stop_after_attempt(6))\n",
    "def completion_with_backoff(**kwargs):\n",
    "    return openai.Completion.create(**kwargs)\n",
    "\n",
    "completion_with_backoff(model=\"text-davinci-003\", prompt=\"Once upon a time,\")\n"
   ]
  },
  {
   "cell_type": "code",
   "execution_count": null,
   "metadata": {},
   "outputs": [],
   "source": []
  }
 ],
 "metadata": {
  "kernelspec": {
   "display_name": "Python 3",
   "language": "python",
   "name": "python3"
  },
  "language_info": {
   "codemirror_mode": {
    "name": "ipython",
    "version": 3
   },
   "file_extension": ".py",
   "mimetype": "text/x-python",
   "name": "python",
   "nbconvert_exporter": "python",
   "pygments_lexer": "ipython3",
   "version": "3.11.4"
  },
  "orig_nbformat": 4
 },
 "nbformat": 4,
 "nbformat_minor": 2
}
