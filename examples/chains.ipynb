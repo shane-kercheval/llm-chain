{
 "cells": [
  {
   "attachments": {},
   "cell_type": "markdown",
   "metadata": {},
   "source": [
    "This notebook is ran in a docker container where the project directory (i.e. same directory as README.md) is located in `/code`, which is set below. If you run locally you'll need to set the path of your project directory accordingly."
   ]
  },
  {
   "cell_type": "code",
   "execution_count": 1,
   "metadata": {},
   "outputs": [
    {
     "name": "stdout",
     "output_type": "stream",
     "text": [
      "/code\n"
     ]
    }
   ],
   "source": [
    "%cd /code"
   ]
  },
  {
   "attachments": {},
   "cell_type": "markdown",
   "metadata": {},
   "source": [
    "---"
   ]
  },
  {
   "attachments": {},
   "cell_type": "markdown",
   "metadata": {},
   "source": [
    "The `load_dotenv` function below loads all the variables found in the `.env` file as environment variables. You must have a `.env` file located in the project directory containing your OpenAI API key, in the following format.\n",
    "\n",
    "```\n",
    "OPENAI_API_KEY=sk-...\n",
    "```"
   ]
  },
  {
   "cell_type": "code",
   "execution_count": 10,
   "metadata": {},
   "outputs": [],
   "source": [
    "from dotenv import load_dotenv\n",
    "from IPython.display import display, Markdown\n",
    "\n",
    "load_dotenv()\n",
    "\n",
    "def mprint(val: str):\n",
    "    display(Markdown(val))"
   ]
  },
  {
   "attachments": {},
   "cell_type": "markdown",
   "metadata": {},
   "source": [
    "---"
   ]
  },
  {
   "attachments": {},
   "cell_type": "markdown",
   "metadata": {},
   "source": [
    "# Chains"
   ]
  },
  {
   "attachments": {},
   "cell_type": "markdown",
   "metadata": {},
   "source": [
    "**A `Chain` consists of individual links. Each link can be thought of as a task in a workflow (e.g. document search, web search, or chat model). Each link is a callable (either a function or a callable object) where the output of one link is the input of the next link. So a `Chain` is a simple mechanism that takes an input and sends the input to the first link, and the propegates the output of the first link to the second link, and so on, until the end of the chain is reached, and returns the final result.** \n",
    "\n",
    "A `Chain` object aggregates the history (messages, usage, etc) of all of the links. More specifically, it aggregiates all of the lists of `Record` objects for any link that has a `history` property, such as the OpenAIChat class. The `Chain` class provides various history properties (e.g. `history`, `usage_history`, `message_history`) depending on the type of `Record` returned by each link's history property (e.g. the `usage_history` property returns all of the `UsageRecord` objects across any link whose `history` property returns `UsageRecord`s)."
   ]
  },
  {
   "attachments": {},
   "cell_type": "markdown",
   "metadata": {},
   "source": [
    "---"
   ]
  },
  {
   "attachments": {},
   "cell_type": "markdown",
   "metadata": {},
   "source": [
    "## Simple Example\n",
    "\n",
    "Here's a simple example demonstrating llm-chain. A more in-depth example with additional explanation can be found below.\n",
    "\n",
    "- Ask the chat model a question (\"What is the meaning of life?\")\n",
    "- The model responds, and the response is sent to the next link, which creates and returns a new prompt indicating that the link's input (which is the output from the last link; i.e. the model's response) should be summarized.\n",
    "- The new prompt is sent to the next link, which is the chat model, and the response is returned."
   ]
  },
  {
   "cell_type": "code",
   "execution_count": 28,
   "metadata": {},
   "outputs": [
    {
     "data": {
      "text/plain": [
       "\"The meaning of life is a philosophical question that has been debated for centuries with no definitive answer. It varies depending on one's beliefs, values, and experiences and is ultimately a personal and subjective concept.\""
      ]
     },
     "execution_count": 28,
     "metadata": {},
     "output_type": "execute_result"
    }
   ],
   "source": [
    "from llm_chain.base import Chain\n",
    "from llm_chain.models import OpenAIChat\n",
    "\n",
    "chat_model = OpenAIChat(model_name='gpt-3.5-turbo')\n",
    "# each link is a callable where the output of one link is the input to the next link\n",
    "chain = Chain(links=[\n",
    "    chat_model,\n",
    "    lambda x: f\"Summarize the following in two sentences: ```{x}```\",\n",
    "    chat_model,\n",
    "])\n",
    "chain(\"What is the meaning of life?\")"
   ]
  },
  {
   "cell_type": "code",
   "execution_count": 32,
   "metadata": {},
   "outputs": [
    {
     "name": "stdout",
     "output_type": "stream",
     "text": [
      "Cost:   $0.0007\n",
      "Tokens: 395\n"
     ]
    }
   ],
   "source": [
    "print(f\"Cost:   ${chain.cost:.4f}\")\n",
    "print(f\"Tokens: {chain.total_tokens:,}\")"
   ]
  },
  {
   "cell_type": "code",
   "execution_count": 30,
   "metadata": {},
   "outputs": [
    {
     "data": {
      "text/plain": [
       "[MessageRecord(uuid='4eb3317a-37c7-4029-b394-07698aa8454f', timestamp='2023-06-26 22:04:05.331', metadata={'model_name': 'gpt-3.5-turbo'}, total_tokens=120, cost=0.000227, prompt='What is the meaning of life?', response=\"The meaning of life is a philosophical question that has been debated by scholars, theologians, and philosophers for centuries. There is no one definitive answer to this question, as it can vary depending on one's beliefs, values, and experiences. Some people believe that the meaning of life is to seek happiness, while others believe it is to fulfill a specific purpose or destiny. Ultimately, the meaning of life is a personal and subjective concept that each individual must determine for themselves.\", prompt_tokens=26, response_tokens=94),\n",
       " MessageRecord(uuid='28787fff-0e62-4bf2-a1c4-a4046d6f659a', timestamp='2023-06-26 22:04:07.090', metadata={'model_name': 'gpt-3.5-turbo'}, total_tokens=275, cost=0.0004325, prompt=\"Summarize the following in two sentences: ```The meaning of life is a philosophical question that has been debated by scholars, theologians, and philosophers for centuries. There is no one definitive answer to this question, as it can vary depending on one's beliefs, values, and experiences. Some people believe that the meaning of life is to seek happiness, while others believe it is to fulfill a specific purpose or destiny. Ultimately, the meaning of life is a personal and subjective concept that each individual must determine for themselves.```\", response=\"The meaning of life is a philosophical question that has been debated for centuries with no definitive answer. It varies depending on one's beliefs, values, and experiences and is ultimately a personal and subjective concept.\", prompt_tokens=235, response_tokens=40)]"
      ]
     },
     "execution_count": 30,
     "metadata": {},
     "output_type": "execute_result"
    }
   ],
   "source": [
    "chain.message_history"
   ]
  },
  {
   "cell_type": "code",
   "execution_count": 31,
   "metadata": {},
   "outputs": [
    {
     "data": {
      "text/markdown": [
       "What is the meaning of life?"
      ],
      "text/plain": [
       "<IPython.core.display.Markdown object>"
      ]
     },
     "metadata": {},
     "output_type": "display_data"
    },
    {
     "data": {
      "text/markdown": [
       "The meaning of life is a philosophical question that has been debated by scholars, theologians, and philosophers for centuries. There is no one definitive answer to this question, as it can vary depending on one's beliefs, values, and experiences. Some people believe that the meaning of life is to seek happiness, while others believe it is to fulfill a specific purpose or destiny. Ultimately, the meaning of life is a personal and subjective concept that each individual must determine for themselves."
      ],
      "text/plain": [
       "<IPython.core.display.Markdown object>"
      ]
     },
     "metadata": {},
     "output_type": "display_data"
    },
    {
     "data": {
      "text/markdown": [
       "Summarize the following in two sentences: ```The meaning of life is a philosophical question that has been debated by scholars, theologians, and philosophers for centuries. There is no one definitive answer to this question, as it can vary depending on one's beliefs, values, and experiences. Some people believe that the meaning of life is to seek happiness, while others believe it is to fulfill a specific purpose or destiny. Ultimately, the meaning of life is a personal and subjective concept that each individual must determine for themselves.```"
      ],
      "text/plain": [
       "<IPython.core.display.Markdown object>"
      ]
     },
     "metadata": {},
     "output_type": "display_data"
    },
    {
     "data": {
      "text/markdown": [
       "The meaning of life is a philosophical question that has been debated for centuries with no definitive answer. It varies depending on one's beliefs, values, and experiences and is ultimately a personal and subjective concept."
      ],
      "text/plain": [
       "<IPython.core.display.Markdown object>"
      ]
     },
     "metadata": {},
     "output_type": "display_data"
    }
   ],
   "source": [
    "mprint(chain.message_history[0].prompt)\n",
    "mprint(chain.message_history[0].response)\n",
    "mprint(chain.message_history[1].prompt)\n",
    "mprint(chain.message_history[1].response)"
   ]
  },
  {
   "attachments": {},
   "cell_type": "markdown",
   "metadata": {},
   "source": [
    "---"
   ]
  },
  {
   "attachments": {},
   "cell_type": "markdown",
   "metadata": {},
   "source": [
    "## In-depth Example"
   ]
  },
  {
   "attachments": {},
   "cell_type": "markdown",
   "metadata": {},
   "source": [
    "In the following example, we will ask a chat model a question, and provide the model with additional context based on the most relevant text we find in a web-search. For the sake of the example, we will ask the chat model to the answer it provides and summarize that answer.  The workflow is defined as follows:\n",
    "\n",
    "\n",
    "|   input   |  output  |   link/task   |\n",
    "|-----------|----------|----------|\n",
    "|  `None` |   str    |  Ask a question: e.g. `\"What is the meaning of life?\"`  |\n",
    "|    str    |   urls   |  Do a web-search via `DuckDuckGo` based on the question.  |\n",
    "|   urls    | Documents|  Take the urls, scrape the corresponding web-pages, and convert to a list of `Document` objects  |\n",
    "| Documents | Documents|  Split the `Document` objects into smaller chunks (also `Document` objects)  |\n",
    "| Documents | `None` |  Store the Documents in a `Chroma` document index so that we can lookup the most relevant documents |\n",
    "| `None`  |   str    |  Return the original question `What is the meaning of life?` |\n",
    "|    str    |   str    |  Take the original question, lookup the most relevant documents, and construct the corresponding prompt with the documents injected into the prompt. |\n",
    "|    str    |   str    |  Pass the prompt to the chat model; receive a response |\n",
    "|    str    |   str    |  Construct a new prompt, containing the response and a request to summarize the response. |\n",
    "|    str    |   str    |  Pass the new prompt to the chat model; receive a response |\n",
    "\n",
    "**Notice how the output of one link matches the input of the next link. This means you could swap out any of the objects we use below with your own custom function or class and the only requirement is that the input/output matches for that particular link.**\n",
    "\n"
   ]
  },
  {
   "attachments": {},
   "cell_type": "markdown",
   "metadata": {},
   "source": [
    "### Initial objects in chain\n",
    "\n",
    "Let's define the objects and functions we are going to include in the chain. We're including many links/tasks so that we can see how flexible our chain can be.\n",
    "\n",
    "See the [tools.ipynb](https://github.com/shane-kercheval/llm-chain/tree/main/examples/tools.ipynb) notebook for examples of how the various helper classes below (e.g. `DuckDuckGoSearch`, `scrape_url`, etc.) are used."
   ]
  },
  {
   "attachments": {},
   "cell_type": "markdown",
   "metadata": {},
   "source": [
    "#### Quick note on the `Value` object.\n",
    "\n",
    "The only bit of magic below is that we're using a `Value` object to cache the initial question, feed it into the web-search, and then inject it back into the chain at a later point (passing it to the prompt-template). A `Value` object is a callable that, when called with a value caches and returns the same value, and when called without a value, simply returns the previously cached value. When you understand what it's doing, it's not magic at all. Here's a simple example:"
   ]
  },
  {
   "cell_type": "code",
   "execution_count": 1,
   "metadata": {},
   "outputs": [
    {
     "name": "stdout",
     "output_type": "stream",
     "text": [
      "This is a value\n",
      "This is a value\n",
      "new value\n",
      "new value\n"
     ]
    }
   ],
   "source": [
    "from llm_chain.base import Value\n",
    "cache = Value()\n",
    "result = cache(\"This is a value\")  # calling the object with a value caches and returns the value\n",
    "print(result)  # the value in `result` is whatever was passed in to the Value object\n",
    "print(cache())  # calling the object without a parameter returns the cached value\n",
    "result = cache(\"new value\")\n",
    "print(result)\n",
    "print(cache())"
   ]
  },
  {
   "cell_type": "code",
   "execution_count": 2,
   "metadata": {},
   "outputs": [],
   "source": [
    "import re\n",
    "from llm_chain.base import Document, Chain, Value\n",
    "from llm_chain.models import OpenAIEmbeddings, OpenAIChat\n",
    "from llm_chain.tools import DuckDuckGoSearch, scrape_url, split_documents\n",
    "from llm_chain.indexes import ChromaDocumentIndex\n",
    "from llm_chain.prompt_templates import DocSearchTemplate\n",
    "\n",
    "# Seach DuckDuckGo based on initial question (passed into the chain)\n",
    "duckduckgo_search = DuckDuckGoSearch(top_n=3)\n",
    "\n",
    "# define a function that takes the links from the web-search, scrapes the web-pages,\n",
    "# and then creates Document objects from the text of each web-page\n",
    "def scrape_urls(search_results):\n",
    "    \"\"\"\n",
    "    For each url (i.e. `href` in `search_results`):\n",
    "    - extracts text\n",
    "    - replace new-lines with spaces\n",
    "    - create a Document object\n",
    "    \"\"\"\n",
    "    return [\n",
    "        Document(content=re.sub(r'\\s+', ' ', scrape_url(x['href'])))\n",
    "        for x in search_results\n",
    "    ]\n",
    "\n",
    "# Embeddings model used for document index/search (the documents created from the web-search)\n",
    "embeddings_model = OpenAIEmbeddings(model_name='text-embedding-ada-002')\n",
    "document_index = ChromaDocumentIndex(embeddings_model=embeddings_model, n_results=3)\n",
    "# DocSearchTemplate uses the ChromaDocumentIndex object to search for the most relevant documents\n",
    "# (from the web-search) based on the intitial question (which it takes as an input)\n",
    "prompt_template = DocSearchTemplate(doc_index=document_index, n_docs=3)\n",
    "# Create a chat model without streaming.\n",
    "non_streaming_chat = OpenAIChat(model_name='gpt-3.5-turbo')\n",
    "# Create a chat model with streaming enabled via callback.\n",
    "streaming_chat = OpenAIChat(\n",
    "    model_name='gpt-3.5-turbo',\n",
    "    streaming_callback=lambda x: print(x.response, end='|'),\n",
    ")\n",
    "\n",
    "# A `Value` object is a simple caching mechanism. It's a callable that, when passed a value, it\n",
    "# caches and returns that value; and when called without a value, it returns the cached value.\n",
    "# Below, it's being used to cache the original question, feed the question into the web-search\n",
    "# (`DuckDuckGoSearch`), and then re-inject the question back in the chain and into the\n",
    "# prompt-template (`DocSearchTemplate`).\n",
    "question_1 = Value()\n",
    "# This simple function takes the response from the original chat model and creates a prompt that\n",
    "# asks the model to summarize the response.\n",
    "question_2 = lambda x: f'Summarize the following in less than 20 words: \"{x}\"'"
   ]
  },
  {
   "attachments": {},
   "cell_type": "markdown",
   "metadata": {},
   "source": [
    "### Defining and Running the Chain"
   ]
  },
  {
   "cell_type": "code",
   "execution_count": 3,
   "metadata": {},
   "outputs": [
    {
     "name": "stdout",
     "output_type": "stream",
     "text": [
      "The| meaning| of| life| is| subjective| and| varies| from| person| to| person|,| with| various| philosophical| perspectives| and| no| definitive| answer|.|"
     ]
    }
   ],
   "source": [
    "# each link is a callable where the output of one link is the input to the next\n",
    "chain = Chain(links=[\n",
    "    question_1,\n",
    "    duckduckgo_search,\n",
    "    scrape_urls,\n",
    "    split_documents,  # split web-pages into smaller chunks; defaults to chunk-size of 500\n",
    "    document_index,  # __call__ function calls add() if given a list of documents (which is returned by `split_documents`)\n",
    "    question_1,\n",
    "    prompt_template,\n",
    "    non_streaming_chat,\n",
    "    question_2,\n",
    "    streaming_chat,\n",
    "])\n",
    "# the value passed into `chain()` is passed to the `initial_question` object (which\n",
    "# is `Value` object and so it caches the value passed in and also returns it) which then gets\n",
    "# passed to the `duckduckgo_search` object, and so on.\n",
    "# the response of the final model is streamed, because our chat model has the streaming_callback\n",
    "# set, but it should also match the response returned\n",
    "response = chain(\"What is the meaning of life?\")"
   ]
  },
  {
   "cell_type": "code",
   "execution_count": 6,
   "metadata": {},
   "outputs": [
    {
     "data": {
      "text/plain": [
       "'The meaning of life is subjective, with popular answers including realizing potential and ideals, chasing dreams, and being responsible.'"
      ]
     },
     "execution_count": 6,
     "metadata": {},
     "output_type": "execute_result"
    }
   ],
   "source": [
    "response"
   ]
  },
  {
   "attachments": {},
   "cell_type": "markdown",
   "metadata": {},
   "source": [
    "---"
   ]
  },
  {
   "attachments": {},
   "cell_type": "markdown",
   "metadata": {},
   "source": [
    "### Total costs and usage\n",
    "\n",
    "The `Chain` object aggregates the costs/usage across all links that have a `history` property where that `history` property returns `UsageRecord` objects. In other words, any link that tracks its own history automatically gets counted towards the total usage within the Chain."
   ]
  },
  {
   "cell_type": "code",
   "execution_count": 4,
   "metadata": {},
   "outputs": [
    {
     "name": "stdout",
     "output_type": "stream",
     "text": [
      "Cost:   $0.0055\n",
      "Tokens: 44,470\n"
     ]
    }
   ],
   "source": [
    "print(f\"Cost:   ${chain.cost:.4f}\")\n",
    "print(f\"Tokens: {chain.total_tokens:,}\")"
   ]
  },
  {
   "attachments": {},
   "cell_type": "markdown",
   "metadata": {},
   "source": [
    "### History\n",
    "\n",
    "Similar to tracking the costs/usage, we can dig into the history at a more granular level.\n",
    "\n",
    "As you can see below, the `history` property returns a list containing:\n",
    "\n",
    "- a `SearchRecord` object capturing our original search query and results\n",
    "- two `EmbeddingsRecord` records; the first corresponds to getting the embeddings of all of the chunks from the web-pages; the second corresponds to getting the embedding of our original question so that we can find the most relevant chunks; the `EmbeddingsRecord` is a `UsageRecord` so it contains costs/usage\n",
    "- two `MessageRecord` records; the first corresponds to the first question (prompt & response) we made to the chat model; the second corresponds to our second query to the chat model asking it to summarize the first response; the `MessageRecord` is a `UsageRecord` so it contains costs/usage"
   ]
  },
  {
   "cell_type": "code",
   "execution_count": 5,
   "metadata": {},
   "outputs": [
    {
     "data": {
      "text/plain": [
       "[SearchRecord(uuid='2f51086d-3018-457c-867a-e56b8bc59c61', timestamp='2023-06-27 20:14:51.083', metadata={}, query='What is the meaning of life?', results=[{'title': 'Life Definition & Meaning - Merriam-Webster', 'href': 'https://www.merriam-webster.com/dictionary/life', 'body': 'life: [noun] the quality that distinguishes a vital and functional being from a dead body. a principle or force that is considered to underlie the distinctive quality of animate beings. an organismic state characterized by capacity for metabolism (see metabolism 1), growth, reaction to stimuli, and reproduction.'}, {'title': 'Meaning of life - Wikipedia', 'href': 'https://en.wikipedia.org/wiki/Meaning_of_life', 'body': 'The meaning of life, or the answer to the question: \"What is the meaning of life?\", pertains to the significance of living or existence in general. Many other related questions include: \"Why are we here?\", \"What is life all about?\", or \"What is the purpose of existence?\"'}, {'title': 'What Is the Meaning of Life According to Positive Psychology', 'href': 'https://positivepsychology.com/meaning-of-life-positive-psychology/', 'body': '\"The sole meaning of life is to serve humanity.\" Leo Tolstoy \"For the meaning of life differs from man to man, from day to day, and from hour to hour. What matters, therefore, is not the meaning of life in general but rather the specific meaning of a person\\'s life at a given moment.\" Viktor Frankl'}]),\n",
       " EmbeddingsRecord(uuid='33208566-b7f5-4631-b221-bdc90f5e0d8c', timestamp='2023-06-27 20:14:54.202', metadata={'model_name': 'text-embedding-ada-002'}, total_tokens=43743, cost=0.0043743),\n",
       " EmbeddingsRecord(uuid='8a66815b-cd67-45c6-8111-e1e48140ed76', timestamp='2023-06-27 20:14:54.932', metadata={'model_name': 'text-embedding-ada-002'}, total_tokens=7, cost=7.000000000000001e-07),\n",
       " MessageRecord(uuid='e73e2bca-2843-47fc-8b7e-c7b2ad07ef56', timestamp='2023-06-27 20:15:00.086', metadata={'model_name': 'gpt-3.5-turbo'}, total_tokens=536, cost=0.000869, prompt='\\nAnswer the question at the end of the text as truthfully and accurately as possible, based on the following information provided.\\n\\nHere is the information:\\n\\n```\\n\"leap\", arguing that life is full of absurdity, and one must make his and her own values in an indifferent world. One can live meaningfully (free of despair and anxiety) in an unconditional commitment to something finite and devotes that meaningful life to the commitment, despite the vulnerability inherent to doing so.[87] Arthur Schopenhauer answered: \"What is the meaning of life?\" by stating that one\\'s life reflects one\\'s will, and that the will (life) is an aimless, irrational, and painful\\n\\nlessons life offers us.[168] To find the meaning or purpose of life.[186][187] To find a reason to live.[188] To resolve the imbalance of the mind by understanding the nature of reality.[189] To do good, to do the right thing See also: ethics To leave the world as a better place than you found it.[161] To do your best to leave every situation better than you found it.[161] To benefit others.[11] To give more than you take.[161] To end suffering.[190][191][192] To create equality.[193][194][195]\\n\\nmeaning of life is too profound to be known and understood.[189] You will never live if you are looking for the meaning of life.[161] The meaning of life is to forget about the search for the meaning of life.[161] Ultimately, a person should not ask what the meaning of their life is, but rather must recognize that it is they themselves who are asked. In a word, each person is questioned by life; and they can only answer to life by answering for their own life; to life they can only respond by\\n```\\n\\nHere is the question:\\n\\nWhat is the meaning of life?\\n', response='The meaning of life is a complex and subjective topic with various philosophical perspectives. Some argue that life is full of absurdity, and one must make their own values in an indifferent world. Others suggest that the meaning of life is to find a reason to live, to benefit others, to end suffering, or to create equality. Some believe that the meaning of life is too profound to be known and understood, while others suggest that the search for the meaning of life should be forgotten. Ultimately, each person is questioned by life, and they can only answer for their own life. Therefore, the meaning of life is subjective and varies from person to person.', prompt_tokens=406, response_tokens=130),\n",
       " MessageRecord(uuid='0ce512dd-3987-491d-9269-a926770d58fb', timestamp='2023-06-27 20:15:03.002', metadata={'model_name': 'gpt-3.5-turbo'}, total_tokens=184, cost=0.000287, prompt='Summarize the following in less than 20 words: \"The meaning of life is a complex and subjective topic with various philosophical perspectives. Some argue that life is full of absurdity, and one must make their own values in an indifferent world. Others suggest that the meaning of life is to find a reason to live, to benefit others, to end suffering, or to create equality. Some believe that the meaning of life is too profound to be known and understood, while others suggest that the search for the meaning of life should be forgotten. Ultimately, each person is questioned by life, and they can only answer for their own life. Therefore, the meaning of life is subjective and varies from person to person.\"', response='The meaning of life is subjective and varies from person to person, with various philosophical perspectives and no definitive answer.', prompt_tokens=162, response_tokens=22)]"
      ]
     },
     "execution_count": 5,
     "metadata": {},
     "output_type": "execute_result"
    }
   ],
   "source": [
    "chain.history"
   ]
  },
  {
   "cell_type": "code",
   "execution_count": 6,
   "metadata": {},
   "outputs": [
    {
     "name": "stdout",
     "output_type": "stream",
     "text": [
      "timestamp: 2023-06-27 20:15:00.086; prompt: \"Answer the question ...\"; response: \"The meaning of life ...\";  cost: $0.000869; total_tokens: 536; metadata: {'model_name': 'gpt-3.5-turbo'}\n",
      "timestamp: 2023-06-27 20:15:03.002; prompt: \"Summarize the follow...\"; response: \"The meaning of life ...\";  cost: $0.000287; total_tokens: 184; metadata: {'model_name': 'gpt-3.5-turbo'}\n"
     ]
    }
   ],
   "source": [
    "print(chain.history[3])\n",
    "print(chain.history[4])"
   ]
  },
  {
   "attachments": {},
   "cell_type": "markdown",
   "metadata": {},
   "source": [
    "#### `message_history`\n",
    "\n",
    "We can use the `message_history` property which simply returns all of the history items that are of type `MessageRecord`"
   ]
  },
  {
   "cell_type": "code",
   "execution_count": 7,
   "metadata": {},
   "outputs": [
    {
     "data": {
      "text/plain": [
       "[MessageRecord(uuid='e73e2bca-2843-47fc-8b7e-c7b2ad07ef56', timestamp='2023-06-27 20:15:00.086', metadata={'model_name': 'gpt-3.5-turbo'}, total_tokens=536, cost=0.000869, prompt='\\nAnswer the question at the end of the text as truthfully and accurately as possible, based on the following information provided.\\n\\nHere is the information:\\n\\n```\\n\"leap\", arguing that life is full of absurdity, and one must make his and her own values in an indifferent world. One can live meaningfully (free of despair and anxiety) in an unconditional commitment to something finite and devotes that meaningful life to the commitment, despite the vulnerability inherent to doing so.[87] Arthur Schopenhauer answered: \"What is the meaning of life?\" by stating that one\\'s life reflects one\\'s will, and that the will (life) is an aimless, irrational, and painful\\n\\nlessons life offers us.[168] To find the meaning or purpose of life.[186][187] To find a reason to live.[188] To resolve the imbalance of the mind by understanding the nature of reality.[189] To do good, to do the right thing See also: ethics To leave the world as a better place than you found it.[161] To do your best to leave every situation better than you found it.[161] To benefit others.[11] To give more than you take.[161] To end suffering.[190][191][192] To create equality.[193][194][195]\\n\\nmeaning of life is too profound to be known and understood.[189] You will never live if you are looking for the meaning of life.[161] The meaning of life is to forget about the search for the meaning of life.[161] Ultimately, a person should not ask what the meaning of their life is, but rather must recognize that it is they themselves who are asked. In a word, each person is questioned by life; and they can only answer to life by answering for their own life; to life they can only respond by\\n```\\n\\nHere is the question:\\n\\nWhat is the meaning of life?\\n', response='The meaning of life is a complex and subjective topic with various philosophical perspectives. Some argue that life is full of absurdity, and one must make their own values in an indifferent world. Others suggest that the meaning of life is to find a reason to live, to benefit others, to end suffering, or to create equality. Some believe that the meaning of life is too profound to be known and understood, while others suggest that the search for the meaning of life should be forgotten. Ultimately, each person is questioned by life, and they can only answer for their own life. Therefore, the meaning of life is subjective and varies from person to person.', prompt_tokens=406, response_tokens=130),\n",
       " MessageRecord(uuid='0ce512dd-3987-491d-9269-a926770d58fb', timestamp='2023-06-27 20:15:03.002', metadata={'model_name': 'gpt-3.5-turbo'}, total_tokens=184, cost=0.000287, prompt='Summarize the following in less than 20 words: \"The meaning of life is a complex and subjective topic with various philosophical perspectives. Some argue that life is full of absurdity, and one must make their own values in an indifferent world. Others suggest that the meaning of life is to find a reason to live, to benefit others, to end suffering, or to create equality. Some believe that the meaning of life is too profound to be known and understood, while others suggest that the search for the meaning of life should be forgotten. Ultimately, each person is questioned by life, and they can only answer for their own life. Therefore, the meaning of life is subjective and varies from person to person.\"', response='The meaning of life is subjective and varies from person to person, with various philosophical perspectives and no definitive answer.', prompt_tokens=162, response_tokens=22)]"
      ]
     },
     "execution_count": 7,
     "metadata": {},
     "output_type": "execute_result"
    }
   ],
   "source": [
    "chain.message_history"
   ]
  },
  {
   "cell_type": "code",
   "execution_count": 8,
   "metadata": {},
   "outputs": [
    {
     "name": "stdout",
     "output_type": "stream",
     "text": [
      "timestamp: 2023-06-27 20:15:00.086; prompt: \"Answer the question ...\"; response: \"The meaning of life ...\";  cost: $0.000869; total_tokens: 536; metadata: {'model_name': 'gpt-3.5-turbo'}\n",
      "timestamp: 2023-06-27 20:15:03.002; prompt: \"Summarize the follow...\"; response: \"The meaning of life ...\";  cost: $0.000287; total_tokens: 184; metadata: {'model_name': 'gpt-3.5-turbo'}\n"
     ]
    }
   ],
   "source": [
    "print(chain.message_history[0])  # same as chain.history[3]\n",
    "print(chain.message_history[1])  # same as chain.history[4]"
   ]
  },
  {
   "attachments": {},
   "cell_type": "markdown",
   "metadata": {},
   "source": [
    "#### First prompt to the chat model\n",
    "\n",
    "You can see below that we used three chunks from our original web-search in the first prompt we sent to ChatGPT."
   ]
  },
  {
   "cell_type": "code",
   "execution_count": 11,
   "metadata": {},
   "outputs": [
    {
     "data": {
      "text/markdown": [
       "\n",
       "Answer the question at the end of the text as truthfully and accurately as possible, based on the following information provided.\n",
       "\n",
       "Here is the information:\n",
       "\n",
       "```\n",
       "\"leap\", arguing that life is full of absurdity, and one must make his and her own values in an indifferent world. One can live meaningfully (free of despair and anxiety) in an unconditional commitment to something finite and devotes that meaningful life to the commitment, despite the vulnerability inherent to doing so.[87] Arthur Schopenhauer answered: \"What is the meaning of life?\" by stating that one's life reflects one's will, and that the will (life) is an aimless, irrational, and painful\n",
       "\n",
       "lessons life offers us.[168] To find the meaning or purpose of life.[186][187] To find a reason to live.[188] To resolve the imbalance of the mind by understanding the nature of reality.[189] To do good, to do the right thing See also: ethics To leave the world as a better place than you found it.[161] To do your best to leave every situation better than you found it.[161] To benefit others.[11] To give more than you take.[161] To end suffering.[190][191][192] To create equality.[193][194][195]\n",
       "\n",
       "meaning of life is too profound to be known and understood.[189] You will never live if you are looking for the meaning of life.[161] The meaning of life is to forget about the search for the meaning of life.[161] Ultimately, a person should not ask what the meaning of their life is, but rather must recognize that it is they themselves who are asked. In a word, each person is questioned by life; and they can only answer to life by answering for their own life; to life they can only respond by\n",
       "```\n",
       "\n",
       "Here is the question:\n",
       "\n",
       "What is the meaning of life?\n"
      ],
      "text/plain": [
       "<IPython.core.display.Markdown object>"
      ]
     },
     "metadata": {},
     "output_type": "display_data"
    }
   ],
   "source": [
    "mprint(chain.message_history[0].prompt)"
   ]
  },
  {
   "attachments": {},
   "cell_type": "markdown",
   "metadata": {},
   "source": [
    "#### First response from the chat model"
   ]
  },
  {
   "cell_type": "code",
   "execution_count": 12,
   "metadata": {},
   "outputs": [
    {
     "data": {
      "text/markdown": [
       "> The meaning of life is a complex and subjective topic with various philosophical perspectives. Some argue that life is full of absurdity, and one must make their own values in an indifferent world. Others suggest that the meaning of life is to find a reason to live, to benefit others, to end suffering, or to create equality. Some believe that the meaning of life is too profound to be known and understood, while others suggest that the search for the meaning of life should be forgotten. Ultimately, each person is questioned by life, and they can only answer for their own life. Therefore, the meaning of life is subjective and varies from person to person."
      ],
      "text/plain": [
       "<IPython.core.display.Markdown object>"
      ]
     },
     "metadata": {},
     "output_type": "display_data"
    }
   ],
   "source": [
    "mprint(\"> \" + chain.message_history[0].response)"
   ]
  },
  {
   "attachments": {},
   "cell_type": "markdown",
   "metadata": {},
   "source": [
    "#### Second prompt to the chat model"
   ]
  },
  {
   "cell_type": "code",
   "execution_count": 13,
   "metadata": {},
   "outputs": [
    {
     "data": {
      "text/markdown": [
       "Summarize the following in less than 20 words: \"The meaning of life is a complex and subjective topic with various philosophical perspectives. Some argue that life is full of absurdity, and one must make their own values in an indifferent world. Others suggest that the meaning of life is to find a reason to live, to benefit others, to end suffering, or to create equality. Some believe that the meaning of life is too profound to be known and understood, while others suggest that the search for the meaning of life should be forgotten. Ultimately, each person is questioned by life, and they can only answer for their own life. Therefore, the meaning of life is subjective and varies from person to person.\""
      ],
      "text/plain": [
       "<IPython.core.display.Markdown object>"
      ]
     },
     "metadata": {},
     "output_type": "display_data"
    }
   ],
   "source": [
    "mprint(chain.message_history[1].prompt)"
   ]
  },
  {
   "attachments": {},
   "cell_type": "markdown",
   "metadata": {},
   "source": [
    "#### Second response from the chat model"
   ]
  },
  {
   "cell_type": "code",
   "execution_count": 14,
   "metadata": {},
   "outputs": [
    {
     "data": {
      "text/markdown": [
       "> The meaning of life is subjective and varies from person to person, with various philosophical perspectives and no definitive answer."
      ],
      "text/plain": [
       "<IPython.core.display.Markdown object>"
      ]
     },
     "metadata": {},
     "output_type": "display_data"
    }
   ],
   "source": [
    "mprint(\"> \" + chain.message_history[1].response)"
   ]
  },
  {
   "attachments": {},
   "cell_type": "markdown",
   "metadata": {},
   "source": [
    "---"
   ]
  }
 ],
 "metadata": {
  "kernelspec": {
   "display_name": "Python 3",
   "language": "python",
   "name": "python3"
  },
  "language_info": {
   "codemirror_mode": {
    "name": "ipython",
    "version": 3
   },
   "file_extension": ".py",
   "mimetype": "text/x-python",
   "name": "python",
   "nbconvert_exporter": "python",
   "pygments_lexer": "ipython3",
   "version": "3.11.4"
  },
  "orig_nbformat": 4
 },
 "nbformat": 4,
 "nbformat_minor": 2
}
