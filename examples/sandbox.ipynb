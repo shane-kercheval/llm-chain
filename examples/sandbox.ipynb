{
 "cells": [
  {
   "cell_type": "code",
   "execution_count": null,
   "metadata": {},
   "outputs": [],
   "source": [
    "from dotenv import load_dotenv\n",
    "load_dotenv()\n",
    "import os\n",
    "\n",
    "api_key = os.getenv('STACK_OVERFLOW_KEY')\n",
    "search_query = \"Using Vicuna + langchain + llama_index for creating a self hosted LLM model\"\n",
    "url = \"https://api.stackexchange.com/2.3/search\""
   ]
  },
  {
   "cell_type": "code",
   "execution_count": null,
   "metadata": {},
   "outputs": [],
   "source": [
    "import requests\n",
    "\n",
    "params = {\n",
    "    \"site\": \"stackoverflow\",\n",
    "    \"key\": api_key,\n",
    "    \"intitle\": search_query,\n",
    "    \"sort\": \"relevance\"  # Sort by relevance to get the top answer\n",
    "}\n",
    "\n",
    "response = requests.get(url, params=params)\n",
    "data = response.json()\n",
    "\n",
    "# Extract relevant information from the API response\n",
    "items = data[\"items\"]\n",
    "\n",
    "for item in items:\n",
    "    question_title = item[\"title\"]\n",
    "    question_url = item[\"link\"]\n",
    "    print(question_title)\n",
    "    print(question_url)\n",
    "    print(\"---\")\n"
   ]
  },
  {
   "cell_type": "code",
   "execution_count": null,
   "metadata": {},
   "outputs": [],
   "source": [
    "items"
   ]
  },
  {
   "attachments": {},
   "cell_type": "markdown",
   "metadata": {},
   "source": [
    "---"
   ]
  },
  {
   "cell_type": "code",
   "execution_count": null,
   "metadata": {},
   "outputs": [],
   "source": [
    "import requests\n",
    "\n",
    "params = {\n",
    "    \"site\": \"stackoverflow\",\n",
    "    \"key\": api_key,\n",
    "    \"intitle\": search_query,\n",
    "    \"sort\": \"relevance\"\n",
    "}\n",
    "\n",
    "response = requests.get(url, params=params)\n",
    "data = response.json()\n",
    "\n",
    "items = data[\"items\"]\n",
    "\n",
    "for item in items:\n",
    "    question_id = item[\"question_id\"]  # Get the ID of the question\n",
    "\n",
    "    # Fetch the question details using the question ID\n",
    "    question_url = f\"https://api.stackexchange.com/2.3/questions/{question_id}\"\n",
    "    params = {\n",
    "        \"site\": \"stackoverflow\",\n",
    "        \"key\": api_key,\n",
    "        \"filter\": \"withbody\"  # Include the question body in the response\n",
    "    }\n",
    "\n",
    "    question_response = requests.get(question_url, params=params)\n",
    "    question_data = question_response.json()\n",
    "    question_title = question_data[\"items\"][0][\"title\"]\n",
    "    question_body = question_data[\"items\"][0][\"body\"]"
   ]
  },
  {
   "cell_type": "code",
   "execution_count": null,
   "metadata": {},
   "outputs": [],
   "source": [
    "print(\"Question Title:\", question_title)\n",
    "print(\"Question URL:\", question_data[\"items\"][0][\"link\"])\n",
    "print(\"Question Body:\", question_body)\n",
    "\n",
    "# Check if an accepted answer exists for the question\n",
    "if \"accepted_answer_id\" in question_data[\"items\"][0]:\n",
    "    answer_id = question_data[\"items\"][0][\"accepted_answer_id\"]\n",
    "\n",
    "    # Fetch the answer details using the answer ID\n",
    "    answer_url = f\"https://api.stackexchange.com/2.3/answers/{answer_id}\"\n",
    "    answer_params = {\n",
    "        \"site\": \"stackoverflow\",\n",
    "        \"key\": api_key,\n",
    "        \"filter\": \"withbody\"  # Include the answer body in the response\n",
    "    }\n",
    "\n",
    "    answer_response = requests.get(answer_url, params=answer_params)\n",
    "    answer_data = answer_response.json()\n",
    "    answer_body = answer_data[\"items\"][0][\"body\"]\n",
    "\n",
    "    print(\"Top Answer:\")\n",
    "    print(answer_body)\n",
    "    print(\"---\")\n",
    "else:\n",
    "    print(\"No accepted answer found.\")\n",
    "    print(\"---\")\n"
   ]
  },
  {
   "cell_type": "code",
   "execution_count": null,
   "metadata": {},
   "outputs": [],
   "source": []
  },
  {
   "cell_type": "code",
   "execution_count": null,
   "metadata": {},
   "outputs": [],
   "source": [
    "question_data"
   ]
  },
  {
   "attachments": {},
   "cell_type": "markdown",
   "metadata": {},
   "source": [
    "---"
   ]
  },
  {
   "cell_type": "code",
   "execution_count": null,
   "metadata": {},
   "outputs": [],
   "source": [
    "search_query = \"getting segmentation fault in linux\""
   ]
  },
  {
   "cell_type": "code",
   "execution_count": null,
   "metadata": {},
   "outputs": [],
   "source": [
    "import requests\n",
    "\n",
    "params = {\n",
    "    \"site\": \"stackoverflow\",\n",
    "    \"key\": api_key,\n",
    "    \"intitle\": search_query,\n",
    "    \"sort\": \"relevance\",\n",
    "    \"pagesize\": 5  # Number of items per page, adjust as needed\n",
    "}\n",
    "\n",
    "page = 1  # Starting page\n",
    "\n",
    "# while True:\n",
    "params[\"page\"] = page\n",
    "response = requests.get(url, params=params)\n",
    "data = response.json()\n",
    "\n",
    "items = data[\"items\"]\n",
    "print(len(items))\n",
    "\n",
    "# if len(items) == 0:\n",
    "#     break  # No more items, exit the loop\n",
    "\n",
    "for item in items:\n",
    "    question_id = item[\"question_id\"]  # Get the ID of the question\n",
    "\n",
    "    # Fetch the question details using the question ID\n",
    "    question_url = f\"https://api.stackexchange.com/2.3/questions/{question_id}\"\n",
    "    params = {\n",
    "        \"site\": \"stackoverflow\",\n",
    "        \"key\": api_key,\n",
    "        \"filter\": \"withbody\"  # Include the question body in the response\n",
    "    }\n",
    "\n",
    "    question_response = requests.get(question_url, params=params)\n",
    "    question_data = question_response.json()\n",
    "    question_title = question_data[\"items\"][0][\"title\"]\n",
    "    question_body = question_data[\"items\"][0][\"body\"]\n",
    "\n",
    "    # Check if an accepted answer exists for the question\n",
    "    if \"accepted_answer_id\" in question_data[\"items\"][0]:\n",
    "        answer_id = question_data[\"items\"][0][\"accepted_answer_id\"]\n",
    "\n",
    "        # Fetch the answer details using the answer ID\n",
    "        answer_url = f\"https://api.stackexchange.com/2.3/answers/{answer_id}\"\n",
    "        answer_params = {\n",
    "            \"site\": \"stackoverflow\",\n",
    "            \"key\": api_key,\n",
    "            \"filter\": \"withbody\"  # Include the answer body in the response\n",
    "        }\n",
    "\n",
    "        answer_response = requests.get(answer_url, params=answer_params)\n",
    "        answer_data = answer_response.json()\n",
    "        answer_body = answer_data[\"items\"][0][\"body\"]\n",
    "\n",
    "        print(\"Question Title:\", question_title)\n",
    "        print(\"Question URL:\", question_data[\"items\"][0][\"link\"])\n",
    "        print(\"Question Body:\", question_body)\n",
    "        print(\"Top Answer:\")\n",
    "        print(answer_body)\n",
    "        print(\"---\")\n",
    "    else:\n",
    "        print(\"Question Title:\", question_title)\n",
    "        print(\"Question URL:\", question_data[\"items\"][0][\"link\"])\n",
    "        print(\"Question Body:\", question_body)\n",
    "        print(\"No accepted answer found.\")\n",
    "        print(\"---\")\n",
    "\n",
    "    # page += 1  # Move to the next page\n"
   ]
  },
  {
   "cell_type": "code",
   "execution_count": null,
   "metadata": {},
   "outputs": [],
   "source": [
    "items"
   ]
  },
  {
   "cell_type": "code",
   "execution_count": null,
   "metadata": {},
   "outputs": [],
   "source": [
    " question_data[\"items\"]"
   ]
  },
  {
   "cell_type": "code",
   "execution_count": null,
   "metadata": {},
   "outputs": [],
   "source": [
    "import requests\n",
    "\n",
    "params = {\n",
    "    \"site\": \"stackoverflow\",\n",
    "    \"key\": api_key,\n",
    "    \"intitle\": search_query,\n",
    "    \"sort\": \"relevance\",\n",
    "    \"pagesize\": 5  # Number of items per page, adjust as needed\n",
    "}\n",
    "\n",
    "params[\"page\"] = page\n",
    "response = requests.get(url, params=params)\n",
    "data = response.json()\n",
    "\n",
    "items = data[\"items\"]\n",
    "\n",
    "for item in items:\n",
    "    question_id = item[\"question_id\"]  # Get the ID of the question\n",
    "\n",
    "    # Fetch the question details using the question ID\n",
    "    question_url = f\"https://api.stackexchange.com/2.3/questions/{question_id}\"\n",
    "    params = {\n",
    "        \"site\": \"stackoverflow\",\n",
    "        \"key\": api_key,\n",
    "        \"filter\": \"withbody\"  # Include the question body in the response\n",
    "    }\n",
    "\n",
    "    question_response = requests.get(question_url, params=params)\n",
    "    question_data = question_response.json()\n",
    "    question_title = question_data[\"items\"][0][\"title\"]\n",
    "    question_body = question_data[\"items\"][0][\"body\"]\n",
    "\n",
    "    # Fetch all answers for the question\n",
    "    url = f\"https://api.stackexchange.com/2.3/questions/{question_id}/answers\"\n",
    "    params = {\n",
    "        \"site\": \"stackoverflow\",\n",
    "        \"key\": api_key,\n",
    "        \"filter\": \"withbody\",  # Include the answer body in the response\n",
    "        \"sort\": \"votes\",  # Sort answers by votes (highest first)\n",
    "        \"pagesize\": 5  # Fetch only the top answer\n",
    "    }\n",
    "\n",
    "    response = requests.get(url, params=params)\n",
    "    data = response.json()\n",
    "    if len(data[\"items\"]) > 0:\n",
    "        answer_body = data[\"items\"][0][\"body\"]\n",
    "        answer_votes = data[\"items\"][0][\"score\"]\n",
    "    else:\n",
    "        answer_body = \"No answers found.\"\n",
    "        answer_votes = 0\n",
    "\n",
    "    print(\"Question Title:\", question_title)\n",
    "    print(\"Question URL:\", question_data[\"items\"][0][\"link\"])\n",
    "    print(\"Question Body:\", question_body)\n",
    "    print(\"Top Answer (Votes:\", answer_votes, \"):\")\n",
    "    print(answer_body)\n",
    "    print(\"---\")\n",
    "\n"
   ]
  },
  {
   "cell_type": "code",
   "execution_count": null,
   "metadata": {},
   "outputs": [],
   "source": [
    "data"
   ]
  },
  {
   "cell_type": "code",
   "execution_count": null,
   "metadata": {},
   "outputs": [],
   "source": [
    "data['items'][0]"
   ]
  },
  {
   "cell_type": "code",
   "execution_count": null,
   "metadata": {},
   "outputs": [],
   "source": [
    "data['items'][1]"
   ]
  },
  {
   "cell_type": "code",
   "execution_count": null,
   "metadata": {},
   "outputs": [],
   "source": [
    "Answer(**{'body': 'asdf', 'score': 0, })"
   ]
  },
  {
   "cell_type": "code",
   "execution_count": 12,
   "metadata": {},
   "outputs": [
    {
     "data": {
      "text/plain": [
       "[Result(question_id=47724281, score=0, creation_date=datetime.datetime(2017, 12, 9, 1, 4, 6), answer_count=0, title='Getting segmentation fault in linux but not in Windows', link='https://stackoverflow.com/questions/47724281/getting-segmentation-fault-in-linux-but-not-in-windows', body='<p>I\\'m trying to protect a program from invalid inputs and I\\'ve made a function that is not working in Linux but, apparently, works fine in Windows. I receive a String and the program is supposed to accept only Strings that have 3 \" \" and the last 3 values are digits. E.g \"Mike 1 1 1\".</p>\\n\\n<p>The solution I came up with was</p>\\n\\n<pre><code>int verify(char string[]){\\n    int n = 0;\\n    char* aux = strtok(string, \" \");\\n    while((aux=strtok(NULL, \" \"))!=NULL){\\n        if(isdigit(aux[0])==0)break;\\n        n++;\\n    }\\n    return n;\\n}\\n</code></pre>\\n\\n<p>If n is 3 I accept the input. I know that this solution won\\'t be correct for an input like \"Mike 1 1a 1\" but for now that won\\'t be important. I really wanted to know why this doesn\\'t work in Linux and how can I test this in a way that will work. </p>\\n', content_license='CC BY-SA 3.0', answers=[]),\n",
       " Result(question_id=16304595, score=1, creation_date=datetime.datetime(2013, 4, 30, 16, 21, 1), answer_count=3, title='Getting segmentation fault in Linux when running my C program', link='https://stackoverflow.com/questions/16304595/getting-segmentation-fault-in-linux-when-running-my-c-program', body='<p>I am trying to simulate the <a href=\"http://en.wikipedia.org/wiki/Cat_%28Unix%29\" rel=\"nofollow\">cat</a> command in <a href=\"http://en.wikipedia.org/wiki/Red_Hat_Linux\" rel=\"nofollow\">Red Hat Linux</a>. I am getting a <a href=\"http://en.wikipedia.org/wiki/Segmentation_fault\" rel=\"nofollow\">segmentation fault</a> when I run my program.</p>\\n\\n<p>For example:</p>\\n\\n<pre><code>./a.out a &gt; b\\n</code></pre>\\n\\n<p><code>a</code> contains hello. I expect hello to be copied in <code>b</code>.</p>\\n\\n<p>My code is as follows:</p>\\n\\n<pre><code>#include &lt;stdio.h&gt;\\n#include &lt;sys/types.h&gt;\\n#include &lt;sys/stat.h&gt;\\n#include &lt;unistd.h&gt;\\n#include &lt;fcntl.h&gt;\\n#include &lt;string.h&gt;\\n\\nint main(int argc,char *argv[])\\n{\\n    int f, fd, r;\\n    char buf[100];\\n\\n    if (argc &lt; 2)\\n    {\\n        printf(\"Error\");\\n        return 0;\\n    }\\n    else\\n    {\\n        if (!strcmp(argv[2],\"&gt;\"))\\n        {\\n            f = open(argv[1],0,00777);\\n\\n            if (f == -1)\\n                printf(\"no file\");\\n            else\\n            {\\n                fd = creat(argv[3],00777);\\n                while( (r = read(f,buf,50)) &gt; 0)\\n                    write(fd, buf, r);\\n            }\\n        }\\n    }\\n    return 0;\\n}\\n</code></pre>\\n\\n<p>Why am I getting a segmentaion error?</p>\\n\\n<p>I have a similar program where I open and create the file in the same manner, and that program is running, but this one is giving me a segmentation fault.</p>\\n', content_license='CC BY-SA 3.0', answers=[Answer(answer_id=16304619, is_accepted=False, score=6, body=\"<p>It's probably because the redirection is handled by the shell and not by your program, so <code>argv[2]</code> is <code>NULL</code> and <code>argv[3]</code> does not exist.</p>\\n\\n<p>However you should use a debugger to find out what is really happening. And then add proper error checking.</p>\\n\", creation_date=datetime.datetime(2013, 4, 30, 16, 22, 41)), Answer(answer_id=16304873, is_accepted=False, score=4, body='<p>You can live without <code>gdb</code> here - but you have to start solving the problem in a structured manner:</p>\\n\\n<ul>\\n<li><p>Don\\'t take anything as granted. E.g., even if you call your program as <code>program &gt; file</code>, don\\'t assume that <code>argv</code> looks the way you assume, but check it by outputting each of them:</p>\\n\\n<pre><code>printf(\"argc: %d\\\\n\", argc);\\nprintf(\"argv[0]: %s\\\\n\", argv[0]);\\nprintf(\"argv[1]: %s\\\\n\", argv[1]);\\nprintf(\"argv[2]: %s\\\\n\", argv[2]);\\nprintf(\"argv[3]: %s\\\\n\", argv[3]);\\n// the se can be expressed better with a for loop - but I\\'ll leave that as an exercise for you\\n</code></pre></li>\\n<li><p>Only take things as granted what you have verified: if you know that <code>argc &gt;= 2</code>, don\\'t access <code>argv[2]</code> and/or <code>argv[3]</code>.</p></li>\\n<li><p>Don\\'t say</p>\\n\\n<pre><code>if(argc&lt;2)\\n{\\n    printf(\"Error\");\\n    return 0;\\n}\\n</code></pre>\\n\\n<p>but</p>\\n\\n<pre><code>if(argc&lt;2) // according to the point before, better y3 or &lt;4\\n{\\n    printf(\"Too few command line arguments\");\\n    return 1; // not 0; 0 would mean success\\n}\\n</code></pre></li>\\n</ul>\\n', creation_date=datetime.datetime(2013, 4, 30, 16, 36, 48))])]"
      ]
     },
     "execution_count": 12,
     "metadata": {},
     "output_type": "execute_result"
    }
   ],
   "source": [
    "from datetime import datetime\n",
    "from pydantic import BaseModel, Field, validator\n",
    "import requests\n",
    "import os\n",
    "\n",
    "from dotenv import load_dotenv\n",
    "\n",
    "from llm_chain.utilities import retry_handler\n",
    "load_dotenv()\n",
    "\n",
    "\n",
    "class Answer(BaseModel):\n",
    "    answer_id: int\n",
    "    is_accepted: bool\n",
    "    score: int\n",
    "    body: str\n",
    "    creation_date: int\n",
    "\n",
    "    @validator('creation_date')\n",
    "    def convert_to_datetime(cls, value):\n",
    "        return datetime.fromtimestamp(value)\n",
    "\n",
    "\n",
    "class Question(BaseModel):\n",
    "    question_id: int\n",
    "    score: int\n",
    "    creation_date: int\n",
    "    answer_count: int\n",
    "    title: str\n",
    "    link: str\n",
    "    body: str\n",
    "    content_license: str\n",
    "    answers: list[Answer] = Field(default_factory=list)\n",
    "\n",
    "    @validator('creation_date')\n",
    "    def convert_to_datetime(cls, value):\n",
    "        return datetime.fromtimestamp(value)\n",
    "\n",
    "def _get_stack_overflow_answers(question_id: int, num_answers: int = 2) -> list[Answer]:\n",
    "    params = {\n",
    "        \"site\": \"stackoverflow\",\n",
    "        \"key\": os.getenv('STACK_OVERFLOW_KEY'),\n",
    "        \"filter\": \"withbody\",  # Include the answer body in the response\n",
    "        \"sort\": \"votes\",  # Sort answers by votes (highest first)\n",
    "        \"pagesize\": num_answers  # Fetch only the top 5 answer\n",
    "    }\n",
    "    response = retry_handler()(\n",
    "        requests.get,\n",
    "        f\"https://api.stackexchange.com/2.3/questions/{question_id}/answers\",\n",
    "        params=params,\n",
    "    )\n",
    "    assert response.status_code == 200\n",
    "    answers = response.json().get('items', [])\n",
    "    answers = [Answer(**x) for x in answers]\n",
    "    return answers\n",
    "\n",
    "def search_stack_overflow(query: str, num_results: int = 5) -> list[Question]:    \n",
    "    params = {\n",
    "        'site': 'stackoverflow',\n",
    "        'key': os.getenv('STACK_OVERFLOW_KEY'),\n",
    "        'intitle': search_query,\n",
    "        'sort': 'relevance',\n",
    "        'filter': 'withbody',  # Include the question body in the response\n",
    "        'pagesize': num_results,\n",
    "        'page': 1,\n",
    "    }\n",
    "    response = retry_handler()(\n",
    "        requests.get,\n",
    "        'https://api.stackexchange.com/2.3/search',\n",
    "        params=params,\n",
    "    )\n",
    "    assert response.status_code == 200\n",
    "    questions = response.json().get('items', [])\n",
    "    questions = [Result(**x) for x in questions]\n",
    "\n",
    "    for question in questions:\n",
    "        if question.answer_count > 0:\n",
    "            question.answers = _get_stack_overflow_answers(question_id=question.question_id)\n",
    "    return questions\n",
    "\n",
    "\n",
    "search_query = \"getting segmentation fault in linux\"\n",
    "# search_query = \"asdfasdfasdfasdflkasdfljsadlkfjasdlkfja\"\n",
    "results = search_stack_overflow(query=search_query)\n",
    "results\n"
   ]
  },
  {
   "cell_type": "code",
   "execution_count": 13,
   "metadata": {},
   "outputs": [
    {
     "data": {
      "text/plain": [
       "Result(question_id=47724281, score=0, creation_date=datetime.datetime(2017, 12, 9, 1, 4, 6), answer_count=0, title='Getting segmentation fault in linux but not in Windows', link='https://stackoverflow.com/questions/47724281/getting-segmentation-fault-in-linux-but-not-in-windows', body='<p>I\\'m trying to protect a program from invalid inputs and I\\'ve made a function that is not working in Linux but, apparently, works fine in Windows. I receive a String and the program is supposed to accept only Strings that have 3 \" \" and the last 3 values are digits. E.g \"Mike 1 1 1\".</p>\\n\\n<p>The solution I came up with was</p>\\n\\n<pre><code>int verify(char string[]){\\n    int n = 0;\\n    char* aux = strtok(string, \" \");\\n    while((aux=strtok(NULL, \" \"))!=NULL){\\n        if(isdigit(aux[0])==0)break;\\n        n++;\\n    }\\n    return n;\\n}\\n</code></pre>\\n\\n<p>If n is 3 I accept the input. I know that this solution won\\'t be correct for an input like \"Mike 1 1a 1\" but for now that won\\'t be important. I really wanted to know why this doesn\\'t work in Linux and how can I test this in a way that will work. </p>\\n', content_license='CC BY-SA 3.0', answers=[])"
      ]
     },
     "execution_count": 13,
     "metadata": {},
     "output_type": "execute_result"
    }
   ],
   "source": [
    "results[0]"
   ]
  },
  {
   "cell_type": "code",
   "execution_count": 15,
   "metadata": {},
   "outputs": [
    {
     "data": {
      "text/plain": [
       "Result(question_id=16304595, score=1, creation_date=datetime.datetime(2013, 4, 30, 16, 21, 1), answer_count=3, title='Getting segmentation fault in Linux when running my C program', link='https://stackoverflow.com/questions/16304595/getting-segmentation-fault-in-linux-when-running-my-c-program', body='<p>I am trying to simulate the <a href=\"http://en.wikipedia.org/wiki/Cat_%28Unix%29\" rel=\"nofollow\">cat</a> command in <a href=\"http://en.wikipedia.org/wiki/Red_Hat_Linux\" rel=\"nofollow\">Red Hat Linux</a>. I am getting a <a href=\"http://en.wikipedia.org/wiki/Segmentation_fault\" rel=\"nofollow\">segmentation fault</a> when I run my program.</p>\\n\\n<p>For example:</p>\\n\\n<pre><code>./a.out a &gt; b\\n</code></pre>\\n\\n<p><code>a</code> contains hello. I expect hello to be copied in <code>b</code>.</p>\\n\\n<p>My code is as follows:</p>\\n\\n<pre><code>#include &lt;stdio.h&gt;\\n#include &lt;sys/types.h&gt;\\n#include &lt;sys/stat.h&gt;\\n#include &lt;unistd.h&gt;\\n#include &lt;fcntl.h&gt;\\n#include &lt;string.h&gt;\\n\\nint main(int argc,char *argv[])\\n{\\n    int f, fd, r;\\n    char buf[100];\\n\\n    if (argc &lt; 2)\\n    {\\n        printf(\"Error\");\\n        return 0;\\n    }\\n    else\\n    {\\n        if (!strcmp(argv[2],\"&gt;\"))\\n        {\\n            f = open(argv[1],0,00777);\\n\\n            if (f == -1)\\n                printf(\"no file\");\\n            else\\n            {\\n                fd = creat(argv[3],00777);\\n                while( (r = read(f,buf,50)) &gt; 0)\\n                    write(fd, buf, r);\\n            }\\n        }\\n    }\\n    return 0;\\n}\\n</code></pre>\\n\\n<p>Why am I getting a segmentaion error?</p>\\n\\n<p>I have a similar program where I open and create the file in the same manner, and that program is running, but this one is giving me a segmentation fault.</p>\\n', content_license='CC BY-SA 3.0', answers=[Answer(answer_id=16304619, is_accepted=False, score=6, body=\"<p>It's probably because the redirection is handled by the shell and not by your program, so <code>argv[2]</code> is <code>NULL</code> and <code>argv[3]</code> does not exist.</p>\\n\\n<p>However you should use a debugger to find out what is really happening. And then add proper error checking.</p>\\n\", creation_date=datetime.datetime(2013, 4, 30, 16, 22, 41)), Answer(answer_id=16304873, is_accepted=False, score=4, body='<p>You can live without <code>gdb</code> here - but you have to start solving the problem in a structured manner:</p>\\n\\n<ul>\\n<li><p>Don\\'t take anything as granted. E.g., even if you call your program as <code>program &gt; file</code>, don\\'t assume that <code>argv</code> looks the way you assume, but check it by outputting each of them:</p>\\n\\n<pre><code>printf(\"argc: %d\\\\n\", argc);\\nprintf(\"argv[0]: %s\\\\n\", argv[0]);\\nprintf(\"argv[1]: %s\\\\n\", argv[1]);\\nprintf(\"argv[2]: %s\\\\n\", argv[2]);\\nprintf(\"argv[3]: %s\\\\n\", argv[3]);\\n// the se can be expressed better with a for loop - but I\\'ll leave that as an exercise for you\\n</code></pre></li>\\n<li><p>Only take things as granted what you have verified: if you know that <code>argc &gt;= 2</code>, don\\'t access <code>argv[2]</code> and/or <code>argv[3]</code>.</p></li>\\n<li><p>Don\\'t say</p>\\n\\n<pre><code>if(argc&lt;2)\\n{\\n    printf(\"Error\");\\n    return 0;\\n}\\n</code></pre>\\n\\n<p>but</p>\\n\\n<pre><code>if(argc&lt;2) // according to the point before, better y3 or &lt;4\\n{\\n    printf(\"Too few command line arguments\");\\n    return 1; // not 0; 0 would mean success\\n}\\n</code></pre></li>\\n</ul>\\n', creation_date=datetime.datetime(2013, 4, 30, 16, 36, 48))])"
      ]
     },
     "execution_count": 15,
     "metadata": {},
     "output_type": "execute_result"
    }
   ],
   "source": [
    "results[1]"
   ]
  },
  {
   "cell_type": "code",
   "execution_count": 16,
   "metadata": {},
   "outputs": [
    {
     "data": {
      "text/plain": [
       "[Answer(answer_id=16304619, is_accepted=False, score=6, body=\"<p>It's probably because the redirection is handled by the shell and not by your program, so <code>argv[2]</code> is <code>NULL</code> and <code>argv[3]</code> does not exist.</p>\\n\\n<p>However you should use a debugger to find out what is really happening. And then add proper error checking.</p>\\n\", creation_date=datetime.datetime(2013, 4, 30, 16, 22, 41)),\n",
       " Answer(answer_id=16304873, is_accepted=False, score=4, body='<p>You can live without <code>gdb</code> here - but you have to start solving the problem in a structured manner:</p>\\n\\n<ul>\\n<li><p>Don\\'t take anything as granted. E.g., even if you call your program as <code>program &gt; file</code>, don\\'t assume that <code>argv</code> looks the way you assume, but check it by outputting each of them:</p>\\n\\n<pre><code>printf(\"argc: %d\\\\n\", argc);\\nprintf(\"argv[0]: %s\\\\n\", argv[0]);\\nprintf(\"argv[1]: %s\\\\n\", argv[1]);\\nprintf(\"argv[2]: %s\\\\n\", argv[2]);\\nprintf(\"argv[3]: %s\\\\n\", argv[3]);\\n// the se can be expressed better with a for loop - but I\\'ll leave that as an exercise for you\\n</code></pre></li>\\n<li><p>Only take things as granted what you have verified: if you know that <code>argc &gt;= 2</code>, don\\'t access <code>argv[2]</code> and/or <code>argv[3]</code>.</p></li>\\n<li><p>Don\\'t say</p>\\n\\n<pre><code>if(argc&lt;2)\\n{\\n    printf(\"Error\");\\n    return 0;\\n}\\n</code></pre>\\n\\n<p>but</p>\\n\\n<pre><code>if(argc&lt;2) // according to the point before, better y3 or &lt;4\\n{\\n    printf(\"Too few command line arguments\");\\n    return 1; // not 0; 0 would mean success\\n}\\n</code></pre></li>\\n</ul>\\n', creation_date=datetime.datetime(2013, 4, 30, 16, 36, 48))]"
      ]
     },
     "execution_count": 16,
     "metadata": {},
     "output_type": "execute_result"
    }
   ],
   "source": [
    "results[1].answers\n"
   ]
  },
  {
   "cell_type": "code",
   "execution_count": null,
   "metadata": {},
   "outputs": [],
   "source": []
  },
  {
   "cell_type": "code",
   "execution_count": null,
   "metadata": {},
   "outputs": [],
   "source": [
    "question_id = 47724281\n",
    "url = f\"https://api.stackexchange.com/2.3/questions/{question_id}/answers\"\n",
    "params = {\n",
    "    \"site\": \"stackoverflow\",\n",
    "    \"key\": api_key,\n",
    "    \"filter\": \"withbody\",  # Include the answer body in the response\n",
    "    \"sort\": \"votes\",  # Sort answers by votes (highest first)\n",
    "    \"pagesize\": 5  # Fetch only the top answer\n",
    "}\n",
    "\n",
    "response = requests.get(url, params=params)\n",
    "data = response.json()\n",
    "data"
   ]
  },
  {
   "cell_type": "code",
   "execution_count": null,
   "metadata": {},
   "outputs": [],
   "source": []
  },
  {
   "cell_type": "code",
   "execution_count": null,
   "metadata": {},
   "outputs": [],
   "source": []
  },
  {
   "cell_type": "code",
   "execution_count": null,
   "metadata": {},
   "outputs": [],
   "source": []
  },
  {
   "cell_type": "code",
   "execution_count": null,
   "metadata": {},
   "outputs": [],
   "source": []
  }
 ],
 "metadata": {
  "kernelspec": {
   "display_name": "Python 3",
   "language": "python",
   "name": "python3"
  },
  "language_info": {
   "codemirror_mode": {
    "name": "ipython",
    "version": 3
   },
   "file_extension": ".py",
   "mimetype": "text/x-python",
   "name": "python",
   "nbconvert_exporter": "python",
   "pygments_lexer": "ipython3",
   "version": "3.11.4"
  },
  "orig_nbformat": 4
 },
 "nbformat": 4,
 "nbformat_minor": 2
}
