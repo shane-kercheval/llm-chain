{
 "cells": [
  {
   "attachments": {},
   "cell_type": "markdown",
   "metadata": {},
   "source": [
    "The following is an example of a conversation between two models. One model represents a data scientist, and the other represents the director of marketing."
   ]
  },
  {
   "attachments": {},
   "cell_type": "markdown",
   "metadata": {},
   "source": [
    "---"
   ]
  },
  {
   "cell_type": "code",
   "execution_count": 1,
   "metadata": {},
   "outputs": [
    {
     "data": {
      "text/plain": [
       "True"
      ]
     },
     "execution_count": 1,
     "metadata": {},
     "output_type": "execute_result"
    }
   ],
   "source": [
    "from dotenv import load_dotenv\n",
    "from notebook_helpers import usage_string, mprint\n",
    "\n",
    "load_dotenv()"
   ]
  },
  {
   "cell_type": "code",
   "execution_count": 2,
   "metadata": {},
   "outputs": [],
   "source": [
    "model_name = 'gpt-3.5-turbo'"
   ]
  },
  {
   "cell_type": "code",
   "execution_count": 3,
   "metadata": {},
   "outputs": [
    {
     "data": {
      "text/markdown": [
       "You are an expert data scientist. You're speaking with a stakeholder in marketing who wants to understand how data science can be applied to marketing based on their team's use-cases. You start by asking the stakeholder to describe her team's responsibilities and goals. You then want to dive into all of the areas she brought up. Keep asking questions and clarifications"
      ],
      "text/plain": [
       "<IPython.core.display.Markdown object>"
      ]
     },
     "metadata": {},
     "output_type": "display_data"
    }
   ],
   "source": [
    "data_scientist_system_message = \"You are an expert data scientist. You're speaking with a stakeholder in marketing who wants to understand how data science can be applied to marketing based on their team's use-cases. You start by asking the stakeholder to describe her team's responsibilities and goals. You then want to dive into all of the areas she brought up. Keep asking questions and clarifications\"\n",
    "mprint(data_scientist_system_message)"
   ]
  },
  {
   "cell_type": "code",
   "execution_count": 4,
   "metadata": {},
   "outputs": [
    {
     "data": {
      "text/markdown": [
       "You are the director of Marketing in a SaaS startup. You're speaking with a data scientist and you'd like to understand how you can use data science to make data-driven decisions. Your primary goal is growth, and driving people to the website and converting visitors to signups.You want to have a long conversation and discuss ideas regarding all of your teams responsibilities and goals. If the data scientists has ideas. Ask clarifying questions and try to understand what's need to implement those ideas."
      ],
      "text/plain": [
       "<IPython.core.display.Markdown object>"
      ]
     },
     "metadata": {},
     "output_type": "display_data"
    }
   ],
   "source": [
    "director_marketing_system_message = \"You are the director of Marketing in a SaaS startup. You're speaking with a data scientist and you'd like to understand how you can use data science to make data-driven decisions. Your primary goal is growth, and driving people to the website and converting visitors to signups.You want to have a long conversation and discuss ideas regarding all of your teams responsibilities and goals. If the data scientists has ideas. Ask clarifying questions and try to understand what's need to implement those ideas.\"\n",
    "mprint(director_marketing_system_message)"
   ]
  },
  {
   "attachments": {},
   "cell_type": "markdown",
   "metadata": {},
   "source": [
    "---"
   ]
  },
  {
   "cell_type": "code",
   "execution_count": 5,
   "metadata": {},
   "outputs": [
    {
     "data": {
      "text/plain": [
       "80"
      ]
     },
     "execution_count": 5,
     "metadata": {},
     "output_type": "execute_result"
    }
   ],
   "source": [
    "from llm_chain.utilities import num_tokens_from_messages\n",
    "\n",
    "ds_system_message_tokens = num_tokens_from_messages(\n",
    "    model_name=model_name,\n",
    "    messages=[{'role': 'system', 'content': data_scientist_system_message}],\n",
    ")\n",
    "ds_system_message_tokens"
   ]
  },
  {
   "cell_type": "code",
   "execution_count": 6,
   "metadata": {},
   "outputs": [
    {
     "data": {
      "text/plain": [
       "104"
      ]
     },
     "execution_count": 6,
     "metadata": {},
     "output_type": "execute_result"
    }
   ],
   "source": [
    "from llm_chain.utilities import num_tokens_from_messages\n",
    "\n",
    "dm_system_message_tokens = num_tokens_from_messages(\n",
    "    model_name=model_name,\n",
    "    messages=[{'role': 'system', 'content': director_marketing_system_message}],\n",
    ")\n",
    "dm_system_message_tokens"
   ]
  },
  {
   "cell_type": "code",
   "execution_count": 7,
   "metadata": {},
   "outputs": [],
   "source": [
    "from llm_chain.base import Session\n",
    "from llm_chain.memory import MemoryBufferTokenWindow\n",
    "from llm_chain.models import OpenAIChat\n",
    "from llm_chain.base import Chain\n",
    "\n",
    "max_completion_tokens= 1000\n",
    "\n",
    "data_scientist = OpenAIChat(\n",
    "    model_name=model_name,\n",
    "    max_tokens=max_completion_tokens,\n",
    "    system_message=data_scientist_system_message,\n",
    "    memory_strategy=MemoryBufferTokenWindow(last_n_tokens=4000 - ds_system_message_tokens - max_completion_tokens)\n",
    ")\n",
    "director_marketing = OpenAIChat(\n",
    "    model_name=model_name,\n",
    "    max_tokens=max_completion_tokens,\n",
    "    system_message=director_marketing_system_message,\n",
    "    memory_strategy=MemoryBufferTokenWindow(last_n_tokens=4000 - dm_system_message_tokens - max_completion_tokens)\n",
    ")"
   ]
  },
  {
   "attachments": {},
   "cell_type": "markdown",
   "metadata": {},
   "source": [
    "---"
   ]
  },
  {
   "attachments": {},
   "cell_type": "markdown",
   "metadata": {},
   "source": [
    "## Initialize the conversation\n"
   ]
  },
  {
   "cell_type": "code",
   "execution_count": 8,
   "metadata": {},
   "outputs": [],
   "source": [
    "response = director_marketing(\"Please describe your team's responsibilities and goals.\")\n",
    "# mprint(response)"
   ]
  },
  {
   "attachments": {},
   "cell_type": "markdown",
   "metadata": {},
   "source": [
    "---"
   ]
  },
  {
   "attachments": {},
   "cell_type": "markdown",
   "metadata": {},
   "source": [
    "## First Round"
   ]
  },
  {
   "cell_type": "code",
   "execution_count": 9,
   "metadata": {},
   "outputs": [],
   "source": [
    "# use the response from the marketing_director as the input to the chain (which starts with the \n",
    "# data scientist)\n",
    "chain = Chain(links=[data_scientist, director_marketing])\n",
    "response = chain(response)"
   ]
  },
  {
   "cell_type": "code",
   "execution_count": 10,
   "metadata": {},
   "outputs": [
    {
     "name": "stdout",
     "output_type": "stream",
     "text": [
      "Cost:           $0.00381\n",
      "Total Tokens:    2,203\n",
      "Prompt Tokens:   1,197\n",
      "Response Tokens: 1,006\n",
      "\n"
     ]
    }
   ],
   "source": [
    "print(usage_string(chain))"
   ]
  },
  {
   "cell_type": "code",
   "execution_count": 11,
   "metadata": {},
   "outputs": [
    {
     "data": {
      "text/markdown": [
       "Please describe your team's responsibilities and goals."
      ],
      "text/plain": [
       "<IPython.core.display.Markdown object>"
      ]
     },
     "metadata": {},
     "output_type": "display_data"
    },
    {
     "data": {
      "text/markdown": [
       "---"
      ],
      "text/plain": [
       "<IPython.core.display.Markdown object>"
      ]
     },
     "metadata": {},
     "output_type": "display_data"
    },
    {
     "data": {
      "text/markdown": [
       "As the director of Marketing, my team's responsibilities and goals revolve around driving growth for our SaaS startup. We are responsible for creating and executing marketing strategies to attract people to our website, convert visitors into signups, and ultimately drive revenue.\n",
       "\n",
       "Some of our specific responsibilities include:\n",
       "\n",
       "1. Developing and implementing digital marketing campaigns: This involves creating and optimizing online advertising campaigns, managing social media channels, and leveraging content marketing to attract and engage our target audience.\n",
       "\n",
       "2. Search engine optimization (SEO): We work on optimizing our website and content to improve our organic search rankings and increase visibility in search engine results.\n",
       "\n",
       "3. Conversion rate optimization (CRO): We focus on improving the user experience on our website, optimizing landing pages, and implementing strategies to increase the conversion rate of visitors into signups or customers.\n",
       "\n",
       "4. Email marketing: We manage email campaigns to nurture leads, engage with customers, and drive conversions.\n",
       "\n",
       "5. Analytics and reporting: We track and analyze key marketing metrics, such as website traffic, conversion rates, customer acquisition costs, and customer lifetime value. This helps us make data-driven decisions and optimize our marketing efforts.\n",
       "\n",
       "Our primary goal is to drive growth by increasing website traffic, improving conversion rates, and ultimately acquiring more customers for our SaaS product. We aim to achieve this by leveraging various marketing channels, optimizing our website and content, and continuously analyzing and optimizing our marketing strategies based on data insights."
      ],
      "text/plain": [
       "<IPython.core.display.Markdown object>"
      ]
     },
     "metadata": {},
     "output_type": "display_data"
    }
   ],
   "source": [
    "mprint(chain.exchange_history[0].prompt)\n",
    "mprint('---')\n",
    "mprint(chain.exchange_history[0].response)"
   ]
  },
  {
   "cell_type": "code",
   "execution_count": 12,
   "metadata": {},
   "outputs": [
    {
     "data": {
      "text/markdown": [
       "Thank you for providing an overview of your team's responsibilities and goals. It's clear that data plays a crucial role in your marketing efforts. Let's dive deeper into each area you mentioned to understand how data science can be applied to support your team's objectives.\n",
       "\n",
       "1. Digital marketing campaigns: How do you currently measure the effectiveness of your online advertising campaigns? Are you using any attribution models to understand which channels or campaigns are driving the most conversions?\n",
       "\n",
       "2. Search engine optimization (SEO): Are you tracking and analyzing keyword rankings, organic traffic, and backlinks? How do you currently identify opportunities for improving your website's SEO performance?\n",
       "\n",
       "3. Conversion rate optimization (CRO): What methods are you currently using to optimize your landing pages? Are you conducting A/B tests or using any other techniques to identify the most effective design and content elements?\n",
       "\n",
       "4. Email marketing: How are you currently measuring the success of your email campaigns? Are you tracking open rates, click-through rates, and conversion rates? Are you segmenting your email list and personalizing your campaigns based on user behavior or demographics?\n",
       "\n",
       "5. Analytics and reporting: What tools or platforms are you currently using to track and analyze your marketing metrics? Are you able to generate actionable insights from your data? How frequently do you review and update your marketing strategies based on these insights?\n",
       "\n",
       "By understanding your current practices and challenges in each area, we can explore how data science techniques and tools can be applied to enhance your marketing efforts and drive growth for your SaaS startup."
      ],
      "text/plain": [
       "<IPython.core.display.Markdown object>"
      ]
     },
     "metadata": {},
     "output_type": "display_data"
    }
   ],
   "source": [
    "# mprint(chain.exchange_history[1].prompt)\n",
    "mprint(chain.exchange_history[1].response)"
   ]
  },
  {
   "cell_type": "code",
   "execution_count": 13,
   "metadata": {},
   "outputs": [
    {
     "data": {
      "text/markdown": [
       "1. Digital marketing campaigns: Currently, we measure the effectiveness of our online advertising campaigns by tracking key metrics such as click-through rates (CTR), conversion rates, and cost per acquisition (CPA). However, we haven't implemented any specific attribution models to understand which channels or campaigns are driving the most conversions. We rely on basic tracking codes and UTM parameters to attribute conversions to specific campaigns.\n",
       "\n",
       "2. Search engine optimization (SEO): We do track and analyze keyword rankings, organic traffic, and backlinks using tools like Google Analytics and SEMrush. However, identifying opportunities for improving our website's SEO performance is mostly based on manual analysis and competitor research. We don't have a systematic approach to identify specific areas for improvement.\n",
       "\n",
       "3. Conversion rate optimization (CRO): Currently, we optimize our landing pages by making design and content changes based on best practices and intuition. We haven't conducted formal A/B tests or used any other techniques to identify the most effective design and content elements. Our optimization efforts are mostly based on qualitative feedback from users and internal stakeholders.\n",
       "\n",
       "4. Email marketing: We measure the success of our email campaigns by tracking open rates, click-through rates, and conversion rates. However, we haven't implemented advanced segmentation or personalization based on user behavior or demographics. Our email campaigns are mostly sent to the entire list without much customization.\n",
       "\n",
       "5. Analytics and reporting: We primarily use Google Analytics to track and analyze our marketing metrics. We generate regular reports on website traffic, conversion rates, and customer acquisition costs. However, our reporting is mostly descriptive, and we haven't fully leveraged the potential of data analytics to generate actionable insights. We review and update our marketing strategies on a monthly basis, but the frequency of data analysis and strategy updates can be improved.\n",
       "\n",
       "Based on this information, it's clear that there are opportunities to leverage data science techniques and tools to enhance our marketing efforts. I'm interested in exploring how we can implement attribution models, advanced SEO analysis, A/B testing for CRO, segmentation and personalization for email marketing, and more advanced analytics and reporting techniques."
      ],
      "text/plain": [
       "<IPython.core.display.Markdown object>"
      ]
     },
     "metadata": {},
     "output_type": "display_data"
    }
   ],
   "source": [
    "# mprint(chain.exchange_history[2].prompt)\n",
    "mprint(chain.exchange_history[2].response)"
   ]
  },
  {
   "attachments": {},
   "cell_type": "markdown",
   "metadata": {},
   "source": [
    "---"
   ]
  },
  {
   "attachments": {},
   "cell_type": "markdown",
   "metadata": {},
   "source": [
    "## Second Round"
   ]
  },
  {
   "cell_type": "code",
   "execution_count": 14,
   "metadata": {},
   "outputs": [],
   "source": [
    "response = chain(response)"
   ]
  },
  {
   "cell_type": "code",
   "execution_count": 15,
   "metadata": {},
   "outputs": [
    {
     "name": "stdout",
     "output_type": "stream",
     "text": [
      "Cost:           $0.00919\n",
      "Total Tokens:    5,571\n",
      "Prompt Tokens:   3,911\n",
      "Response Tokens: 1,660\n",
      "\n"
     ]
    }
   ],
   "source": [
    "print(usage_string(chain))"
   ]
  },
  {
   "cell_type": "code",
   "execution_count": 16,
   "metadata": {},
   "outputs": [
    {
     "data": {
      "text/markdown": [
       "Thank you for providing more details about your current practices. It's great to see that you're open to exploring data science techniques to enhance your marketing efforts. Let's discuss each area in more detail and explore how data science can be applied:\n",
       "\n",
       "1. Digital marketing campaigns: Implementing attribution models can help you understand the contribution of each marketing channel or campaign to conversions. By using advanced tracking techniques and tools, you can attribute conversions to specific touchpoints along the customer journey. This will provide insights into which channels are most effective and help optimize your advertising spend.\n",
       "\n",
       "2. Search engine optimization (SEO): Data science techniques can be applied to analyze large volumes of data and identify patterns and trends in keyword rankings, organic traffic, and backlinks. By leveraging machine learning algorithms, you can identify opportunities for improving your website's SEO performance, such as targeting specific keywords or optimizing content based on user intent.\n",
       "\n",
       "3. Conversion rate optimization (CRO): A/B testing is a powerful technique to identify the most effective design and content elements on your landing pages. By conducting controlled experiments, you can measure the impact of different variations and make data-driven decisions to optimize your conversion rates. Additionally, data science techniques like user behavior analysis can provide insights into user interactions and help identify areas for improvement.\n",
       "\n",
       "4. Email marketing: Implementing segmentation and personalization based on user behavior and demographics can significantly improve the effectiveness of your email campaigns. By leveraging data science techniques, you can analyze user data to create targeted segments and deliver personalized content that resonates with your audience, leading to higher engagement and conversion rates.\n",
       "\n",
       "5. Analytics and reporting: Advanced analytics techniques, such as predictive modeling and customer lifetime value analysis, can provide actionable insights to optimize your marketing strategies. By leveraging data science tools and algorithms, you can uncover patterns and trends in your data, identify key drivers of customer acquisition and retention, and make data-driven decisions to drive growth.\n",
       "\n",
       "It's important to note that implementing data science techniques requires a combination of technical expertise, data infrastructure, and tools. It may be beneficial to consider partnering with a data science team or hiring data scientists to support your marketing efforts. Additionally, investing in data analytics platforms and tools can help streamline data collection, analysis, and reporting processes.\n",
       "\n",
       "By incorporating data science into your marketing strategies, you can gain a competitive edge, optimize your marketing efforts, and drive growth for your SaaS startup."
      ],
      "text/plain": [
       "<IPython.core.display.Markdown object>"
      ]
     },
     "metadata": {},
     "output_type": "display_data"
    }
   ],
   "source": [
    "# mprint(chain.exchange_history[-2].prompt)\n",
    "mprint(chain.exchange_history[-2].response)"
   ]
  },
  {
   "cell_type": "code",
   "execution_count": 17,
   "metadata": {},
   "outputs": [
    {
     "data": {
      "text/markdown": [
       "Thank you for providing such valuable insights into how data science can be applied to enhance our marketing efforts. I agree that implementing these techniques will require technical expertise and the right tools. I will definitely consider partnering with a data science team or hiring data scientists to support our marketing initiatives.\n",
       "\n",
       "In terms of data infrastructure, what kind of data sources and tools do you recommend we have in place to effectively implement these data science techniques? Are there any specific platforms or technologies that you would suggest we consider? Additionally, what kind of data should we be collecting and how can we ensure its quality and accuracy?\n",
       "\n",
       "Furthermore, could you provide some examples of predictive modeling and customer lifetime value analysis in the context of marketing? How can these techniques help us optimize our strategies and drive growth?\n",
       "\n",
       "I'm excited about the possibilities that data science can bring to our marketing efforts, and I'm eager to explore these opportunities further."
      ],
      "text/plain": [
       "<IPython.core.display.Markdown object>"
      ]
     },
     "metadata": {},
     "output_type": "display_data"
    }
   ],
   "source": [
    "# mprint(chain.exchange_history[-1].prompt)\n",
    "mprint(chain.exchange_history[-1].response)"
   ]
  },
  {
   "attachments": {},
   "cell_type": "markdown",
   "metadata": {},
   "source": [
    "---"
   ]
  },
  {
   "attachments": {},
   "cell_type": "markdown",
   "metadata": {},
   "source": [
    "## Third Round"
   ]
  },
  {
   "cell_type": "code",
   "execution_count": 18,
   "metadata": {},
   "outputs": [],
   "source": [
    "response = chain(response)"
   ]
  },
  {
   "cell_type": "code",
   "execution_count": 19,
   "metadata": {},
   "outputs": [
    {
     "name": "stdout",
     "output_type": "stream",
     "text": [
      "Cost:           $0.01547\n",
      "Total Tokens:    9,492\n",
      "Prompt Tokens:   7,033\n",
      "Response Tokens: 2,459\n",
      "\n"
     ]
    }
   ],
   "source": [
    "print(usage_string(chain))"
   ]
  },
  {
   "cell_type": "code",
   "execution_count": 20,
   "metadata": {},
   "outputs": [
    {
     "data": {
      "text/markdown": [
       "To effectively implement data science techniques in your marketing efforts, it's important to have the right data sources and tools in place. Here are some recommendations:\n",
       "\n",
       "1. Data Sources:\n",
       "   - Website analytics: Use tools like Google Analytics or Adobe Analytics to track website traffic, user behavior, and conversion data.\n",
       "   - Advertising platforms: Integrate with platforms like Google Ads, Facebook Ads, or LinkedIn Ads to collect data on ad performance, impressions, clicks, and conversions.\n",
       "   - CRM and customer data: Integrate your marketing data with your CRM system to track customer interactions, purchase history, and customer attributes.\n",
       "   - Email marketing platforms: Connect your email marketing platform to capture data on email campaigns, open rates, click-through rates, and conversions.\n",
       "   - Social media platforms: Utilize data from social media platforms like Facebook, Twitter, or LinkedIn to track engagement, reach, and conversions.\n",
       "\n",
       "2. Data Tools and Technologies:\n",
       "   - Data analytics platforms: Consider using tools like Tableau, Power BI, or Google Data Studio to visualize and analyze your marketing data.\n",
       "   - Data integration tools: Use tools like Zapier or Segment to connect and integrate data from various sources into a centralized data warehouse.\n",
       "   - Machine learning and predictive modeling tools: Platforms like Python with libraries such as scikit-learn or TensorFlow can be used to build predictive models and analyze data.\n",
       "\n",
       "To ensure data quality and accuracy, it's important to establish data governance practices and implement data validation processes. This includes regular data cleaning, removing duplicates, and addressing any data inconsistencies. Additionally, implementing data quality checks and monitoring data sources for any issues or discrepancies can help maintain data accuracy.\n",
       "\n",
       "Now, let's discuss examples of predictive modeling and customer lifetime value analysis:\n",
       "\n",
       "1. Predictive modeling: Predictive modeling uses historical data to make predictions about future outcomes. In the context of marketing, you can use predictive modeling to forecast customer behavior, such as predicting the likelihood of a lead converting into a customer or predicting customer churn. These predictions can help optimize marketing strategies by identifying high-value leads or proactively targeting customers at risk of churn.\n",
       "\n",
       "2. Customer lifetime value (CLV) analysis: CLV analysis helps you understand the value a customer brings to your business over their entire relationship with your company. By analyzing historical data on customer purchases, retention rates, and associated costs, you can calculate the expected revenue a customer will generate over their lifetime. CLV analysis can help optimize marketing strategies by identifying high-value customer segments, allocating resources effectively, and tailoring retention and upselling efforts.\n",
       "\n",
       "By leveraging predictive modeling and CLV analysis, you can make data-driven decisions to optimize your marketing strategies, allocate resources effectively, and drive growth by focusing on high-value customers and prospects.\n",
       "\n",
       "I'm glad to hear that you're excited about exploring the possibilities of data science in your marketing efforts. With the right data infrastructure, tools, and techniques, you can unlock valuable insights and drive significant improvements in your marketing performance."
      ],
      "text/plain": [
       "<IPython.core.display.Markdown object>"
      ]
     },
     "metadata": {},
     "output_type": "display_data"
    }
   ],
   "source": [
    "# mprint(chain.exchange_history[-2].prompt)\n",
    "mprint(chain.exchange_history[-2].response)"
   ]
  },
  {
   "cell_type": "code",
   "execution_count": 21,
   "metadata": {},
   "outputs": [
    {
     "data": {
      "text/markdown": [
       "Thank you for providing such detailed recommendations on data sources, tools, and technologies. I will definitely look into integrating these platforms and tools to ensure we have the necessary data for our data science initiatives.\n",
       "\n",
       "Regarding predictive modeling, it's interesting to see how we can use historical data to make predictions about future outcomes. I can see how this can be valuable in identifying high-value leads and targeting customers at risk of churn. Are there any specific techniques or algorithms that you recommend we explore for predictive modeling in marketing?\n",
       "\n",
       "Customer lifetime value analysis also seems like a powerful tool to optimize our marketing strategies. I'm curious about the specific metrics and calculations involved in determining the customer lifetime value. How can we accurately calculate the expected revenue a customer will generate over their lifetime? Are there any best practices or considerations we should keep in mind when conducting CLV analysis?\n",
       "\n",
       "I appreciate your guidance in understanding these techniques and how they can be applied to our marketing efforts. I'm excited to explore these opportunities further and leverage data science to drive growth for our SaaS startup."
      ],
      "text/plain": [
       "<IPython.core.display.Markdown object>"
      ]
     },
     "metadata": {},
     "output_type": "display_data"
    }
   ],
   "source": [
    "# mprint(chain.exchange_history[-1].prompt)\n",
    "mprint(chain.exchange_history[-1].response)"
   ]
  },
  {
   "attachments": {},
   "cell_type": "markdown",
   "metadata": {},
   "source": [
    "---"
   ]
  },
  {
   "attachments": {},
   "cell_type": "markdown",
   "metadata": {},
   "source": [
    "## Fourth Round\n"
   ]
  },
  {
   "cell_type": "code",
   "execution_count": 22,
   "metadata": {},
   "outputs": [],
   "source": [
    "response = chain(response)"
   ]
  },
  {
   "cell_type": "code",
   "execution_count": 23,
   "metadata": {},
   "outputs": [
    {
     "name": "stdout",
     "output_type": "stream",
     "text": [
      "Cost:           $0.02131\n",
      "Total Tokens:    13,083\n",
      "Prompt Tokens:   9,717\n",
      "Response Tokens: 3,366\n",
      "\n"
     ]
    }
   ],
   "source": [
    "print(usage_string(chain))"
   ]
  },
  {
   "cell_type": "code",
   "execution_count": 24,
   "metadata": {},
   "outputs": [
    {
     "data": {
      "text/markdown": [
       "When it comes to predictive modeling in marketing, there are several techniques and algorithms you can explore. Here are a few commonly used ones:\n",
       "\n",
       "1. Logistic Regression: This algorithm is useful for predicting binary outcomes, such as whether a lead will convert or not. It calculates the probability of an event occurring based on input variables.\n",
       "\n",
       "2. Decision Trees: Decision trees are a popular choice for predictive modeling as they provide a clear and interpretable structure. They can be used to predict customer behavior or segment customers based on specific criteria.\n",
       "\n",
       "3. Random Forests: Random forests are an ensemble learning method that combines multiple decision trees to make predictions. They are effective in handling complex relationships and can be used for tasks like customer segmentation or churn prediction.\n",
       "\n",
       "4. Gradient Boosting: Gradient boosting algorithms, such as XGBoost or LightGBM, are powerful for predictive modeling. They create a strong predictive model by combining weak models sequentially. Gradient boosting can be used for various marketing tasks, including lead scoring and personalized recommendations.\n",
       "\n",
       "5. Neural Networks: Deep learning techniques, such as neural networks, can be applied to marketing predictive modeling. They are particularly useful for tasks like image recognition, sentiment analysis, or customer behavior prediction.\n",
       "\n",
       "It's important to note that the choice of algorithm depends on the specific problem you're trying to solve, the available data, and the level of interpretability required. It's often a good idea to experiment with multiple algorithms and compare their performance to find the best fit for your marketing use case.\n",
       "\n",
       "Now, let's discuss customer lifetime value (CLV) analysis and its calculations:\n",
       "\n",
       "CLV is a metric that estimates the total revenue a customer is expected to generate over their entire relationship with your business. The calculation of CLV can vary depending on the specific business model and industry, but here's a general approach:\n",
       "\n",
       "1. Calculate the average purchase value: Divide the total revenue generated by the number of purchases made by customers.\n",
       "\n",
       "2. Calculate the average purchase frequency: Divide the total number of purchases by the number of unique customers.\n",
       "\n",
       "3. Calculate the average customer lifespan: Determine the average duration a customer remains active or engaged with your business.\n",
       "\n",
       "4. Calculate the customer value: Multiply the average purchase value by the average purchase frequency.\n",
       "\n",
       "5. Calculate the CLV: Multiply the customer value by the average customer lifespan.\n",
       "\n",
       "It's important to consider a few best practices and considerations when conducting CLV analysis:\n",
       "\n",
       "- Segment your customers: CLV can vary significantly across different customer segments. Analyzing CLV at a segment level can provide more actionable insights for targeted marketing strategies.\n",
       "\n",
       "- Include costs and margins: To get a more accurate picture of the value a customer brings, consider incorporating costs and profit margins associated with serving each customer.\n",
       "\n",
       "- Account for customer churn: Churn can significantly impact CLV. Incorporate churn rates or probabilities into your calculations to account for customers who may stop engaging with your business.\n",
       "\n",
       "- Regularly update and validate your models: As customer behavior and market dynamics change, it's important to update your CLV models regularly and validate their accuracy against actual customer behavior.\n",
       "\n",
       "By accurately calculating CLV and understanding the factors that drive it, you can make informed decisions about customer acquisition, retention, and resource allocation to maximize the long-term value of your customer base.\n",
       "\n",
       "I'm glad to hear that you're excited about exploring these opportunities and leveraging data science to drive growth for your SaaS startup. By applying these techniques and best practices, you can gain valuable insights and optimize your marketing strategies for success."
      ],
      "text/plain": [
       "<IPython.core.display.Markdown object>"
      ]
     },
     "metadata": {},
     "output_type": "display_data"
    }
   ],
   "source": [
    "# mprint(chain.exchange_history[-2].prompt)\n",
    "mprint(chain.exchange_history[-2].response)"
   ]
  },
  {
   "cell_type": "code",
   "execution_count": 25,
   "metadata": {},
   "outputs": [
    {
     "data": {
      "text/markdown": [
       "Thank you for providing such a comprehensive overview of the different techniques and algorithms for predictive modeling in marketing. I will definitely explore these options and experiment with multiple algorithms to find the best fit for our specific marketing use cases.\n",
       "\n",
       "Regarding customer lifetime value (CLV) analysis, the step-by-step calculation process you provided is very helpful. I will ensure that we incorporate costs and profit margins into our calculations to get a more accurate understanding of the value each customer brings. Additionally, segmenting our customers and accounting for churn rates will be important considerations in our CLV analysis.\n",
       "\n",
       "I also appreciate the reminder to regularly update and validate our CLV models. As customer behavior and market dynamics change, it's crucial to ensure that our models accurately reflect the current state of our business.\n",
       "\n",
       "Overall, I'm excited to dive deeper into these techniques and implement data-driven decision-making in our marketing efforts. I believe that leveraging data science will not only help us drive growth but also optimize our marketing strategies for long-term success. Thank you for your guidance and insights."
      ],
      "text/plain": [
       "<IPython.core.display.Markdown object>"
      ]
     },
     "metadata": {},
     "output_type": "display_data"
    }
   ],
   "source": [
    "# mprint(chain.exchange_history[-1].prompt)\n",
    "mprint(chain.exchange_history[-1].response)"
   ]
  },
  {
   "attachments": {},
   "cell_type": "markdown",
   "metadata": {},
   "source": [
    "---"
   ]
  }
 ],
 "metadata": {
  "kernelspec": {
   "display_name": "Python 3",
   "language": "python",
   "name": "python3"
  },
  "language_info": {
   "codemirror_mode": {
    "name": "ipython",
    "version": 3
   },
   "file_extension": ".py",
   "mimetype": "text/x-python",
   "name": "python",
   "nbconvert_exporter": "python",
   "pygments_lexer": "ipython3",
   "version": "3.11.4"
  },
  "orig_nbformat": 4
 },
 "nbformat": 4,
 "nbformat_minor": 2
}
