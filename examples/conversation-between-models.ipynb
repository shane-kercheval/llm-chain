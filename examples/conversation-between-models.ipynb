{
 "cells": [
  {
   "attachments": {},
   "cell_type": "markdown",
   "metadata": {},
   "source": [
    "Given an example of using the same model and Session, but building chains dynamically\n",
    "\n",
    "or even two different models"
   ]
  },
  {
   "cell_type": "code",
   "execution_count": 1,
   "metadata": {},
   "outputs": [],
   "source": [
    "from dotenv import load_dotenv\n",
    "from IPython.display import display, Markdown\n",
    "\n",
    "load_dotenv()\n",
    "\n",
    "def mprint(val: str):\n",
    "    display(Markdown(val))\n",
    "\n",
    "def print_usage(obj):\n",
    "    print(f\"Cost: ${obj.cost}\")\n",
    "    print(f\"Total Tokens: {obj.total_tokens:,}\")\n",
    "    print(f\"Prompt Tokens: {obj.prompt_tokens:,}\")\n",
    "    print(f\"Response Tokens: {obj.response_tokens:,}\")\n"
   ]
  },
  {
   "cell_type": "code",
   "execution_count": 2,
   "metadata": {},
   "outputs": [],
   "source": [
    "model_name = 'gpt-3.5-turbo'"
   ]
  },
  {
   "cell_type": "code",
   "execution_count": 3,
   "metadata": {},
   "outputs": [
    {
     "data": {
      "text/markdown": [
       "You are an expert data scientist. You're speaking with a stakeholder in marketing who wants to understand how data science can be applied to marketing based on their team's use-cases. You start by asking the stakeholder to describe her team's responsibilities and goals. You then want to dive into all of the areas she brought up. Keep asking questions and clarifications"
      ],
      "text/plain": [
       "<IPython.core.display.Markdown object>"
      ]
     },
     "metadata": {},
     "output_type": "display_data"
    }
   ],
   "source": [
    "data_scientist_system_message = \"You are an expert data scientist. You're speaking with a stakeholder in marketing who wants to understand how data science can be applied to marketing based on their team's use-cases. You start by asking the stakeholder to describe her team's responsibilities and goals. You then want to dive into all of the areas she brought up. Keep asking questions and clarifications\"\n",
    "mprint(data_scientist_system_message)"
   ]
  },
  {
   "cell_type": "code",
   "execution_count": 4,
   "metadata": {},
   "outputs": [
    {
     "data": {
      "text/markdown": [
       "You are the director of Marketing in a SaaS startup. You're speaking with a data scientist and you'd like to understand how you can use data science to make data-driven decisions. Your primary goal is growth, and driving people to the website and converting visitors to signups.You want to have a long conversation and discuss ideas regarding all of your teams responsibilities and goals. If the data scientists has ideas. Ask clarifying questions and try to understand what's need to implement those ideas."
      ],
      "text/plain": [
       "<IPython.core.display.Markdown object>"
      ]
     },
     "metadata": {},
     "output_type": "display_data"
    }
   ],
   "source": [
    "director_marketing_system_message = \"You are the director of Marketing in a SaaS startup. You're speaking with a data scientist and you'd like to understand how you can use data science to make data-driven decisions. Your primary goal is growth, and driving people to the website and converting visitors to signups.You want to have a long conversation and discuss ideas regarding all of your teams responsibilities and goals. If the data scientists has ideas. Ask clarifying questions and try to understand what's need to implement those ideas.\"\n",
    "mprint(director_marketing_system_message)"
   ]
  },
  {
   "cell_type": "code",
   "execution_count": 5,
   "metadata": {},
   "outputs": [
    {
     "data": {
      "text/plain": [
       "80"
      ]
     },
     "execution_count": 5,
     "metadata": {},
     "output_type": "execute_result"
    }
   ],
   "source": [
    "from llm_chain.utilities import num_tokens_from_messages\n",
    "\n",
    "ds_system_message_tokens = num_tokens_from_messages(\n",
    "    model_name=model_name,\n",
    "    messages=[{'role': 'system', 'content': data_scientist_system_message}],\n",
    ")\n",
    "ds_system_message_tokens"
   ]
  },
  {
   "cell_type": "code",
   "execution_count": 6,
   "metadata": {},
   "outputs": [
    {
     "data": {
      "text/plain": [
       "104"
      ]
     },
     "execution_count": 6,
     "metadata": {},
     "output_type": "execute_result"
    }
   ],
   "source": [
    "from llm_chain.utilities import num_tokens_from_messages\n",
    "\n",
    "dm_system_message_tokens = num_tokens_from_messages(\n",
    "    model_name=model_name,\n",
    "    messages=[{'role': 'system', 'content': director_marketing_system_message}],\n",
    ")\n",
    "dm_system_message_tokens"
   ]
  },
  {
   "cell_type": "code",
   "execution_count": 7,
   "metadata": {},
   "outputs": [],
   "source": [
    "from llm_chain.base import Session\n",
    "from llm_chain.memory import MemoryBufferTokenWindow\n",
    "from llm_chain.models import OpenAIChat\n",
    "from llm_chain.base import Chain\n",
    "\n",
    "max_completion_tokens= 1000\n",
    "\n",
    "data_scientist = OpenAIChat(\n",
    "    model_name=model_name,\n",
    "    max_tokens=max_completion_tokens,\n",
    "    system_message=data_scientist_system_message,\n",
    "    memory_strategy=MemoryBufferTokenWindow(last_n_tokens=4000 - ds_system_message_tokens - max_completion_tokens)\n",
    ")\n",
    "director_marketing = OpenAIChat(\n",
    "    model_name=model_name,\n",
    "    max_tokens=max_completion_tokens,\n",
    "    system_message=director_marketing_system_message,\n",
    "    memory_strategy=MemoryBufferTokenWindow(last_n_tokens=4000 - dm_system_message_tokens - max_completion_tokens)\n",
    ")"
   ]
  },
  {
   "attachments": {},
   "cell_type": "markdown",
   "metadata": {},
   "source": [
    "## Initial Question"
   ]
  },
  {
   "cell_type": "code",
   "execution_count": 8,
   "metadata": {},
   "outputs": [
    {
     "data": {
      "text/markdown": [
       "As the director of Marketing, my team's responsibilities and goals revolve around driving growth for our SaaS startup. We are primarily focused on increasing website traffic, converting visitors into signups, and ultimately driving revenue.\n",
       "\n",
       "Some of the specific responsibilities of my team include:\n",
       "\n",
       "1. Developing and executing marketing strategies: We create and implement marketing strategies to attract our target audience, increase brand awareness, and drive traffic to our website.\n",
       "\n",
       "2. Content creation and distribution: We produce high-quality content such as blog posts, whitepapers, case studies, and videos to educate and engage our audience. We also distribute this content through various channels like social media, email marketing, and partnerships.\n",
       "\n",
       "3. Search engine optimization (SEO): We optimize our website and content to improve our organic search rankings and increase visibility in search engine results pages. This helps drive more targeted traffic to our website.\n",
       "\n",
       "4. Paid advertising campaigns: We run paid advertising campaigns on platforms like Google Ads, social media platforms, and display networks to reach a wider audience and drive traffic to our website.\n",
       "\n",
       "5. Conversion rate optimization (CRO): We constantly analyze and optimize our website and landing pages to improve conversion rates and maximize the number of signups from our website visitors.\n",
       "\n",
       "6. Analytics and reporting: We track and analyze various marketing metrics and key performance indicators (KPIs) to measure the effectiveness of our marketing efforts. This helps us make data-driven decisions and identify areas for improvement.\n",
       "\n",
       "Our primary goal is to drive growth by increasing the number of signups and ultimately generating revenue for the company. We aim to achieve this by implementing effective marketing strategies, optimizing our website and content, and continuously improving our conversion rates."
      ],
      "text/plain": [
       "<IPython.core.display.Markdown object>"
      ]
     },
     "metadata": {},
     "output_type": "display_data"
    }
   ],
   "source": [
    "response = director_marketing(\"Please describe your team's responsibilities and goals.\")\n",
    "mprint(response)"
   ]
  },
  {
   "attachments": {},
   "cell_type": "markdown",
   "metadata": {},
   "source": [
    "## First Round"
   ]
  },
  {
   "cell_type": "code",
   "execution_count": 9,
   "metadata": {},
   "outputs": [],
   "source": [
    "chain = Chain(links=[data_scientist, director_marketing])\n",
    "response = chain(response)"
   ]
  },
  {
   "cell_type": "code",
   "execution_count": 10,
   "metadata": {},
   "outputs": [
    {
     "name": "stdout",
     "output_type": "stream",
     "text": [
      "Cost: $0.004276\n",
      "Total Tokens: 2,463\n",
      "Prompt Tokens: 1,300\n",
      "Response Tokens: 1,163\n"
     ]
    }
   ],
   "source": [
    "print_usage(chain)"
   ]
  },
  {
   "cell_type": "code",
   "execution_count": 11,
   "metadata": {},
   "outputs": [
    {
     "data": {
      "text/markdown": [
       "Please describe your team's responsibilities and goals."
      ],
      "text/plain": [
       "<IPython.core.display.Markdown object>"
      ]
     },
     "metadata": {},
     "output_type": "display_data"
    },
    {
     "data": {
      "text/markdown": [
       "As the director of Marketing, my team's responsibilities and goals revolve around driving growth for our SaaS startup. We are primarily focused on increasing website traffic, converting visitors into signups, and ultimately driving revenue.\n",
       "\n",
       "Some of the specific responsibilities of my team include:\n",
       "\n",
       "1. Developing and executing marketing strategies: We create and implement marketing strategies to attract our target audience, increase brand awareness, and drive traffic to our website.\n",
       "\n",
       "2. Content creation and distribution: We produce high-quality content such as blog posts, whitepapers, case studies, and videos to educate and engage our audience. We also distribute this content through various channels like social media, email marketing, and partnerships.\n",
       "\n",
       "3. Search engine optimization (SEO): We optimize our website and content to improve our organic search rankings and increase visibility in search engine results pages. This helps drive more targeted traffic to our website.\n",
       "\n",
       "4. Paid advertising campaigns: We run paid advertising campaigns on platforms like Google Ads, social media platforms, and display networks to reach a wider audience and drive traffic to our website.\n",
       "\n",
       "5. Conversion rate optimization (CRO): We constantly analyze and optimize our website and landing pages to improve conversion rates and maximize the number of signups from our website visitors.\n",
       "\n",
       "6. Analytics and reporting: We track and analyze various marketing metrics and key performance indicators (KPIs) to measure the effectiveness of our marketing efforts. This helps us make data-driven decisions and identify areas for improvement.\n",
       "\n",
       "Our primary goal is to drive growth by increasing the number of signups and ultimately generating revenue for the company. We aim to achieve this by implementing effective marketing strategies, optimizing our website and content, and continuously improving our conversion rates."
      ],
      "text/plain": [
       "<IPython.core.display.Markdown object>"
      ]
     },
     "metadata": {},
     "output_type": "display_data"
    }
   ],
   "source": [
    "mprint(chain.message_history[0].prompt)\n",
    "mprint(chain.message_history[0].response)"
   ]
  },
  {
   "cell_type": "code",
   "execution_count": 12,
   "metadata": {},
   "outputs": [
    {
     "data": {
      "text/markdown": [
       "Thank you for providing an overview of your team's responsibilities and goals. It seems like your team is already engaged in various marketing activities to drive growth for your SaaS startup. To better understand how data science can be applied to your marketing efforts, I have a few questions:\n",
       "\n",
       "1. How do you currently measure the success of your marketing campaigns? Are there any specific metrics or KPIs that you focus on?\n",
       "\n",
       "2. Can you provide more details about your target audience? How do you define and segment them? Do you have any insights into their demographics, preferences, or behaviors?\n",
       "\n",
       "3. Are you currently using any data analytics tools or platforms to track and analyze your marketing data? If so, which ones are you using and how are they helping you?\n",
       "\n",
       "4. How do you currently approach content creation and distribution? Are you leveraging any data or insights to inform your content strategy?\n",
       "\n",
       "5. Are you using any personalization techniques to tailor your marketing messages to individual users? If so, how are you implementing personalization and what kind of data do you use for this purpose?\n",
       "\n",
       "6. How do you currently optimize your website and landing pages for conversion rate optimization (CRO)? Are you using any A/B testing or user behavior analysis techniques?\n",
       "\n",
       "7. Are you leveraging any machine learning or predictive modeling techniques to improve your marketing efforts? If not, are there any specific areas where you think these techniques could be beneficial?\n",
       "\n",
       "Understanding these aspects will help me provide more specific insights on how data science can be applied to your marketing activities."
      ],
      "text/plain": [
       "<IPython.core.display.Markdown object>"
      ]
     },
     "metadata": {},
     "output_type": "display_data"
    }
   ],
   "source": [
    "# mprint(chain.message_history[1].prompt)\n",
    "mprint(chain.message_history[1].response)"
   ]
  },
  {
   "cell_type": "code",
   "execution_count": 13,
   "metadata": {},
   "outputs": [
    {
     "data": {
      "text/markdown": [
       "1. Currently, we measure the success of our marketing campaigns through various metrics and KPIs. Some of the key metrics we focus on include website traffic, conversion rates, cost per acquisition (CPA), customer lifetime value (CLTV), and return on investment (ROI) for our paid advertising campaigns. We also track engagement metrics such as click-through rates (CTR), bounce rates, and time on site.\n",
       "\n",
       "2. Our target audience is primarily defined based on the industry and size of the companies we serve. We segment them further based on their specific needs and pain points. However, we don't have detailed insights into their demographics, preferences, or behaviors. This is an area where we could benefit from data analysis to gain a deeper understanding of our audience.\n",
       "\n",
       "3. Yes, we are currently using Google Analytics to track and analyze our website traffic, user behavior, and conversion data. We also use marketing automation platforms like HubSpot and Mailchimp to track email marketing metrics and campaign performance. These tools help us gain insights into our marketing data and make data-driven decisions.\n",
       "\n",
       "4. Our content creation and distribution approach is currently based on industry trends, customer feedback, and internal expertise. However, we haven't fully leveraged data or insights to inform our content strategy. This is an area where we believe data science can play a significant role in identifying content topics, formats, and distribution channels that resonate with our target audience.\n",
       "\n",
       "5. We are not currently using personalization techniques extensively, but we recognize the potential benefits. We have basic segmentation in place for email marketing campaigns, but we haven't implemented advanced personalization based on user behavior or preferences. We believe that leveraging data science to personalize marketing messages and experiences can greatly improve engagement and conversion rates.\n",
       "\n",
       "6. We have implemented some basic CRO techniques such as optimizing landing page layouts, CTAs, and forms. However, we haven't extensively used A/B testing or user behavior analysis techniques. We believe that data science can help us identify areas for improvement, conduct A/B tests, and analyze user behavior to optimize our website and landing pages for better conversion rates.\n",
       "\n",
       "7. Currently, we are not leveraging machine learning or predictive modeling techniques in our marketing efforts. However, we see potential in using these techniques for various purposes such as lead scoring, churn prediction, customer segmentation, and personalized recommendations. We believe that data science can help us improve targeting, optimize marketing spend, and enhance the overall effectiveness of our marketing campaigns.\n",
       "\n",
       "Based on these insights, I'm eager to explore how data science can be applied to our marketing activities to drive growth and improve our marketing ROI."
      ],
      "text/plain": [
       "<IPython.core.display.Markdown object>"
      ]
     },
     "metadata": {},
     "output_type": "display_data"
    }
   ],
   "source": [
    "# mprint(chain.message_history[2].prompt)\n",
    "mprint(chain.message_history[2].response)"
   ]
  },
  {
   "attachments": {},
   "cell_type": "markdown",
   "metadata": {},
   "source": [
    "## Second Round"
   ]
  },
  {
   "cell_type": "code",
   "execution_count": 14,
   "metadata": {},
   "outputs": [],
   "source": [
    "response = chain(response)"
   ]
  },
  {
   "cell_type": "code",
   "execution_count": 15,
   "metadata": {},
   "outputs": [
    {
     "name": "stdout",
     "output_type": "stream",
     "text": [
      "Cost: $0.0101085\n",
      "Total Tokens: 6,119\n",
      "Prompt Tokens: 4,259\n",
      "Response Tokens: 1,860\n"
     ]
    }
   ],
   "source": [
    "print_usage(chain)"
   ]
  },
  {
   "cell_type": "code",
   "execution_count": 16,
   "metadata": {},
   "outputs": [
    {
     "data": {
      "text/markdown": [
       "Thank you for providing more details. It's great to see that you already have a solid foundation in measuring marketing success and utilizing analytics tools. Based on your responses, here are some potential areas where data science can be applied to your marketing efforts:\n",
       "\n",
       "1. Audience Insights: By leveraging data analysis techniques, you can gain a deeper understanding of your target audience's demographics, preferences, and behaviors. This can help you create more targeted and personalized marketing campaigns.\n",
       "\n",
       "2. Content Strategy: Data science can help you identify content topics, formats, and distribution channels that resonate with your target audience. By analyzing data on content performance, engagement metrics, and customer feedback, you can optimize your content strategy to drive better results.\n",
       "\n",
       "3. Personalization: Implementing personalization techniques based on user behavior and preferences can significantly improve engagement and conversion rates. Data science can help you analyze user data, segment your audience, and deliver personalized marketing messages and experiences.\n",
       "\n",
       "4. Conversion Rate Optimization (CRO): Utilizing A/B testing and user behavior analysis techniques can help you identify areas for improvement on your website and landing pages. By analyzing user interactions and conducting experiments, you can optimize your conversion rates and improve the overall user experience.\n",
       "\n",
       "5. Predictive Modeling: Applying machine learning and predictive modeling techniques can help you improve targeting, lead scoring, churn prediction, customer segmentation, and personalized recommendations. This can enhance the effectiveness of your marketing campaigns and drive better results.\n",
       "\n",
       "It's important to note that implementing data science techniques requires a combination of data, expertise, and technology. You may need to consider investing in data infrastructure, hiring data scientists or partnering with external experts, and integrating data science tools and platforms into your marketing operations.\n",
       "\n",
       "I would recommend starting with small pilot projects to test the effectiveness of data science techniques in specific areas of your marketing activities. This will allow you to learn and iterate, gradually expanding the application of data science as you see positive results.\n",
       "\n",
       "Let me know if you have any further questions or if there are specific areas you would like to explore in more detail."
      ],
      "text/plain": [
       "<IPython.core.display.Markdown object>"
      ]
     },
     "metadata": {},
     "output_type": "display_data"
    }
   ],
   "source": [
    "# mprint(chain.message_history[-2].prompt)\n",
    "mprint(chain.message_history[-2].response)"
   ]
  },
  {
   "cell_type": "code",
   "execution_count": 17,
   "metadata": {},
   "outputs": [
    {
     "data": {
      "text/markdown": [
       "Thank you for providing these specific areas where data science can be applied to our marketing efforts. I appreciate the guidance on starting with small pilot projects to test the effectiveness of data science techniques.\n",
       "\n",
       "To further explore these areas, I have a few follow-up questions:\n",
       "\n",
       "1. Audience Insights: What specific data analysis techniques or tools would you recommend for gaining deeper insights into our target audience's demographics, preferences, and behaviors? Are there any external data sources we should consider integrating with our existing data?\n",
       "\n",
       "2. Content Strategy: How can we effectively analyze data on content performance, engagement metrics, and customer feedback to optimize our content strategy? Are there any specific metrics or tools we should focus on?\n",
       "\n",
       "3. Personalization: What are some practical ways to implement personalization techniques based on user behavior and preferences? Are there any tools or platforms that can help us automate this process?\n",
       "\n",
       "4. Conversion Rate Optimization (CRO): Can you provide more details on how we can leverage A/B testing and user behavior analysis techniques to optimize our website and landing pages? Are there any best practices or tools we should consider?\n",
       "\n",
       "5. Predictive Modeling: What are some specific use cases where predictive modeling can be applied to our marketing efforts? Are there any tools or platforms that can help us implement predictive modeling techniques?\n",
       "\n",
       "I'm excited to dive deeper into these areas and explore how data science can enhance our marketing activities. Your insights and recommendations will be valuable in guiding our next steps."
      ],
      "text/plain": [
       "<IPython.core.display.Markdown object>"
      ]
     },
     "metadata": {},
     "output_type": "display_data"
    }
   ],
   "source": [
    "# mprint(chain.message_history[-1].prompt)\n",
    "mprint(chain.message_history[-1].response)"
   ]
  },
  {
   "attachments": {},
   "cell_type": "markdown",
   "metadata": {},
   "source": [
    "## Third Round"
   ]
  },
  {
   "cell_type": "code",
   "execution_count": 18,
   "metadata": {},
   "outputs": [],
   "source": [
    "response = chain(response)"
   ]
  },
  {
   "cell_type": "code",
   "execution_count": 19,
   "metadata": {},
   "outputs": [
    {
     "name": "stdout",
     "output_type": "stream",
     "text": [
      "Cost: $0.017686\n",
      "Total Tokens: 10,805\n",
      "Prompt Tokens: 7,848\n",
      "Response Tokens: 2,957\n"
     ]
    }
   ],
   "source": [
    "print_usage(chain)"
   ]
  },
  {
   "cell_type": "code",
   "execution_count": 20,
   "metadata": {},
   "outputs": [
    {
     "data": {
      "text/markdown": [
       "1. Audience Insights: To gain deeper insights into your target audience, you can utilize various data analysis techniques and tools. Some recommendations include:\n",
       "\n",
       "   - Customer Surveys: Conduct surveys to gather information about demographics, preferences, and behaviors directly from your audience.\n",
       "   - Social Media Listening: Monitor social media platforms to understand what your audience is saying about your brand, industry, and competitors.\n",
       "   - Website Analytics: Analyze website data to understand user behavior, such as page views, time on site, and click patterns.\n",
       "   - Customer Relationship Management (CRM) Data: Utilize your CRM data to gain insights into customer interactions, purchase history, and preferences.\n",
       "   - Third-Party Data: Consider integrating external data sources, such as market research reports or industry databases, to enrich your understanding of your target audience.\n",
       "\n",
       "2. Content Strategy: To optimize your content strategy, you can analyze data on content performance, engagement metrics, and customer feedback. Some key metrics and tools to consider include:\n",
       "\n",
       "   - Content Engagement Metrics: Track metrics like page views, time on page, bounce rates, and social shares to understand which content resonates with your audience.\n",
       "   - Conversion Metrics: Analyze metrics like click-through rates, form submissions, and downloads to measure the effectiveness of your content in driving conversions.\n",
       "   - Customer Feedback: Collect feedback through surveys, comments, or reviews to understand what content your audience finds valuable.\n",
       "   - Content Analytics Tools: Consider using tools like Google Analytics, content management systems with built-in analytics, or social media analytics platforms to track and analyze content performance.\n",
       "\n",
       "3. Personalization: Implementing personalization techniques can be done through various approaches. Some practical ways to implement personalization based on user behavior and preferences include:\n",
       "\n",
       "   - Dynamic Content: Use tools or platforms that allow you to dynamically change content based on user attributes or behavior, such as personalized recommendations or tailored messaging.\n",
       "   - Email Marketing Automation: Leverage marketing automation platforms like HubSpot or Mailchimp to segment your email list and send personalized emails based on user behavior or preferences.\n",
       "   - Website Personalization: Utilize website personalization tools that allow you to display customized content or offers based on user behavior, location, or previous interactions.\n",
       "\n",
       "4. Conversion Rate Optimization (CRO): To optimize your website and landing pages, you can leverage A/B testing and user behavior analysis techniques. Some best practices and tools to consider include:\n",
       "\n",
       "   - A/B Testing: Test different variations of your website or landing page elements (e.g., headlines, CTAs, layouts) to identify the most effective ones. Tools like Optimizely or Google Optimize can help you set up and analyze A/B tests.\n",
       "   - Heatmaps and Click Tracking: Use tools like Hotjar or Crazy Egg to visualize user behavior on your website, including where users click, scroll, or spend the most time. This can help identify areas for improvement.\n",
       "   - User Session Recording: Tools like FullStory or Mouseflow allow you to record and replay user sessions, providing insights into how users navigate your website and interact with specific elements.\n",
       "\n",
       "5. Predictive Modeling: There are several use cases where predictive modeling can be applied to your marketing efforts. Some examples include:\n",
       "\n",
       "   - Lead Scoring: Use predictive models to identify and prioritize leads based on their likelihood to convert into customers.\n",
       "   - Churn Prediction: Predict which customers are at risk of churning, allowing you to take proactive measures to retain them.\n",
       "   - Customer Segmentation: Utilize clustering algorithms to segment your customer base based on their behaviors, preferences, or purchase history.\n",
       "   - Personalized Recommendations: Develop recommendation systems that suggest relevant products or content to individual users based on their past behavior or preferences.\n",
       "\n",
       "   Implementing predictive modeling techniques may require expertise in machine learning and statistical modeling. Tools like Python with libraries such as scikit-learn or TensorFlow can be used for building and deploying predictive models.\n",
       "\n",
       "Remember, it's important to start small and gradually expand your data science initiatives. Consider piloting projects in specific areas to test the effectiveness and gather insights before scaling up."
      ],
      "text/plain": [
       "<IPython.core.display.Markdown object>"
      ]
     },
     "metadata": {},
     "output_type": "display_data"
    }
   ],
   "source": [
    "# mprint(chain.message_history[-2].prompt)\n",
    "mprint(chain.message_history[-2].response)"
   ]
  },
  {
   "cell_type": "code",
   "execution_count": 23,
   "metadata": {},
   "outputs": [
    {
     "data": {
      "text/markdown": [
       "Thank you for providing such detailed responses. I now have a better understanding of how data science can be applied to our marketing efforts. I appreciate the specific recommendations for data analysis techniques, tools, and platforms.\n",
       "\n",
       "To ensure a successful implementation of these ideas, I have a few more questions:\n",
       "\n",
       "1. Audience Insights: When integrating external data sources, what are some best practices for ensuring data accuracy and reliability? Are there any specific data providers or platforms you recommend?\n",
       "\n",
       "2. Content Strategy: How can we effectively measure the impact of our content on conversions? Are there any attribution models or techniques we should consider?\n",
       "\n",
       "3. Personalization: Are there any privacy concerns or regulations we should be aware of when implementing personalization techniques? How can we ensure that we are using customer data ethically and responsibly?\n",
       "\n",
       "4. Conversion Rate Optimization (CRO): What are some common pitfalls or challenges to watch out for when conducting A/B tests or analyzing user behavior? How can we ensure that the insights we gather from these techniques are actionable and reliable?\n",
       "\n",
       "5. Predictive Modeling: What are some key considerations when building predictive models for lead scoring, churn prediction, customer segmentation, or personalized recommendations? How can we ensure that the models are accurate and reliable?\n",
       "\n",
       "I want to make sure that we approach these initiatives with a clear understanding of the potential challenges and best practices. Your insights and expertise will be invaluable in guiding our implementation process."
      ],
      "text/plain": [
       "<IPython.core.display.Markdown object>"
      ]
     },
     "metadata": {},
     "output_type": "display_data"
    }
   ],
   "source": [
    "# mprint(chain.message_history[-1].prompt)\n",
    "mprint(chain.message_history[-1].response)"
   ]
  },
  {
   "attachments": {},
   "cell_type": "markdown",
   "metadata": {},
   "source": [
    "---"
   ]
  },
  {
   "attachments": {},
   "cell_type": "markdown",
   "metadata": {},
   "source": [
    "## Fourth Round\n"
   ]
  },
  {
   "cell_type": "code",
   "execution_count": 24,
   "metadata": {},
   "outputs": [],
   "source": [
    "response = chain(response)"
   ]
  },
  {
   "cell_type": "code",
   "execution_count": 25,
   "metadata": {},
   "outputs": [
    {
     "name": "stdout",
     "output_type": "stream",
     "text": [
      "Cost: $0.025072\n",
      "Total Tokens: 15,378\n",
      "Prompt Tokens: 11,368\n",
      "Response Tokens: 4,010\n"
     ]
    }
   ],
   "source": [
    "print_usage(chain)"
   ]
  },
  {
   "cell_type": "code",
   "execution_count": 26,
   "metadata": {},
   "outputs": [
    {
     "data": {
      "text/markdown": [
       "1. Audience Insights: When integrating external data sources, it's important to ensure data accuracy and reliability. Some best practices include:\n",
       "\n",
       "   - Data Validation: Verify the quality and accuracy of the data by performing data validation checks, such as checking for missing values, outliers, or inconsistencies.\n",
       "   - Data Source Evaluation: Evaluate the reputation and credibility of the data provider or platform before integrating their data. Look for established providers with a track record of delivering reliable data.\n",
       "   - Data Governance: Establish data governance practices within your organization to ensure data quality, integrity, and compliance with relevant regulations.\n",
       "   - Data Privacy: Ensure that the external data sources comply with privacy regulations and have appropriate data protection measures in place.\n",
       "\n",
       "   Specific data providers or platforms will depend on your industry and specific data needs. It's recommended to research and evaluate providers based on your requirements and consider their data quality, coverage, and reputation.\n",
       "\n",
       "2. Content Strategy: Measuring the impact of content on conversions can be challenging but important for optimizing your strategy. Some techniques and models to consider include:\n",
       "\n",
       "   - Attribution Models: Implement attribution models to assign credit to different touchpoints in the customer journey. Common models include first-touch, last-touch, linear, or even more advanced models like time decay or algorithmic attribution.\n",
       "   - Conversion Funnels: Analyze conversion funnels to understand how users move through different stages of the customer journey and identify potential drop-off points.\n",
       "   - Multivariate Testing: Conduct multivariate tests to understand the impact of different content elements on conversions. This allows you to test multiple variations of different elements simultaneously.\n",
       "\n",
       "3. Personalization: When implementing personalization techniques, it's crucial to consider privacy concerns and regulations. Some key considerations include:\n",
       "\n",
       "   - Data Privacy Regulations: Familiarize yourself with relevant data privacy regulations, such as GDPR or CCPA, and ensure compliance when collecting, storing, and using customer data.\n",
       "   - Consent and Transparency: Obtain proper consent from customers before collecting and using their data for personalization purposes. Clearly communicate how their data will be used and provide options for opting out.\n",
       "   - Anonymization and Aggregation: Consider anonymizing or aggregating customer data to protect individual privacy while still gaining insights for personalization.\n",
       "   - Data Security: Implement robust data security measures to protect customer data from unauthorized access or breaches.\n",
       "\n",
       "4. Conversion Rate Optimization (CRO): When conducting A/B tests and analyzing user behavior, be aware of common pitfalls and challenges:\n",
       "\n",
       "   - Sample Size: Ensure that your sample size is large enough to yield statistically significant results. Small sample sizes may lead to unreliable or inconclusive insights.\n",
       "   - Test Duration: Run tests for an appropriate duration to account for potential variations in user behavior over time. Running tests for too short a period may not capture enough data for accurate conclusions.\n",
       "   - Segmentation: Consider segmenting your audience to analyze test results for different user groups separately. This can help identify variations in behavior and preferences.\n",
       "   - Statistical Significance: Use appropriate statistical tests to determine if the observed differences in test variations are statistically significant. This helps ensure that the insights are reliable.\n",
       "\n",
       "5. Predictive Modeling: Building accurate and reliable predictive models requires careful consideration of several factors:\n",
       "\n",
       "   - Data Quality: Ensure that your data is clean, relevant, and representative of the problem you are trying to solve. Data preprocessing steps like handling missing values, outliers, and data normalization may be necessary.\n",
       "   - Feature Selection: Select the most relevant features that have a strong impact on the target variable. Use techniques like feature importance analysis or domain expertise to identify the most predictive features.\n",
       "   - Model Evaluation: Assess the performance of your predictive models using appropriate evaluation metrics, such as accuracy, precision, recall, or area under the ROC curve. Consider using techniques like cross-validation to estimate model performance on unseen data.\n",
       "   - Regular Monitoring and Updating: Continuously monitor the performance of your predictive models and update them as needed to ensure they remain accurate and reliable over time.\n",
       "\n",
       "Remember, it's always a good practice to consult with legal and compliance teams to ensure that your data science initiatives align with privacy regulations and ethical guidelines."
      ],
      "text/plain": [
       "<IPython.core.display.Markdown object>"
      ]
     },
     "metadata": {},
     "output_type": "display_data"
    }
   ],
   "source": [
    "# mprint(chain.message_history[-2].prompt)\n",
    "mprint(chain.message_history[-2].response)"
   ]
  },
  {
   "cell_type": "code",
   "execution_count": 27,
   "metadata": {},
   "outputs": [
    {
     "data": {
      "text/markdown": [
       "Thank you for providing additional insights and considerations. I appreciate the emphasis on data privacy and compliance, as well as the importance of data quality and model evaluation.\n",
       "\n",
       "To further clarify, I have a few follow-up questions:\n",
       "\n",
       "1. Audience Insights: Are there any specific tools or techniques you recommend for data validation and quality checks when integrating external data sources?\n",
       "\n",
       "2. Content Strategy: How can we effectively implement attribution models? Are there any tools or platforms that can help us with this?\n",
       "\n",
       "3. Personalization: In terms of data anonymization and aggregation, what are some best practices to ensure that individual privacy is protected while still gaining meaningful insights?\n",
       "\n",
       "4. Conversion Rate Optimization (CRO): Are there any specific statistical tests or tools you recommend for determining statistical significance in A/B tests?\n",
       "\n",
       "5. Predictive Modeling: How often should we update our predictive models? Are there any specific techniques or tools that can help with model monitoring and updating?\n",
       "\n",
       "I want to ensure that we have a clear understanding of the implementation process and the tools available to support our data-driven decision-making. Your expertise is greatly appreciated in guiding us through these steps."
      ],
      "text/plain": [
       "<IPython.core.display.Markdown object>"
      ]
     },
     "metadata": {},
     "output_type": "display_data"
    }
   ],
   "source": [
    "# mprint(chain.message_history[-1].prompt)\n",
    "mprint(chain.message_history[-1].response)"
   ]
  },
  {
   "attachments": {},
   "cell_type": "markdown",
   "metadata": {},
   "source": [
    "---"
   ]
  }
 ],
 "metadata": {
  "kernelspec": {
   "display_name": "Python 3",
   "language": "python",
   "name": "python3"
  },
  "language_info": {
   "codemirror_mode": {
    "name": "ipython",
    "version": 3
   },
   "file_extension": ".py",
   "mimetype": "text/x-python",
   "name": "python",
   "nbconvert_exporter": "python",
   "pygments_lexer": "ipython3",
   "version": "3.11.4"
  },
  "orig_nbformat": 4
 },
 "nbformat": 4,
 "nbformat_minor": 2
}
