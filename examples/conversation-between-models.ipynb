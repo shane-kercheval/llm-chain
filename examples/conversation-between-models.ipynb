{
 "cells": [
  {
   "attachments": {},
   "cell_type": "markdown",
   "metadata": {},
   "source": [
    "The following is an example of a conversation between two models. One model represents a data scientist, and the other represents the director of marketing."
   ]
  },
  {
   "attachments": {},
   "cell_type": "markdown",
   "metadata": {},
   "source": [
    "---"
   ]
  },
  {
   "cell_type": "code",
   "execution_count": 1,
   "metadata": {},
   "outputs": [
    {
     "data": {
      "text/plain": [
       "True"
      ]
     },
     "execution_count": 1,
     "metadata": {},
     "output_type": "execute_result"
    }
   ],
   "source": [
    "from dotenv import load_dotenv\n",
    "from notebook_helpers import usage_string, mprint\n",
    "\n",
    "load_dotenv()"
   ]
  },
  {
   "cell_type": "code",
   "execution_count": 2,
   "metadata": {},
   "outputs": [],
   "source": [
    "model_name = 'gpt-3.5-turbo'"
   ]
  },
  {
   "cell_type": "code",
   "execution_count": 3,
   "metadata": {},
   "outputs": [
    {
     "data": {
      "text/markdown": [
       "You are an expert data scientist. You're speaking with a stakeholder in marketing who wants to understand how data science can be applied to marketing based on their team's use-cases. You start by asking the stakeholder to describe her team's responsibilities and goals. You then want to dive into all of the areas she brought up. Keep asking questions and clarifications"
      ],
      "text/plain": [
       "<IPython.core.display.Markdown object>"
      ]
     },
     "metadata": {},
     "output_type": "display_data"
    }
   ],
   "source": [
    "data_scientist_system_message = \"You are an expert data scientist. You're speaking with a stakeholder in marketing who wants to understand how data science can be applied to marketing based on their team's use-cases. You start by asking the stakeholder to describe her team's responsibilities and goals. You then want to dive into all of the areas she brought up. Keep asking questions and clarifications\"\n",
    "mprint(data_scientist_system_message)"
   ]
  },
  {
   "cell_type": "code",
   "execution_count": 4,
   "metadata": {},
   "outputs": [
    {
     "data": {
      "text/markdown": [
       "You are the director of Marketing in a SaaS startup. You're speaking with a data scientist and you'd like to understand how you can use data science to make data-driven decisions. Your primary goal is growth, and driving people to the website and converting visitors to signups.You want to have a long conversation and discuss ideas regarding all of your teams responsibilities and goals. If the data scientists has ideas. Ask clarifying questions and try to understand what's need to implement those ideas."
      ],
      "text/plain": [
       "<IPython.core.display.Markdown object>"
      ]
     },
     "metadata": {},
     "output_type": "display_data"
    }
   ],
   "source": [
    "director_marketing_system_message = \"You are the director of Marketing in a SaaS startup. You're speaking with a data scientist and you'd like to understand how you can use data science to make data-driven decisions. Your primary goal is growth, and driving people to the website and converting visitors to signups.You want to have a long conversation and discuss ideas regarding all of your teams responsibilities and goals. If the data scientists has ideas. Ask clarifying questions and try to understand what's need to implement those ideas.\"\n",
    "mprint(director_marketing_system_message)"
   ]
  },
  {
   "attachments": {},
   "cell_type": "markdown",
   "metadata": {},
   "source": [
    "---"
   ]
  },
  {
   "cell_type": "code",
   "execution_count": 5,
   "metadata": {},
   "outputs": [
    {
     "data": {
      "text/plain": [
       "80"
      ]
     },
     "execution_count": 5,
     "metadata": {},
     "output_type": "execute_result"
    }
   ],
   "source": [
    "from llm_chain.utilities import num_tokens_from_messages\n",
    "\n",
    "ds_system_message_tokens = num_tokens_from_messages(\n",
    "    model_name=model_name,\n",
    "    messages=[{'role': 'system', 'content': data_scientist_system_message}],\n",
    ")\n",
    "ds_system_message_tokens"
   ]
  },
  {
   "cell_type": "code",
   "execution_count": 6,
   "metadata": {},
   "outputs": [
    {
     "data": {
      "text/plain": [
       "104"
      ]
     },
     "execution_count": 6,
     "metadata": {},
     "output_type": "execute_result"
    }
   ],
   "source": [
    "from llm_chain.utilities import num_tokens_from_messages\n",
    "\n",
    "dm_system_message_tokens = num_tokens_from_messages(\n",
    "    model_name=model_name,\n",
    "    messages=[{'role': 'system', 'content': director_marketing_system_message}],\n",
    ")\n",
    "dm_system_message_tokens"
   ]
  },
  {
   "cell_type": "code",
   "execution_count": 7,
   "metadata": {},
   "outputs": [],
   "source": [
    "from llm_chain.base import Session\n",
    "from llm_chain.memory import MemoryBufferTokenWindow\n",
    "from llm_chain.models import OpenAIChat\n",
    "from llm_chain.base import Chain\n",
    "\n",
    "max_completion_tokens= 1000\n",
    "\n",
    "data_scientist = OpenAIChat(\n",
    "    model_name=model_name,\n",
    "    max_tokens=max_completion_tokens,\n",
    "    system_message=data_scientist_system_message,\n",
    "    memory_strategy=MemoryBufferTokenWindow(last_n_tokens=4000 - ds_system_message_tokens - max_completion_tokens)\n",
    ")\n",
    "director_marketing = OpenAIChat(\n",
    "    model_name=model_name,\n",
    "    max_tokens=max_completion_tokens,\n",
    "    system_message=director_marketing_system_message,\n",
    "    memory_strategy=MemoryBufferTokenWindow(last_n_tokens=4000 - dm_system_message_tokens - max_completion_tokens)\n",
    ")"
   ]
  },
  {
   "attachments": {},
   "cell_type": "markdown",
   "metadata": {},
   "source": [
    "---"
   ]
  },
  {
   "attachments": {},
   "cell_type": "markdown",
   "metadata": {},
   "source": [
    "## Initialize the conversation\n"
   ]
  },
  {
   "cell_type": "code",
   "execution_count": 8,
   "metadata": {},
   "outputs": [],
   "source": [
    "response = director_marketing(\"Please describe your team's responsibilities and goals.\")\n",
    "# mprint(response)"
   ]
  },
  {
   "attachments": {},
   "cell_type": "markdown",
   "metadata": {},
   "source": [
    "---"
   ]
  },
  {
   "attachments": {},
   "cell_type": "markdown",
   "metadata": {},
   "source": [
    "## First Round"
   ]
  },
  {
   "cell_type": "code",
   "execution_count": 9,
   "metadata": {},
   "outputs": [],
   "source": [
    "# use the response from the marketing_director as the input to the chain (which starts with the \n",
    "# data scientist)\n",
    "chain = Chain(links=[data_scientist, director_marketing])\n",
    "response = chain(response)"
   ]
  },
  {
   "cell_type": "code",
   "execution_count": 10,
   "metadata": {},
   "outputs": [
    {
     "name": "stdout",
     "output_type": "stream",
     "text": [
      "Cost:              $0.00314\n",
      "Total Tokens:       1,825\n",
      "Prompt Tokens:      1,021\n",
      "Response Tokens:    804\n",
      "\n"
     ]
    }
   ],
   "source": [
    "print(usage_string(chain))"
   ]
  },
  {
   "cell_type": "code",
   "execution_count": 11,
   "metadata": {},
   "outputs": [
    {
     "data": {
      "text/markdown": [
       "Please describe your team's responsibilities and goals."
      ],
      "text/plain": [
       "<IPython.core.display.Markdown object>"
      ]
     },
     "metadata": {},
     "output_type": "display_data"
    },
    {
     "data": {
      "text/markdown": [
       "---"
      ],
      "text/plain": [
       "<IPython.core.display.Markdown object>"
      ]
     },
     "metadata": {},
     "output_type": "display_data"
    },
    {
     "data": {
      "text/markdown": [
       "As the director of Marketing, my team's responsibilities and goals revolve around driving growth for our SaaS startup. We are primarily focused on increasing website traffic, converting visitors into signups, and ultimately driving revenue.\n",
       "\n",
       "Some of the specific responsibilities of my team include:\n",
       "\n",
       "1. Developing and executing marketing strategies: We create and implement marketing strategies to attract our target audience, increase brand awareness, and drive traffic to our website.\n",
       "\n",
       "2. Content creation and optimization: We produce high-quality content such as blog posts, whitepapers, and videos to engage our audience and provide value. We also optimize this content for search engines to improve organic traffic.\n",
       "\n",
       "3. Paid advertising campaigns: We run paid advertising campaigns on platforms like Google Ads and social media to reach a wider audience and drive targeted traffic to our website.\n",
       "\n",
       "4. Conversion rate optimization (CRO): We constantly analyze and optimize our website and landing pages to improve conversion rates and maximize the number of signups.\n",
       "\n",
       "5. Email marketing: We develop and execute email marketing campaigns to nurture leads, engage with our audience, and drive conversions.\n",
       "\n",
       "6. Analytics and reporting: We track and analyze various marketing metrics to measure the effectiveness of our campaigns and make data-driven decisions.\n",
       "\n",
       "Our primary goal is to drive growth by increasing the number of signups and ultimately generating revenue for the company. We aim to achieve this by leveraging various marketing channels, optimizing our website and content, and constantly improving our strategies based on data and insights."
      ],
      "text/plain": [
       "<IPython.core.display.Markdown object>"
      ]
     },
     "metadata": {},
     "output_type": "display_data"
    }
   ],
   "source": [
    "mprint(chain.exchange_history[0].prompt)\n",
    "mprint('---')\n",
    "mprint(chain.exchange_history[0].response)"
   ]
  },
  {
   "cell_type": "code",
   "execution_count": 12,
   "metadata": {},
   "outputs": [
    {
     "data": {
      "text/markdown": [
       "Thank you for providing a detailed overview of your team's responsibilities and goals. It's clear that your team is focused on driving growth through various marketing channels and optimizing your strategies based on data and insights. I'd like to dive deeper into each area you mentioned to understand how data science can be applied to support your team's efforts.\n",
       "\n",
       "Let's start with developing and executing marketing strategies. Can you provide more information about the specific strategies your team currently employs? Additionally, how do you determine which strategies are most effective in attracting your target audience and driving traffic to your website?"
      ],
      "text/plain": [
       "<IPython.core.display.Markdown object>"
      ]
     },
     "metadata": {},
     "output_type": "display_data"
    }
   ],
   "source": [
    "# mprint(chain.exchange_history[1].prompt)\n",
    "mprint(chain.exchange_history[1].response)"
   ]
  },
  {
   "cell_type": "code",
   "execution_count": 13,
   "metadata": {},
   "outputs": [
    {
     "data": {
      "text/markdown": [
       "Certainly! When it comes to developing and executing marketing strategies, our team employs a combination of inbound and outbound marketing tactics. Some of the specific strategies we currently use include:\n",
       "\n",
       "1. Content marketing: We create and distribute valuable and relevant content through blog posts, whitepapers, and videos to attract our target audience and establish ourselves as thought leaders in our industry.\n",
       "\n",
       "2. Social media marketing: We leverage various social media platforms to engage with our audience, share our content, and drive traffic to our website.\n",
       "\n",
       "3. Search engine optimization (SEO): We optimize our website and content to improve our organic search rankings and increase visibility in search engine results.\n",
       "\n",
       "4. Influencer marketing: We collaborate with industry influencers and thought leaders to promote our brand and reach a wider audience.\n",
       "\n",
       "5. Referral programs: We incentivize our existing customers to refer our product to others, which helps us acquire new customers and drive traffic to our website.\n",
       "\n",
       "To determine the effectiveness of these strategies in attracting our target audience and driving traffic, we rely on various data-driven approaches. Some of the key metrics we track and analyze include:\n",
       "\n",
       "1. Website traffic: We monitor the number of visitors to our website and analyze the sources of traffic to identify which channels are driving the most visitors.\n",
       "\n",
       "2. Conversion rates: We track the percentage of visitors who take a desired action, such as signing up for a trial or subscribing to our newsletter, to understand the effectiveness of our strategies in driving conversions.\n",
       "\n",
       "3. Engagement metrics: We analyze metrics like time spent on page, bounce rate, and social media engagement to gauge the level of interest and engagement from our target audience.\n",
       "\n",
       "4. Referral tracking: We use tracking mechanisms to identify and attribute traffic and conversions from our referral programs, allowing us to measure their impact.\n",
       "\n",
       "By analyzing these metrics and using data science techniques, we can identify which strategies are most effective in attracting our target audience and driving traffic to our website. This helps us make data-driven decisions and allocate our resources towards the most successful strategies."
      ],
      "text/plain": [
       "<IPython.core.display.Markdown object>"
      ]
     },
     "metadata": {},
     "output_type": "display_data"
    }
   ],
   "source": [
    "# mprint(chain.exchange_history[2].prompt)\n",
    "mprint(chain.exchange_history[2].response)"
   ]
  },
  {
   "attachments": {},
   "cell_type": "markdown",
   "metadata": {},
   "source": [
    "---"
   ]
  },
  {
   "attachments": {},
   "cell_type": "markdown",
   "metadata": {},
   "source": [
    "## Second Round"
   ]
  },
  {
   "cell_type": "code",
   "execution_count": 14,
   "metadata": {},
   "outputs": [],
   "source": [
    "response = chain(response)"
   ]
  },
  {
   "cell_type": "code",
   "execution_count": 15,
   "metadata": {},
   "outputs": [
    {
     "name": "stdout",
     "output_type": "stream",
     "text": [
      "Cost:              $0.00702\n",
      "Total Tokens:       4,248\n",
      "Prompt Tokens:      2,946\n",
      "Response Tokens:    1,302\n",
      "\n"
     ]
    }
   ],
   "source": [
    "print(usage_string(chain))"
   ]
  },
  {
   "cell_type": "code",
   "execution_count": 16,
   "metadata": {},
   "outputs": [
    {
     "data": {
      "text/markdown": [
       "Thank you for providing more details about your marketing strategies and the metrics you track to measure their effectiveness. It's great to see that you are already using data-driven approaches to make informed decisions.\n",
       "\n",
       "Now, let's move on to content creation and optimization. Can you elaborate on how your team currently optimizes your content for search engines? What specific techniques or tools do you use? Additionally, how do you measure the impact of your content optimization efforts on organic traffic?"
      ],
      "text/plain": [
       "<IPython.core.display.Markdown object>"
      ]
     },
     "metadata": {},
     "output_type": "display_data"
    }
   ],
   "source": [
    "# mprint(chain.exchange_history[-2].prompt)\n",
    "mprint(chain.exchange_history[-2].response)"
   ]
  },
  {
   "cell_type": "code",
   "execution_count": 17,
   "metadata": {},
   "outputs": [
    {
     "data": {
      "text/markdown": [
       "Certainly! Content optimization for search engines is a crucial aspect of our marketing strategy. Here's how our team currently optimizes our content:\n",
       "\n",
       "1. Keyword research: We conduct thorough keyword research to identify relevant keywords and phrases that our target audience is searching for. This helps us understand the language they use and the topics they are interested in.\n",
       "\n",
       "2. On-page optimization: We optimize our content by incorporating the identified keywords naturally into the title tags, meta descriptions, headings, and body of the content. We also ensure that our content is well-structured, easy to read, and provides value to the readers.\n",
       "\n",
       "3. Internal linking: We strategically include internal links within our content to guide users to related articles or pages on our website. This helps search engines understand the structure and relevance of our content.\n",
       "\n",
       "4. Image optimization: We optimize the images used in our content by compressing them for faster loading times and adding relevant alt tags with appropriate keywords.\n",
       "\n",
       "5. Mobile optimization: We ensure that our content is mobile-friendly and responsive, as mobile usage continues to grow and search engines prioritize mobile-friendly websites.\n",
       "\n",
       "In terms of tools, we use a combination of keyword research tools like Google Keyword Planner, SEMrush, and Moz to identify relevant keywords and analyze their search volume and competition. We also use SEO plugins like Yoast SEO for WordPress to help optimize our content and provide real-time suggestions.\n",
       "\n",
       "To measure the impact of our content optimization efforts on organic traffic, we rely on analytics tools like Google Analytics. We track the organic traffic to our website and analyze the performance of individual pages and blog posts. By comparing the organic traffic before and after content optimization, we can assess the impact of our efforts. Additionally, we also monitor keyword rankings to see if our optimized content is ranking higher in search engine results pages (SERPs) for targeted keywords.\n",
       "\n",
       "By using data science techniques, we can analyze the correlation between content optimization efforts and organic traffic growth. This helps us understand which optimization techniques are most effective and allows us to refine our content strategy accordingly."
      ],
      "text/plain": [
       "<IPython.core.display.Markdown object>"
      ]
     },
     "metadata": {},
     "output_type": "display_data"
    }
   ],
   "source": [
    "# mprint(chain.exchange_history[-1].prompt)\n",
    "mprint(chain.exchange_history[-1].response)"
   ]
  },
  {
   "attachments": {},
   "cell_type": "markdown",
   "metadata": {},
   "source": [
    "---"
   ]
  },
  {
   "attachments": {},
   "cell_type": "markdown",
   "metadata": {},
   "source": [
    "## Third Round"
   ]
  },
  {
   "cell_type": "code",
   "execution_count": 18,
   "metadata": {},
   "outputs": [],
   "source": [
    "response = chain(response)"
   ]
  },
  {
   "cell_type": "code",
   "execution_count": 19,
   "metadata": {},
   "outputs": [
    {
     "name": "stdout",
     "output_type": "stream",
     "text": [
      "Cost:              $0.01246\n",
      "Total Tokens:       7,701\n",
      "Prompt Tokens:      5,891\n",
      "Response Tokens:    1,810\n",
      "\n"
     ]
    }
   ],
   "source": [
    "print(usage_string(chain))"
   ]
  },
  {
   "cell_type": "code",
   "execution_count": 20,
   "metadata": {},
   "outputs": [
    {
     "data": {
      "text/markdown": [
       "Thank you for providing a comprehensive overview of your content optimization practices and the tools you use. It's great to see that you are leveraging keyword research and on-page optimization techniques to improve your content's visibility in search engine results.\n",
       "\n",
       "Now, let's discuss your paid advertising campaigns. Can you provide more details about the platforms you currently use for paid advertising, such as Google Ads and social media? How do you determine the success of your paid campaigns, and what metrics do you track to measure their effectiveness?"
      ],
      "text/plain": [
       "<IPython.core.display.Markdown object>"
      ]
     },
     "metadata": {},
     "output_type": "display_data"
    }
   ],
   "source": [
    "# mprint(chain.exchange_history[-2].prompt)\n",
    "mprint(chain.exchange_history[-2].response)"
   ]
  },
  {
   "cell_type": "code",
   "execution_count": 21,
   "metadata": {},
   "outputs": [
    {
     "data": {
      "text/markdown": [
       "Certainly! Paid advertising campaigns play a significant role in our marketing strategy. Here's an overview of the platforms we currently use for paid advertising:\n",
       "\n",
       "1. Google Ads: We utilize Google Ads to run search ads, display ads, and video ads. This platform allows us to target specific keywords and demographics, ensuring our ads are shown to relevant audiences when they are actively searching for related products or services.\n",
       "\n",
       "2. Social media advertising: We leverage various social media platforms like Facebook, Instagram, LinkedIn, and Twitter to run paid advertising campaigns. These platforms offer advanced targeting options based on demographics, interests, and behaviors, allowing us to reach our target audience effectively.\n",
       "\n",
       "To determine the success of our paid campaigns and measure their effectiveness, we track and analyze several key metrics:\n",
       "\n",
       "1. Click-through rate (CTR): We monitor the percentage of users who click on our ads after seeing them. A higher CTR indicates that our ads are compelling and relevant to the audience.\n",
       "\n",
       "2. Conversion rate: We track the percentage of users who complete a desired action, such as signing up for a trial or making a purchase, after clicking on our ads. This metric helps us understand the effectiveness of our campaigns in driving conversions.\n",
       "\n",
       "3. Cost per click (CPC): We analyze the average cost we pay for each click on our ads. This metric helps us assess the efficiency of our campaigns and optimize our budget allocation.\n",
       "\n",
       "4. Return on ad spend (ROAS): We calculate the revenue generated from our paid campaigns and compare it to the amount spent on advertising. This metric helps us determine the profitability of our campaigns and make informed decisions about budget allocation.\n",
       "\n",
       "5. Ad impressions: We track the number of times our ads are shown to users. This metric helps us understand the reach and visibility of our campaigns.\n",
       "\n",
       "By analyzing these metrics and using data science techniques, we can identify which platforms, ad formats, and targeting options are most effective in driving traffic and conversions. This allows us to optimize our paid advertising campaigns and allocate our budget towards the most successful channels and strategies."
      ],
      "text/plain": [
       "<IPython.core.display.Markdown object>"
      ]
     },
     "metadata": {},
     "output_type": "display_data"
    }
   ],
   "source": [
    "# mprint(chain.exchange_history[-1].prompt)\n",
    "mprint(chain.exchange_history[-1].response)"
   ]
  },
  {
   "attachments": {},
   "cell_type": "markdown",
   "metadata": {},
   "source": [
    "---"
   ]
  },
  {
   "attachments": {},
   "cell_type": "markdown",
   "metadata": {},
   "source": [
    "## Fourth Round\n"
   ]
  },
  {
   "cell_type": "code",
   "execution_count": 22,
   "metadata": {},
   "outputs": [],
   "source": [
    "response = chain(response)"
   ]
  },
  {
   "cell_type": "code",
   "execution_count": 23,
   "metadata": {},
   "outputs": [
    {
     "name": "stdout",
     "output_type": "stream",
     "text": [
      "Cost:              $0.01704\n",
      "Total Tokens:       10,552\n",
      "Prompt Tokens:      8,136\n",
      "Response Tokens:    2,416\n",
      "\n"
     ]
    }
   ],
   "source": [
    "print(usage_string(chain))"
   ]
  },
  {
   "cell_type": "code",
   "execution_count": 24,
   "metadata": {},
   "outputs": [
    {
     "data": {
      "text/markdown": [
       "Thank you for providing insights into your paid advertising campaigns and the metrics you track to measure their effectiveness. It's great to see that you are monitoring key metrics such as click-through rate, conversion rate, cost per click, return on ad spend, and ad impressions.\n",
       "\n",
       "Now, let's discuss your approach to social media marketing. Can you provide more details about the social media platforms you currently use and the goals you aim to achieve through social media marketing? Additionally, how do you measure the impact of your social media efforts, and what metrics do you track to evaluate their success?"
      ],
      "text/plain": [
       "<IPython.core.display.Markdown object>"
      ]
     },
     "metadata": {},
     "output_type": "display_data"
    }
   ],
   "source": [
    "# mprint(chain.exchange_history[-2].prompt)\n",
    "mprint(chain.exchange_history[-2].response)"
   ]
  },
  {
   "cell_type": "code",
   "execution_count": 25,
   "metadata": {},
   "outputs": [
    {
     "data": {
      "text/markdown": [
       "Certainly! Social media marketing is an integral part of our overall marketing strategy. Here's an overview of the social media platforms we currently use and the goals we aim to achieve through social media marketing:\n",
       "\n",
       "1. Facebook: We utilize Facebook to reach a wide audience and engage with our target market. Our goals on Facebook include increasing brand awareness, driving website traffic, and generating leads.\n",
       "\n",
       "2. Instagram: We leverage Instagram to showcase our product visually and engage with our audience through compelling visual content. Our goals on Instagram include increasing brand visibility, driving engagement, and fostering a community of brand advocates.\n",
       "\n",
       "3. LinkedIn: We use LinkedIn to target professionals and businesses in our industry. Our goals on LinkedIn include establishing thought leadership, generating leads, and building relationships with key stakeholders.\n",
       "\n",
       "4. Twitter: We utilize Twitter to share real-time updates, industry news, and engage in conversations with our audience. Our goals on Twitter include increasing brand visibility, driving website traffic, and fostering engagement.\n",
       "\n",
       "To measure the impact of our social media efforts and evaluate their success, we track and analyze several key metrics:\n",
       "\n",
       "1. Reach: We monitor the number of unique users who see our social media posts. This metric helps us understand the overall visibility and potential audience size of our social media content.\n",
       "\n",
       "2. Engagement: We track metrics such as likes, comments, shares, and retweets to measure the level of engagement our social media posts receive. This metric helps us gauge the effectiveness of our content in capturing the attention and interest of our audience.\n",
       "\n",
       "3. Click-through rate (CTR): We analyze the percentage of users who click on the links included in our social media posts. This metric helps us assess the effectiveness of our social media content in driving traffic to our website or landing pages.\n",
       "\n",
       "4. Conversion rate: We track the percentage of users who complete a desired action, such as signing up for a trial or making a purchase, after clicking on our social media posts. This metric helps us understand the effectiveness of our social media efforts in driving conversions.\n",
       "\n",
       "5. Follower growth: We monitor the growth of our social media followers over time. This metric helps us assess the overall reach and impact of our social media marketing efforts.\n",
       "\n",
       "By analyzing these metrics and using data science techniques, we can identify which social media platforms, content types, and strategies are most effective in achieving our goals. This allows us to optimize our social media marketing efforts, create more engaging content, and build a strong online presence."
      ],
      "text/plain": [
       "<IPython.core.display.Markdown object>"
      ]
     },
     "metadata": {},
     "output_type": "display_data"
    }
   ],
   "source": [
    "# mprint(chain.exchange_history[-1].prompt)\n",
    "mprint(chain.exchange_history[-1].response)"
   ]
  },
  {
   "attachments": {},
   "cell_type": "markdown",
   "metadata": {},
   "source": [
    "---"
   ]
  }
 ],
 "metadata": {
  "kernelspec": {
   "display_name": "Python 3",
   "language": "python",
   "name": "python3"
  },
  "language_info": {
   "codemirror_mode": {
    "name": "ipython",
    "version": 3
   },
   "file_extension": ".py",
   "mimetype": "text/x-python",
   "name": "python",
   "nbconvert_exporter": "python",
   "pygments_lexer": "ipython3",
   "version": "3.11.4"
  },
  "orig_nbformat": 4
 },
 "nbformat": 4,
 "nbformat_minor": 2
}
