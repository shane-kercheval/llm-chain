{
 "cells": [
  {
   "cell_type": "code",
   "execution_count": 1,
   "metadata": {},
   "outputs": [],
   "source": [
    "from pprint import pprint"
   ]
  },
  {
   "attachments": {},
   "cell_type": "markdown",
   "metadata": {},
   "source": [
    "# DuckDuckGo Web-Search\n",
    "\n",
    "The following is an example of using DuckDuckGo to perform a web search."
   ]
  },
  {
   "cell_type": "code",
   "execution_count": 2,
   "metadata": {},
   "outputs": [
    {
     "data": {
      "text/plain": [
       "[{'title': 'Large language model - Wikipedia',\n",
       "  'href': 'https://en.wikipedia.org/wiki/Large_language_model',\n",
       "  'body': 'A large language model ( LLM) is a computerized language model consisting of an artificial neural network with many parameters (tens of millions to billions), trained on large quantities of unlabeled text containing up to trillions of tokens, using self-supervised learning or semi-supervised learning achieved by parallel computing. [1]'},\n",
       " {'title': 'What are LLMs, and how are they used in generative AI?',\n",
       "  'href': 'https://www.computerworld.com/article/3697649/what-are-large-language-models-and-how-are-they-used-in-generative-ai.html',\n",
       "  'body': \"Large language models are the algorithmic basis for chatbots like OpenAI's ChatGPT and Google's Bard. The technology is tied back to billions — even trillions — of parameters that can make them...\"},\n",
       " {'title': 'What is a large language model and how does it work? - Fast Company',\n",
       "  'href': 'https://www.fastcompany.com/90884581/what-is-a-large-language-model',\n",
       "  'body': 'Large language models are the foundational technology behind recent artificial intelligence advancements like ChatGPT.'}]"
      ]
     },
     "execution_count": 2,
     "metadata": {},
     "output_type": "execute_result"
    }
   ],
   "source": [
    "from llm_chain.tools import DuckDuckGoSearch\n",
    "\n",
    "duckduckgo_search = DuckDuckGoSearch(top_n=3)\n",
    "duckduckgo_search(\"What is a large language model?\")"
   ]
  },
  {
   "attachments": {},
   "cell_type": "markdown",
   "metadata": {},
   "source": [
    "The `duckduckgo_search` object has a `history` property that allows us to view the searches performed: "
   ]
  },
  {
   "cell_type": "code",
   "execution_count": 3,
   "metadata": {},
   "outputs": [
    {
     "name": "stdout",
     "output_type": "stream",
     "text": [
      "What is a large language model?\n",
      "[{'body': 'A large language model ( LLM) is a computerized language model '\n",
      "          'consisting of an artificial neural network with many parameters '\n",
      "          '(tens of millions to billions), trained on large quantities of '\n",
      "          'unlabeled text containing up to trillions of tokens, using '\n",
      "          'self-supervised learning or semi-supervised learning achieved by '\n",
      "          'parallel computing. [1]',\n",
      "  'href': 'https://en.wikipedia.org/wiki/Large_language_model',\n",
      "  'title': 'Large language model - Wikipedia'},\n",
      " {'body': 'Large language models are the algorithmic basis for chatbots like '\n",
      "          \"OpenAI's ChatGPT and Google's Bard. The technology is tied back to \"\n",
      "          'billions — even trillions — of parameters that can make them...',\n",
      "  'href': 'https://www.computerworld.com/article/3697649/what-are-large-language-models-and-how-are-they-used-in-generative-ai.html',\n",
      "  'title': 'What are LLMs, and how are they used in generative AI?'},\n",
      " {'body': 'Large language models are the foundational technology behind recent '\n",
      "          'artificial intelligence advancements like ChatGPT.',\n",
      "  'href': 'https://www.fastcompany.com/90884581/what-is-a-large-language-model',\n",
      "  'title': 'What is a large language model and how does it work? - Fast '\n",
      "           'Company'}]\n"
     ]
    }
   ],
   "source": [
    "print(duckduckgo_search.history[0].query)\n",
    "pprint(duckduckgo_search.history[0].results)"
   ]
  }
 ],
 "metadata": {
  "kernelspec": {
   "display_name": "Python 3",
   "language": "python",
   "name": "python3"
  },
  "language_info": {
   "codemirror_mode": {
    "name": "ipython",
    "version": 3
   },
   "file_extension": ".py",
   "mimetype": "text/x-python",
   "name": "python",
   "nbconvert_exporter": "python",
   "pygments_lexer": "ipython3",
   "version": "3.11.4"
  },
  "orig_nbformat": 4
 },
 "nbformat": 4,
 "nbformat_minor": 2
}
