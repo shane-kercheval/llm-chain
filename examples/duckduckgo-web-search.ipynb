{
 "cells": [
  {
   "cell_type": "code",
   "execution_count": 1,
   "metadata": {},
   "outputs": [],
   "source": [
    "from pprint import pprint"
   ]
  },
  {
   "attachments": {},
   "cell_type": "markdown",
   "metadata": {},
   "source": [
    "# DuckDuckGo Web-Search\n",
    "\n",
    "The following is an example of using DuckDuckGo to perform a web search."
   ]
  },
  {
   "cell_type": "code",
   "execution_count": 2,
   "metadata": {},
   "outputs": [
    {
     "data": {
      "text/plain": [
       "[{'title': 'Large language model - Wikipedia',\n",
       "  'href': 'https://en.wikipedia.org/wiki/Large_language_model',\n",
       "  'body': \"A large language model ( LLM) is a computerized language model, embodied by an artificial neural network using an enormous amount of 'parameters' (i.e 'neurons' in its layers with up to tens of millions to billions 'weights' between them), that are (pre-)trained on many GPUs in relatively short time due to massive parallel processing of vast amo...\"},\n",
       " {'title': 'What are Large Language Models - MachineLearningMastery.com',\n",
       "  'href': 'https://machinelearningmastery.com/what-are-large-language-models/',\n",
       "  'body': 'Large language models (LLMs) are recent advances in deep learning models to work on human languages. Some great use case of LLMs has been demonstrated. A large language model is a trained deep-learning model that understands and generates text in a human-like fashion. Behind the scene, it is a large transformer model that does all the magic.'},\n",
       " {'title': 'Introduction to Large Language Models - Baeldung',\n",
       "  'href': 'https://www.baeldung.com/cs/large-language-models',\n",
       "  'body': 'A quick and practical guide to Large Language Models. Natural Language Processing (NLP), is an interdisciplinary subfield of linguistics, computer science, and artificial intelligence.Its goal is for a computer to be able to understand texts and other media in their natural languages, including their contextual nuances.'}]"
      ]
     },
     "execution_count": 2,
     "metadata": {},
     "output_type": "execute_result"
    }
   ],
   "source": [
    "from llm_chain.tools import DuckDuckGoSearch\n",
    "\n",
    "duckduckgo_search = DuckDuckGoSearch(top_n=3)\n",
    "duckduckgo_search(\"What is a large language model?\")"
   ]
  },
  {
   "attachments": {},
   "cell_type": "markdown",
   "metadata": {},
   "source": [
    "The `duckduckgo_search` object has a `history` property that allows us to view the searches performed: "
   ]
  },
  {
   "cell_type": "code",
   "execution_count": 3,
   "metadata": {},
   "outputs": [
    {
     "name": "stdout",
     "output_type": "stream",
     "text": [
      "What is a large language model?\n",
      "[{'body': 'A large language model ( LLM) is a computerized language model, '\n",
      "          'embodied by an artificial neural network using an enormous amount '\n",
      "          \"of 'parameters' (i.e 'neurons' in its layers with up to tens of \"\n",
      "          \"millions to billions 'weights' between them), that are \"\n",
      "          '(pre-)trained on many GPUs in relatively short time due to massive '\n",
      "          'parallel processing of vast amo...',\n",
      "  'href': 'https://en.wikipedia.org/wiki/Large_language_model',\n",
      "  'title': 'Large language model - Wikipedia'},\n",
      " {'body': 'Large language models (LLMs) are recent advances in deep learning '\n",
      "          'models to work on human languages. Some great use case of LLMs has '\n",
      "          'been demonstrated. A large language model is a trained '\n",
      "          'deep-learning model that understands and generates text in a '\n",
      "          'human-like fashion. Behind the scene, it is a large transformer '\n",
      "          'model that does all the magic.',\n",
      "  'href': 'https://machinelearningmastery.com/what-are-large-language-models/',\n",
      "  'title': 'What are Large Language Models - MachineLearningMastery.com'},\n",
      " {'body': 'A quick and practical guide to Large Language Models. Natural '\n",
      "          'Language Processing (NLP), is an interdisciplinary subfield of '\n",
      "          'linguistics, computer science, and artificial intelligence.Its goal '\n",
      "          'is for a computer to be able to understand texts and other media in '\n",
      "          'their natural languages, including their contextual nuances.',\n",
      "  'href': 'https://www.baeldung.com/cs/large-language-models',\n",
      "  'title': 'Introduction to Large Language Models - Baeldung'}]\n"
     ]
    }
   ],
   "source": [
    "print(duckduckgo_search.history[0].query)\n",
    "pprint(duckduckgo_search.history[0].results)"
   ]
  }
 ],
 "metadata": {
  "kernelspec": {
   "display_name": "Python 3",
   "language": "python",
   "name": "python3"
  },
  "language_info": {
   "codemirror_mode": {
    "name": "ipython",
    "version": 3
   },
   "file_extension": ".py",
   "mimetype": "text/x-python",
   "name": "python",
   "nbconvert_exporter": "python",
   "pygments_lexer": "ipython3",
   "version": "3.11.4"
  },
  "orig_nbformat": 4
 },
 "nbformat": 4,
 "nbformat_minor": 2
}
